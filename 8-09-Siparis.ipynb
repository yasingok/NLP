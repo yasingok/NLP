{
 "cells": [
  {
   "cell_type": "code",
   "execution_count": 1,
   "metadata": {},
   "outputs": [
    {
     "name": "stderr",
     "output_type": "stream",
     "text": [
      "Using TensorFlow backend.\n"
     ]
    }
   ],
   "source": [
    "import json\n",
    "import pandas as pd\n",
    "import numpy as np\n",
    "import re\n",
    "import nltk\n",
    "from nltk.corpus import stopwords\n",
    "from numpy import array\n",
    "from keras.preprocessing.text import one_hot\n",
    "from keras.preprocessing.sequence import pad_sequences\n",
    "from keras.models import Sequential\n",
    "from keras.layers.core import Activation, Dropout, Dense\n",
    "from keras.layers import Flatten\n",
    "from keras.layers import GlobalMaxPooling1D\n",
    "from keras.layers.embeddings import Embedding\n",
    "from sklearn.model_selection import train_test_split\n",
    "from keras.preprocessing.text import Tokenizer"
   ]
  },
  {
   "cell_type": "code",
   "execution_count": 2,
   "metadata": {},
   "outputs": [],
   "source": [
    "with open('siparis.json',encoding=\"utf8\") as f:\n",
    "    data = json.load(f)\n"
   ]
  },
  {
   "cell_type": "code",
   "execution_count": 3,
   "metadata": {},
   "outputs": [
    {
     "data": {
      "text/plain": [
       "98342"
      ]
     },
     "execution_count": 3,
     "metadata": {},
     "output_type": "execute_result"
    }
   ],
   "source": [
    "df = pd.DataFrame(data,columns = ['Comment','Brand','Sector'])\n",
    "len(df)"
   ]
  },
  {
   "cell_type": "code",
   "execution_count": 4,
   "metadata": {},
   "outputs": [],
   "source": [
    "filter = df[\"Comment\"] != \"\"\n"
   ]
  },
  {
   "cell_type": "code",
   "execution_count": 5,
   "metadata": {},
   "outputs": [
    {
     "data": {
      "text/plain": [
       "True    98342\n",
       "Name: Comment, dtype: int64"
      ]
     },
     "execution_count": 5,
     "metadata": {},
     "output_type": "execute_result"
    }
   ],
   "source": [
    "filter.value_counts()"
   ]
  },
  {
   "cell_type": "code",
   "execution_count": 6,
   "metadata": {},
   "outputs": [
    {
     "data": {
      "text/plain": [
       "98342"
      ]
     },
     "execution_count": 6,
     "metadata": {},
     "output_type": "execute_result"
    }
   ],
   "source": [
    "df = df[filter]\n",
    "len(df)"
   ]
  },
  {
   "cell_type": "code",
   "execution_count": 7,
   "metadata": {},
   "outputs": [
    {
     "data": {
      "text/plain": [
       "98342"
      ]
     },
     "execution_count": 7,
     "metadata": {},
     "output_type": "execute_result"
    }
   ],
   "source": [
    "df = df.dropna() \n",
    "len(df)"
   ]
  },
  {
   "cell_type": "markdown",
   "metadata": {},
   "source": [
    "# Konu Basliklari"
   ]
  },
  {
   "cell_type": "code",
   "execution_count": 8,
   "metadata": {},
   "outputs": [],
   "source": [
    "#print(df.Brand.value_counts())\n",
    "#a = df.Brand.value_counts()"
   ]
  },
  {
   "cell_type": "code",
   "execution_count": 9,
   "metadata": {},
   "outputs": [],
   "source": [
    "df[\"Sector\"] = df.Brand.map(lambda sentences: None )"
   ]
  },
  {
   "cell_type": "code",
   "execution_count": 10,
   "metadata": {},
   "outputs": [],
   "source": [
    "taşıma_list = [\"Aras Kargo\",\"Sürat Kargo\",\"MNG Kargo\",\"Horoz Lojistik\",\"Trendyol Express\",\"UPS Türkiye\",\"hepsiJET\",\"Getir\"]\n",
    "for i in taşıma_list:\n",
    "    df.Sector[df.Brand == i ] = \"Taşıma\""
   ]
  },
  {
   "cell_type": "code",
   "execution_count": 11,
   "metadata": {},
   "outputs": [],
   "source": [
    "giyim_list = [\"Penti\",\"Boyner\",\"DeFacto\",\"Gratis\", \"LC Waikiki\",\"FLO Ayakkabı\",\"Bershka\"]\n",
    "for i in giyim_list:\n",
    "    df.Sector[df.Brand == i ] = \"Giyim\""
   ]
  },
  {
   "cell_type": "code",
   "execution_count": 12,
   "metadata": {},
   "outputs": [],
   "source": [
    "yemek_list = [\"Yemek Sepeti\",\"Domino's Pizza\",\"Protein Market\"]\n",
    "for i in yemek_list:\n",
    "    df.Sector[df.Brand == i ] = \"Yemek\""
   ]
  },
  {
   "cell_type": "code",
   "execution_count": 13,
   "metadata": {},
   "outputs": [],
   "source": [
    "teknoloji_list = [\"Media Markt\"]\n",
    "for i in teknoloji_list:\n",
    "    df.Sector[df.Brand == i ] = \"Teknoloji\""
   ]
  },
  {
   "cell_type": "code",
   "execution_count": 14,
   "metadata": {},
   "outputs": [],
   "source": [
    "ev_esyasi_list = [\"Evform\",\"Tekzen\",\"IKEA\"]\n",
    "for i in ev_esyasi_list:\n",
    "    df.Sector[df.Brand == i ] = \"EvEsyasi\""
   ]
  },
  {
   "cell_type": "code",
   "execution_count": 15,
   "metadata": {},
   "outputs": [],
   "source": [
    "kitap_list = [\"Kitap Seç\",\"Bkm Kitap\",\"D&R\"]\n",
    "for i in kitap_list:\n",
    "    df.Sector[df.Brand == i ] = \"Kitap\""
   ]
  },
  {
   "cell_type": "code",
   "execution_count": 16,
   "metadata": {},
   "outputs": [],
   "source": [
    "ticaret_sitesi_list = [\"Çiçek Sepeti\",\"N11\"]\n",
    "for i in ticaret_sitesi_list:\n",
    "    df.Sector[df.Brand == i ] = \"ETicaret\""
   ]
  },
  {
   "cell_type": "code",
   "execution_count": 17,
   "metadata": {},
   "outputs": [
    {
     "data": {
      "text/plain": [
       "True    98342\n",
       "Name: Sector, dtype: int64"
      ]
     },
     "execution_count": 17,
     "metadata": {},
     "output_type": "execute_result"
    }
   ],
   "source": [
    "filter = df[\"Sector\"] != \"\"\n",
    "filter.value_counts()"
   ]
  },
  {
   "cell_type": "code",
   "execution_count": 18,
   "metadata": {},
   "outputs": [
    {
     "data": {
      "text/plain": [
       "98342"
      ]
     },
     "execution_count": 18,
     "metadata": {},
     "output_type": "execute_result"
    }
   ],
   "source": [
    "df = df[filter]\n",
    "len(df)"
   ]
  },
  {
   "cell_type": "code",
   "execution_count": 19,
   "metadata": {},
   "outputs": [
    {
     "data": {
      "text/plain": [
       "Taşıma       22101\n",
       "Giyim        14658\n",
       "ETicaret      7583\n",
       "Yemek         2477\n",
       "Kitap         2475\n",
       "EvEsyasi      2297\n",
       "Teknoloji      646\n",
       "Name: Sector, dtype: int64"
      ]
     },
     "execution_count": 19,
     "metadata": {},
     "output_type": "execute_result"
    }
   ],
   "source": [
    "df1 = df.dropna()\n",
    "df1.Sector.value_counts()"
   ]
  },
  {
   "cell_type": "markdown",
   "metadata": {},
   "source": [
    "# Alt Konu Basliklari"
   ]
  },
  {
   "cell_type": "code",
   "execution_count": 20,
   "metadata": {},
   "outputs": [],
   "source": [
    "konu_list = [\"Giyim\",\"Taşıma\",\"Yemek\",\"Teknoloji\",\"Ev Eşyası\",\"Kitap\"]\n",
    "data_kitap = df1.Comment[df.Sector == \"Kitap\"]\n",
    "data_giyim = df1.Comment[df.Sector == \"Giyim\"]\n",
    "data_tasıma = df1.Comment[df.Sector == \"Taşıma\"]\n",
    "data_yemek = df1.Comment[df.Sector == \"Yemek\"]\n",
    "data_teknoloji = df1.Comment[df.Sector == \"Teknoloji\"]\n",
    "data_esya = df1.Comment[df.Sector == \"EvEsyasi\"]"
   ]
  },
  {
   "cell_type": "code",
   "execution_count": 21,
   "metadata": {},
   "outputs": [
    {
     "name": "stdout",
     "output_type": "stream",
     "text": [
      "Kitap  => 2475\n",
      "Giyim  => 14658\n",
      "Tasima => 22101\n",
      "Yemek => 2477\n",
      "Teknoloji => 646\n",
      "Esya => 2297\n"
     ]
    }
   ],
   "source": [
    "print(\"Kitap  =>\",len(data_kitap)) \n",
    "print(\"Giyim  =>\",len(data_giyim)) \n",
    "print(\"Tasima =>\",len(data_tasıma))  \n",
    "print(\"Yemek =>\",len(data_yemek))  \n",
    "print(\"Teknoloji =>\",len(data_teknoloji))  \n",
    "print(\"Esya =>\",len(data_esya))  "
   ]
  },
  {
   "cell_type": "code",
   "execution_count": 22,
   "metadata": {},
   "outputs": [],
   "source": [
    "def word_tokenize(sentence):\n",
    "    acronym_each_dot = r\"(?:[a-zğçşöüı]\\.){2,}\"\n",
    "    acronym_end_dot = r\"\\b[a-zğçşöüı]{2,3}\\.\"\n",
    "    suffixes = r\"[a-zğçşöüı]{3,}' ?[a-zğçşöüı]{0,3}\"\n",
    "    numbers = r\"\\d+[.,:\\d]+\"\n",
    "    any_word = r\"[a-zğçşöüı]+\"\n",
    "    punctuations = r\"[a-zğçşöüı]*[.,!?;:]\"\n",
    "    word_regex = \"|\".join([acronym_each_dot,acronym_end_dot,suffixes,numbers,any_word,punctuations])\n",
    "    sentence = re.compile(\"%s\"%word_regex, re.I).findall(sentence)\n",
    "    return sentence"
   ]
  },
  {
   "cell_type": "code",
   "execution_count": 23,
   "metadata": {},
   "outputs": [],
   "source": [
    "def initial_clean(text):\n",
    "    #text = re.sub(\"[^a-zA-Z ]\", \"\", text)\n",
    "    text = text.lower() # lower case text\n",
    "    #print(text)\n",
    "    text = nltk.word_tokenize(text)\n",
    "    return text"
   ]
  },
  {
   "cell_type": "code",
   "execution_count": 24,
   "metadata": {},
   "outputs": [
    {
     "data": {
      "text/plain": [
       "['verdiğim']"
      ]
     },
     "execution_count": 24,
     "metadata": {},
     "output_type": "execute_result"
    }
   ],
   "source": [
    "initial_clean('verdiğim')"
   ]
  },
  {
   "cell_type": "code",
   "execution_count": 25,
   "metadata": {},
   "outputs": [],
   "source": [
    "\n",
    "#!/usr/bin/env python\n",
    "import re\n",
    "\n",
    "def deEmoji(text):\n",
    "\n",
    "    emoji_pattern = re.compile(\"[\"\n",
    "          u\"\\U0001F600-\\U0001F64F\"  # emoticons\n",
    "          u\"\\U0001F300-\\U0001F5FF\"  # symbols & pictographs\n",
    "          u\"\\U0001F680-\\U0001F6FF\"  # transport & map symbols\n",
    "          u\"\\U0001F1E0-\\U0001F1FF\"  # flags (iOS)\n",
    "                            \"]+\", flags=re.UNICODE)\n",
    "    return str(emoji_pattern.sub('', text) )# no emoji"
   ]
  },
  {
   "cell_type": "code",
   "execution_count": 26,
   "metadata": {},
   "outputs": [
    {
     "data": {
      "text/plain": [
       "['son', 'aldığım', 'ürün', 'henüz', 'elime', 'ulaşmadı']"
      ]
     },
     "execution_count": 26,
     "metadata": {},
     "output_type": "execute_result"
    }
   ],
   "source": [
    "text = \"Son aldığım ürün henüz elime ulaşmadı\"\n",
    "initial_clean(text)\n",
    "['son', 'aldığım', 'ürün', 'henüz', 'elime', 'ulaşmadı']"
   ]
  },
  {
   "cell_type": "code",
   "execution_count": 27,
   "metadata": {},
   "outputs": [],
   "source": [
    "#Türkçe için stopwords listesi\n",
    "with open('turkce-stop-words', 'r') as f:\n",
    "    myList = [line.strip() for line in f]"
   ]
  },
  {
   "cell_type": "code",
   "execution_count": 28,
   "metadata": {},
   "outputs": [],
   "source": [
    "def remove_stop_words(text):\n",
    "    stop_words = myList \n",
    "    return [word for word in text if word not in stop_words]"
   ]
  },
  {
   "cell_type": "code",
   "execution_count": 29,
   "metadata": {},
   "outputs": [],
   "source": [
    "def apply_all(text):\n",
    "    return remove_stop_words(initial_clean(deEmoji(text)))"
   ]
  },
  {
   "cell_type": "code",
   "execution_count": 30,
   "metadata": {},
   "outputs": [
    {
     "name": "stdout",
     "output_type": "stream",
     "text": [
      "prerocess ve tokenize için geçen süre 2477 texts: 0.06023606061935425 min\n"
     ]
    }
   ],
   "source": [
    "import time\n",
    "t1 = time.time()\n",
    "data_yemek_clean= data_yemek.apply(apply_all) #kirli veri seti ->>>> normalize edilmiş veri seti\n",
    "t2 = time.time()\n",
    "print(\"prerocess ve tokenize için geçen süre\", len(data_yemek), \"texts:\", (t2-t1)/60, \"min\") "
   ]
  },
  {
   "cell_type": "code",
   "execution_count": 31,
   "metadata": {},
   "outputs": [],
   "source": [
    "data_yemek_clean = data_yemek_clean.map(lambda values: ' '.join([str(elem) for elem in values]) )      "
   ]
  },
  {
   "cell_type": "code",
   "execution_count": 36,
   "metadata": {},
   "outputs": [],
   "source": [
    "# Bu satirdan once asagidaki Normalization satirlarini calistir\n",
    "data_yemek_clean = data_yemek_clean.map(lambda values: Zemberek_lemmatization(values) )"
   ]
  },
  {
   "cell_type": "code",
   "execution_count": 37,
   "metadata": {},
   "outputs": [
    {
     "data": {
      "text/plain": [
       "2477"
      ]
     },
     "execution_count": 37,
     "metadata": {},
     "output_type": "execute_result"
    }
   ],
   "source": [
    "len(data_yemek_clean)"
   ]
  },
  {
   "cell_type": "markdown",
   "metadata": {},
   "source": [
    "# Normalization"
   ]
  },
  {
   "cell_type": "code",
   "execution_count": 32,
   "metadata": {},
   "outputs": [],
   "source": [
    "#https://medium.com/@melikebektas95/zemberek-k%C3%BCt%C3%BCphanesi-ile-t%C3%BCrk%C3%A7e-metinlerde-kelime-k%C3%B6klerinin-bulunmas%C4%B1-6ddd3a875d5f\n",
    "from typing import List\n",
    "from jpype import JClass, JString, getDefaultJVMPath, shutdownJVM, startJVM, java"
   ]
  },
  {
   "cell_type": "code",
   "execution_count": 33,
   "metadata": {},
   "outputs": [],
   "source": [
    "ZEMBEREK_PATH = r'C:\\Users\\yasin\\Desktop\\NLP course\\zemberek-full.jar'\n",
    "startJVM(getDefaultJVMPath(), '-ea', '-Djava.class.path=%s' % (ZEMBEREK_PATH))"
   ]
  },
  {
   "cell_type": "code",
   "execution_count": 34,
   "metadata": {},
   "outputs": [],
   "source": [
    "TurkishMorphology = JClass('zemberek.morphology.TurkishMorphology')\n",
    "morphology = TurkishMorphology.createWithDefaults()"
   ]
  },
  {
   "cell_type": "code",
   "execution_count": 35,
   "metadata": {},
   "outputs": [],
   "source": [
    "kelimeler = 'arabacı ilişkilendiremediklerimiz gözlük gözlem'\n",
    "def Zemberek_lemmatization(text):\n",
    "    analysis: java.util.ArrayList = (\n",
    "        morphology.analyzeAndDisambiguate(text).bestAnalysis()\n",
    "        )\n",
    "    #pos: List[str] = []\n",
    "    stemma: List[str] = []\n",
    "\n",
    "    for i, analysis in enumerate(analysis, start=1):\n",
    "        f'\\nAnalysis {i}: {analysis}',\n",
    "        f'\\nPrimary POS {i}: {analysis.getPos()}'\n",
    "        f'\\nPrimary POS (Short Form) {i}: {analysis.getPos().shortForm}'\n",
    "\n",
    "        #pos.append( f'{str(analysis.getLemmas()[0])}')\n",
    "        stemma.append(f'{str(analysis.getStems()[0])}')\n",
    "    #print(f'\\n Kelime Kökleri: {\" \".join(pos)}')\n",
    "    #print(f'\\n Kelime Kökleri: {\" \".join(stemma)}')\n",
    "    return \" \".join(stemma)\n"
   ]
  },
  {
   "cell_type": "markdown",
   "metadata": {},
   "source": [
    "# LDA\n"
   ]
  },
  {
   "cell_type": "code",
   "execution_count": 150,
   "metadata": {},
   "outputs": [],
   "source": [
    "from sklearn.feature_extraction.text import CountVectorizer\n",
    "stop_words = open('turkce-stop-words', 'r',encoding ='utf-8').read().split()\n",
    "cv = CountVectorizer(max_df=0.5,min_df=5, stop_words=stop_words)\n",
    "dtm  = cv.fit_transform(data_yemek_clean)"
   ]
  },
  {
   "cell_type": "code",
   "execution_count": 151,
   "metadata": {
    "scrolled": false
   },
   "outputs": [
    {
     "name": "stdout",
     "output_type": "stream",
     "text": [
      "The topic would be 0\n",
      "['uygula', 'durum', '10', 'geri', 'çık', 'çalış', 'getir', 'ücret', 'kullan', 'numara', 'iş', 'zaman', '30', 'hizmet', 'ulaş', 'kargo', 'restoran', 'telefon', 'üzeri', 'bekle', 'yaz', 'tl', 'di', 'tarih', 'firma', '2020', 'iste', 'gönder', 'domino', 'şikayet', 'geç', 'müşteri', 'öde', 'ürün', 'yok', 'dakika', 'iade', 'gün', 'söyle', 'saat', 'şube', 'iptal', 'et', 'al', 'pizza', 'para', 'sepet', 'ara', 'ed', 'yemek']\n",
      "\n",
      "\n"
     ]
    }
   ],
   "source": [
    "from sklearn.decomposition import LatentDirichletAllocation\n",
    "lda = LatentDirichletAllocation(n_components=1,random_state=None)\n",
    "\n",
    "lda_fit  = lda.fit(dtm)\n",
    "\n",
    "# understanding each topics top 10 common words  \n",
    "for id_value, value in enumerate(lda_fit.components_):\n",
    "    print(f\"The topic would be {id_value}\") \n",
    "    print([cv.get_feature_names()[index] for index in value.argsort()   [-50:]])\n",
    "    print(\"\\n\")"
   ]
  },
  {
   "cell_type": "code",
   "execution_count": 40,
   "metadata": {},
   "outputs": [],
   "source": [
    "# fiyat islem kazan talep kotu menu koy yorum indirim kampanya yogun hata kurye kart\n",
    "#ucret numara restoran telefon tl   ode iade dakika sube gun iptal para "
   ]
  },
  {
   "cell_type": "code",
   "execution_count": 41,
   "metadata": {
    "scrolled": false
   },
   "outputs": [
    {
     "name": "stdout",
     "output_type": "stream",
     "text": [
      "Count =  776\n"
     ]
    }
   ],
   "source": [
    "word_list: List[str] = []\n",
    "count = 0\n",
    "for i in data_yemek:\n",
    "    if ' para' in i:\n",
    "        word_list.append(i)\n",
    "        #print(i+\"\\n===============================================\")\n",
    "        count = count+1\n",
    "print(\"Count = \", count)   "
   ]
  },
  {
   "cell_type": "code",
   "execution_count": 276,
   "metadata": {
    "scrolled": false
   },
   "outputs": [],
   "source": [
    "#for i in word_list:    \n",
    "    #print(i+\"\\n===============================================\")\n"
   ]
  },
  {
   "cell_type": "code",
   "execution_count": null,
   "metadata": {},
   "outputs": [],
   "source": []
  },
  {
   "cell_type": "code",
   "execution_count": 44,
   "metadata": {},
   "outputs": [
    {
     "data": {
      "text/plain": [
       "52237"
      ]
     },
     "execution_count": 44,
     "metadata": {},
     "output_type": "execute_result"
    }
   ],
   "source": [
    "df_model = pd.DataFrame(df1,columns = [\"Comment\",\"Brand\",\"Sector\",\"Zamaninda Teslimat\",\"Ödeme\",\"Müşteri Hizmetleri\",\"Kampanya\",\"Doğru Sipariş\",\"İade\",\"Ürün Memnuniyeti\"])\n",
    "\n",
    "\n",
    "len(df_model)"
   ]
  },
  {
   "cell_type": "code",
   "execution_count": 45,
   "metadata": {},
   "outputs": [],
   "source": [
    "konu_list = [\"Zamaninda Teslimat\",\"Ödeme\",\"Müşteri Hizmetleri\",\"Kampanya\",\"Doğru Sipariş\",\"İade\",\"Ürün Memnuniyeti\"]\n"
   ]
  },
  {
   "cell_type": "code",
   "execution_count": 46,
   "metadata": {},
   "outputs": [],
   "source": [
    "for i in konu_list:\n",
    "    df_model[i] = df_model[i].map(lambda a: 0)"
   ]
  },
  {
   "cell_type": "code",
   "execution_count": 47,
   "metadata": {},
   "outputs": [],
   "source": [
    "#df_model"
   ]
  },
  {
   "cell_type": "code",
   "execution_count": 48,
   "metadata": {},
   "outputs": [],
   "source": [
    "df_yemek = df_model[df_model.Sector == \"Yemek\"]\n"
   ]
  },
  {
   "cell_type": "code",
   "execution_count": 49,
   "metadata": {},
   "outputs": [
    {
     "data": {
      "text/html": [
       "<div>\n",
       "<style scoped>\n",
       "    .dataframe tbody tr th:only-of-type {\n",
       "        vertical-align: middle;\n",
       "    }\n",
       "\n",
       "    .dataframe tbody tr th {\n",
       "        vertical-align: top;\n",
       "    }\n",
       "\n",
       "    .dataframe thead th {\n",
       "        text-align: right;\n",
       "    }\n",
       "</style>\n",
       "<table border=\"1\" class=\"dataframe\">\n",
       "  <thead>\n",
       "    <tr style=\"text-align: right;\">\n",
       "      <th></th>\n",
       "      <th>Comment</th>\n",
       "      <th>Brand</th>\n",
       "      <th>Sector</th>\n",
       "      <th>Zamaninda Teslimat</th>\n",
       "      <th>Ödeme</th>\n",
       "      <th>Müşteri Hizmetleri</th>\n",
       "      <th>Kampanya</th>\n",
       "      <th>Doğru Sipariş</th>\n",
       "      <th>İade</th>\n",
       "      <th>Ürün Memnuniyeti</th>\n",
       "    </tr>\n",
       "  </thead>\n",
       "  <tbody>\n",
       "    <tr>\n",
       "      <th>60</th>\n",
       "      <td>Saat 01:04 te verdiğim sipariş için tam 32 dak...</td>\n",
       "      <td>Domino's Pizza</td>\n",
       "      <td>Yemek</td>\n",
       "      <td>0</td>\n",
       "      <td>0</td>\n",
       "      <td>0</td>\n",
       "      <td>0</td>\n",
       "      <td>0</td>\n",
       "      <td>0</td>\n",
       "      <td>0</td>\n",
       "    </tr>\n",
       "    <tr>\n",
       "      <th>64</th>\n",
       "      <td>Ben Samsun'dayken Yemek Sepeti'nden 3 tane dür...</td>\n",
       "      <td>Yemek Sepeti</td>\n",
       "      <td>Yemek</td>\n",
       "      <td>0</td>\n",
       "      <td>0</td>\n",
       "      <td>0</td>\n",
       "      <td>0</td>\n",
       "      <td>0</td>\n",
       "      <td>0</td>\n",
       "      <td>0</td>\n",
       "    </tr>\n",
       "    <tr>\n",
       "      <th>67</th>\n",
       "      <td>Bu akşam saat 22.15 sularında Ankara Eryaman ş...</td>\n",
       "      <td>Yemek Sepeti</td>\n",
       "      <td>Yemek</td>\n",
       "      <td>0</td>\n",
       "      <td>0</td>\n",
       "      <td>0</td>\n",
       "      <td>0</td>\n",
       "      <td>0</td>\n",
       "      <td>0</td>\n",
       "      <td>0</td>\n",
       "    </tr>\n",
       "    <tr>\n",
       "      <th>75</th>\n",
       "      <td>Popeyes'den sipariş verdim. 40 dakika sonra Ye...</td>\n",
       "      <td>Yemek Sepeti</td>\n",
       "      <td>Yemek</td>\n",
       "      <td>0</td>\n",
       "      <td>0</td>\n",
       "      <td>0</td>\n",
       "      <td>0</td>\n",
       "      <td>0</td>\n",
       "      <td>0</td>\n",
       "      <td>0</td>\n",
       "    </tr>\n",
       "    <tr>\n",
       "      <th>76</th>\n",
       "      <td>Saat 22:13 de Domino's Pizza Gebze mutlukent ş...</td>\n",
       "      <td>Domino's Pizza</td>\n",
       "      <td>Yemek</td>\n",
       "      <td>0</td>\n",
       "      <td>0</td>\n",
       "      <td>0</td>\n",
       "      <td>0</td>\n",
       "      <td>0</td>\n",
       "      <td>0</td>\n",
       "      <td>0</td>\n",
       "    </tr>\n",
       "    <tr>\n",
       "      <th>78</th>\n",
       "      <td>Merhaba 22 Ağustos saat 23 civarlarında bir re...</td>\n",
       "      <td>Yemek Sepeti</td>\n",
       "      <td>Yemek</td>\n",
       "      <td>0</td>\n",
       "      <td>0</td>\n",
       "      <td>0</td>\n",
       "      <td>0</td>\n",
       "      <td>0</td>\n",
       "      <td>0</td>\n",
       "      <td>0</td>\n",
       "    </tr>\n",
       "    <tr>\n",
       "      <th>87</th>\n",
       "      <td>1. Dükkandan alışveriş yaparken online kredi k...</td>\n",
       "      <td>Yemek Sepeti</td>\n",
       "      <td>Yemek</td>\n",
       "      <td>0</td>\n",
       "      <td>0</td>\n",
       "      <td>0</td>\n",
       "      <td>0</td>\n",
       "      <td>0</td>\n",
       "      <td>0</td>\n",
       "      <td>0</td>\n",
       "    </tr>\n",
       "    <tr>\n",
       "      <th>97</th>\n",
       "      <td>20 30 da arayıp sipariş vermek istiyorum 1 saa...</td>\n",
       "      <td>Domino's Pizza</td>\n",
       "      <td>Yemek</td>\n",
       "      <td>0</td>\n",
       "      <td>0</td>\n",
       "      <td>0</td>\n",
       "      <td>0</td>\n",
       "      <td>0</td>\n",
       "      <td>0</td>\n",
       "      <td>0</td>\n",
       "    </tr>\n",
       "    <tr>\n",
       "      <th>121</th>\n",
       "      <td>Ben Ye Kazan kampanyasına üye oluyorum. Pizza ...</td>\n",
       "      <td>Domino's Pizza</td>\n",
       "      <td>Yemek</td>\n",
       "      <td>0</td>\n",
       "      <td>0</td>\n",
       "      <td>0</td>\n",
       "      <td>0</td>\n",
       "      <td>0</td>\n",
       "      <td>0</td>\n",
       "      <td>0</td>\n",
       "    </tr>\n",
       "    <tr>\n",
       "      <th>127</th>\n",
       "      <td>Verdiğim bir sipariş sonrası canlı görüşme ola...</td>\n",
       "      <td>Yemek Sepeti</td>\n",
       "      <td>Yemek</td>\n",
       "      <td>0</td>\n",
       "      <td>0</td>\n",
       "      <td>0</td>\n",
       "      <td>0</td>\n",
       "      <td>0</td>\n",
       "      <td>0</td>\n",
       "      <td>0</td>\n",
       "    </tr>\n",
       "    <tr>\n",
       "      <th>132</th>\n",
       "      <td>22 Ağustos akşam 16:20 civarında Papa John's P...</td>\n",
       "      <td>Yemek Sepeti</td>\n",
       "      <td>Yemek</td>\n",
       "      <td>0</td>\n",
       "      <td>0</td>\n",
       "      <td>0</td>\n",
       "      <td>0</td>\n",
       "      <td>0</td>\n",
       "      <td>0</td>\n",
       "      <td>0</td>\n",
       "    </tr>\n",
       "    <tr>\n",
       "      <th>142</th>\n",
       "      <td>Yemek Sepeti uygulaması üzerinden Özsüt 'ten t...</td>\n",
       "      <td>Yemek Sepeti</td>\n",
       "      <td>Yemek</td>\n",
       "      <td>0</td>\n",
       "      <td>0</td>\n",
       "      <td>0</td>\n",
       "      <td>0</td>\n",
       "      <td>0</td>\n",
       "      <td>0</td>\n",
       "      <td>0</td>\n",
       "    </tr>\n",
       "    <tr>\n",
       "      <th>156</th>\n",
       "      <td>Yemek Sepeti ile aracılığı ile sipariş ettiğim...</td>\n",
       "      <td>Yemek Sepeti</td>\n",
       "      <td>Yemek</td>\n",
       "      <td>0</td>\n",
       "      <td>0</td>\n",
       "      <td>0</td>\n",
       "      <td>0</td>\n",
       "      <td>0</td>\n",
       "      <td>0</td>\n",
       "      <td>0</td>\n",
       "    </tr>\n",
       "    <tr>\n",
       "      <th>185</th>\n",
       "      <td>Pizza siparişi verdim iki kez kartımdan ödeme ...</td>\n",
       "      <td>Yemek Sepeti</td>\n",
       "      <td>Yemek</td>\n",
       "      <td>0</td>\n",
       "      <td>0</td>\n",
       "      <td>0</td>\n",
       "      <td>0</td>\n",
       "      <td>0</td>\n",
       "      <td>0</td>\n",
       "      <td>0</td>\n",
       "    </tr>\n",
       "    <tr>\n",
       "      <th>187</th>\n",
       "      <td>Yemek Sepeti aracılığıyla PizzaLazza Kurtköy ş...</td>\n",
       "      <td>Yemek Sepeti</td>\n",
       "      <td>Yemek</td>\n",
       "      <td>0</td>\n",
       "      <td>0</td>\n",
       "      <td>0</td>\n",
       "      <td>0</td>\n",
       "      <td>0</td>\n",
       "      <td>0</td>\n",
       "      <td>0</td>\n",
       "    </tr>\n",
       "    <tr>\n",
       "      <th>209</th>\n",
       "      <td>Domino's Kıraç şubesinden aldığım pizzaya ekst...</td>\n",
       "      <td>Domino's Pizza</td>\n",
       "      <td>Yemek</td>\n",
       "      <td>0</td>\n",
       "      <td>0</td>\n",
       "      <td>0</td>\n",
       "      <td>0</td>\n",
       "      <td>0</td>\n",
       "      <td>0</td>\n",
       "      <td>0</td>\n",
       "    </tr>\n",
       "    <tr>\n",
       "      <th>275</th>\n",
       "      <td>Müşteri hizmetleri sırf fazladan sipariş verdi...</td>\n",
       "      <td>Yemek Sepeti</td>\n",
       "      <td>Yemek</td>\n",
       "      <td>0</td>\n",
       "      <td>0</td>\n",
       "      <td>0</td>\n",
       "      <td>0</td>\n",
       "      <td>0</td>\n",
       "      <td>0</td>\n",
       "      <td>0</td>\n",
       "    </tr>\n",
       "    <tr>\n",
       "      <th>280</th>\n",
       "      <td>Ne zaman online olarak Yemek Sepeti aracılığı ...</td>\n",
       "      <td>Yemek Sepeti</td>\n",
       "      <td>Yemek</td>\n",
       "      <td>0</td>\n",
       "      <td>0</td>\n",
       "      <td>0</td>\n",
       "      <td>0</td>\n",
       "      <td>0</td>\n",
       "      <td>0</td>\n",
       "      <td>0</td>\n",
       "    </tr>\n",
       "    <tr>\n",
       "      <th>395</th>\n",
       "      <td>Dün akşama doğru Yemek Sepeti üzerinden Burger...</td>\n",
       "      <td>Yemek Sepeti</td>\n",
       "      <td>Yemek</td>\n",
       "      <td>0</td>\n",
       "      <td>0</td>\n",
       "      <td>0</td>\n",
       "      <td>0</td>\n",
       "      <td>0</td>\n",
       "      <td>0</td>\n",
       "      <td>0</td>\n",
       "    </tr>\n",
       "    <tr>\n",
       "      <th>406</th>\n",
       "      <td>Büyükçekmece Domino's Pizza 2. Kez siparişlerd...</td>\n",
       "      <td>Domino's Pizza</td>\n",
       "      <td>Yemek</td>\n",
       "      <td>0</td>\n",
       "      <td>0</td>\n",
       "      <td>0</td>\n",
       "      <td>0</td>\n",
       "      <td>0</td>\n",
       "      <td>0</td>\n",
       "      <td>0</td>\n",
       "    </tr>\n",
       "    <tr>\n",
       "      <th>408</th>\n",
       "      <td>Bugününe kadar Yemek Sepeti'nden çokça alışver...</td>\n",
       "      <td>Yemek Sepeti</td>\n",
       "      <td>Yemek</td>\n",
       "      <td>0</td>\n",
       "      <td>0</td>\n",
       "      <td>0</td>\n",
       "      <td>0</td>\n",
       "      <td>0</td>\n",
       "      <td>0</td>\n",
       "      <td>0</td>\n",
       "    </tr>\n",
       "    <tr>\n",
       "      <th>414</th>\n",
       "      <td>Sevgili Yemek Sepeti yöneticileri eşimin Yemek...</td>\n",
       "      <td>Yemek Sepeti</td>\n",
       "      <td>Yemek</td>\n",
       "      <td>0</td>\n",
       "      <td>0</td>\n",
       "      <td>0</td>\n",
       "      <td>0</td>\n",
       "      <td>0</td>\n",
       "      <td>0</td>\n",
       "      <td>0</td>\n",
       "    </tr>\n",
       "    <tr>\n",
       "      <th>416</th>\n",
       "      <td>İlk kez Yemek Sepeti sisteminden Amanos Buca D...</td>\n",
       "      <td>Yemek Sepeti</td>\n",
       "      <td>Yemek</td>\n",
       "      <td>0</td>\n",
       "      <td>0</td>\n",
       "      <td>0</td>\n",
       "      <td>0</td>\n",
       "      <td>0</td>\n",
       "      <td>0</td>\n",
       "      <td>0</td>\n",
       "    </tr>\n",
       "    <tr>\n",
       "      <th>430</th>\n",
       "      <td>Aga ileri tarihli gece 2ye sipariş geçiyoruz. ...</td>\n",
       "      <td>Yemek Sepeti</td>\n",
       "      <td>Yemek</td>\n",
       "      <td>0</td>\n",
       "      <td>0</td>\n",
       "      <td>0</td>\n",
       "      <td>0</td>\n",
       "      <td>0</td>\n",
       "      <td>0</td>\n",
       "      <td>0</td>\n",
       "    </tr>\n",
       "    <tr>\n",
       "      <th>448</th>\n",
       "      <td>Süreci aşağıda detaylı yazdım. Okumak istemeye...</td>\n",
       "      <td>Protein Market</td>\n",
       "      <td>Yemek</td>\n",
       "      <td>0</td>\n",
       "      <td>0</td>\n",
       "      <td>0</td>\n",
       "      <td>0</td>\n",
       "      <td>0</td>\n",
       "      <td>0</td>\n",
       "      <td>0</td>\n",
       "    </tr>\n",
       "    <tr>\n",
       "      <th>502</th>\n",
       "      <td>Domino's Pizza üzerinden yine bir sipariş verd...</td>\n",
       "      <td>Domino's Pizza</td>\n",
       "      <td>Yemek</td>\n",
       "      <td>0</td>\n",
       "      <td>0</td>\n",
       "      <td>0</td>\n",
       "      <td>0</td>\n",
       "      <td>0</td>\n",
       "      <td>0</td>\n",
       "      <td>0</td>\n",
       "    </tr>\n",
       "    <tr>\n",
       "      <th>510</th>\n",
       "      <td>Denizli Albayrak şubesinden siparişim 40 dakik...</td>\n",
       "      <td>Domino's Pizza</td>\n",
       "      <td>Yemek</td>\n",
       "      <td>0</td>\n",
       "      <td>0</td>\n",
       "      <td>0</td>\n",
       "      <td>0</td>\n",
       "      <td>0</td>\n",
       "      <td>0</td>\n",
       "      <td>0</td>\n",
       "    </tr>\n",
       "    <tr>\n",
       "      <th>547</th>\n",
       "      <td>İstanbul Fatih akşemsettin şubesinde ki Domino...</td>\n",
       "      <td>Domino's Pizza</td>\n",
       "      <td>Yemek</td>\n",
       "      <td>0</td>\n",
       "      <td>0</td>\n",
       "      <td>0</td>\n",
       "      <td>0</td>\n",
       "      <td>0</td>\n",
       "      <td>0</td>\n",
       "      <td>0</td>\n",
       "    </tr>\n",
       "    <tr>\n",
       "      <th>550</th>\n",
       "      <td>26 Haziranda vermiş olduğum sipariş gelmediği ...</td>\n",
       "      <td>Protein Market</td>\n",
       "      <td>Yemek</td>\n",
       "      <td>0</td>\n",
       "      <td>0</td>\n",
       "      <td>0</td>\n",
       "      <td>0</td>\n",
       "      <td>0</td>\n",
       "      <td>0</td>\n",
       "      <td>0</td>\n",
       "    </tr>\n",
       "    <tr>\n",
       "      <th>553</th>\n",
       "      <td>Siparişimi verdikten sonra kurye arayıp sipari...</td>\n",
       "      <td>Yemek Sepeti</td>\n",
       "      <td>Yemek</td>\n",
       "      <td>0</td>\n",
       "      <td>0</td>\n",
       "      <td>0</td>\n",
       "      <td>0</td>\n",
       "      <td>0</td>\n",
       "      <td>0</td>\n",
       "      <td>0</td>\n",
       "    </tr>\n",
       "    <tr>\n",
       "      <th>...</th>\n",
       "      <td>...</td>\n",
       "      <td>...</td>\n",
       "      <td>...</td>\n",
       "      <td>...</td>\n",
       "      <td>...</td>\n",
       "      <td>...</td>\n",
       "      <td>...</td>\n",
       "      <td>...</td>\n",
       "      <td>...</td>\n",
       "      <td>...</td>\n",
       "    </tr>\n",
       "    <tr>\n",
       "      <th>97341</th>\n",
       "      <td>Uygulamayı indirip, ye - kazan kampanyasına ka...</td>\n",
       "      <td>Domino's Pizza</td>\n",
       "      <td>Yemek</td>\n",
       "      <td>0</td>\n",
       "      <td>0</td>\n",
       "      <td>0</td>\n",
       "      <td>0</td>\n",
       "      <td>0</td>\n",
       "      <td>0</td>\n",
       "      <td>0</td>\n",
       "    </tr>\n",
       "    <tr>\n",
       "      <th>97345</th>\n",
       "      <td>Sipariş veriyoruz, restoran iptal ediyor.Sanal...</td>\n",
       "      <td>Yemek Sepeti</td>\n",
       "      <td>Yemek</td>\n",
       "      <td>0</td>\n",
       "      <td>0</td>\n",
       "      <td>0</td>\n",
       "      <td>0</td>\n",
       "      <td>0</td>\n",
       "      <td>0</td>\n",
       "      <td>0</td>\n",
       "    </tr>\n",
       "    <tr>\n",
       "      <th>97354</th>\n",
       "      <td>30dk garantisi verdiğiniz halde 5F20F8 takip k...</td>\n",
       "      <td>Domino's Pizza</td>\n",
       "      <td>Yemek</td>\n",
       "      <td>0</td>\n",
       "      <td>0</td>\n",
       "      <td>0</td>\n",
       "      <td>0</td>\n",
       "      <td>0</td>\n",
       "      <td>0</td>\n",
       "      <td>0</td>\n",
       "    </tr>\n",
       "    <tr>\n",
       "      <th>97520</th>\n",
       "      <td>Domino's Pizza ana sayfada reklam gördüm filmb...</td>\n",
       "      <td>Domino's Pizza</td>\n",
       "      <td>Yemek</td>\n",
       "      <td>0</td>\n",
       "      <td>0</td>\n",
       "      <td>0</td>\n",
       "      <td>0</td>\n",
       "      <td>0</td>\n",
       "      <td>0</td>\n",
       "      <td>0</td>\n",
       "    </tr>\n",
       "    <tr>\n",
       "      <th>97529</th>\n",
       "      <td>Tekirdağ/Çorlu şubenize, sürekli Yemek Sepeti'...</td>\n",
       "      <td>Domino's Pizza</td>\n",
       "      <td>Yemek</td>\n",
       "      <td>0</td>\n",
       "      <td>0</td>\n",
       "      <td>0</td>\n",
       "      <td>0</td>\n",
       "      <td>0</td>\n",
       "      <td>0</td>\n",
       "      <td>0</td>\n",
       "    </tr>\n",
       "    <tr>\n",
       "      <th>97700</th>\n",
       "      <td>Yemek Sepeti üzerinden verdiğim büyük boy süpe...</td>\n",
       "      <td>Domino's Pizza</td>\n",
       "      <td>Yemek</td>\n",
       "      <td>0</td>\n",
       "      <td>0</td>\n",
       "      <td>0</td>\n",
       "      <td>0</td>\n",
       "      <td>0</td>\n",
       "      <td>0</td>\n",
       "      <td>0</td>\n",
       "    </tr>\n",
       "    <tr>\n",
       "      <th>97758</th>\n",
       "      <td>Malzemeden kısıyorlar. Kavurmalı söyledim. İna...</td>\n",
       "      <td>Domino's Pizza</td>\n",
       "      <td>Yemek</td>\n",
       "      <td>0</td>\n",
       "      <td>0</td>\n",
       "      <td>0</td>\n",
       "      <td>0</td>\n",
       "      <td>0</td>\n",
       "      <td>0</td>\n",
       "      <td>0</td>\n",
       "    </tr>\n",
       "    <tr>\n",
       "      <th>97842</th>\n",
       "      <td>Diyarbakır Diclekent semtindeki Domino's Pizza...</td>\n",
       "      <td>Domino's Pizza</td>\n",
       "      <td>Yemek</td>\n",
       "      <td>0</td>\n",
       "      <td>0</td>\n",
       "      <td>0</td>\n",
       "      <td>0</td>\n",
       "      <td>0</td>\n",
       "      <td>0</td>\n",
       "      <td>0</td>\n",
       "    </tr>\n",
       "    <tr>\n",
       "      <th>97864</th>\n",
       "      <td>25 Mayıs 23.56 da siparişimi verdim 40 dakikay...</td>\n",
       "      <td>Domino's Pizza</td>\n",
       "      <td>Yemek</td>\n",
       "      <td>0</td>\n",
       "      <td>0</td>\n",
       "      <td>0</td>\n",
       "      <td>0</td>\n",
       "      <td>0</td>\n",
       "      <td>0</td>\n",
       "      <td>0</td>\n",
       "    </tr>\n",
       "    <tr>\n",
       "      <th>97894</th>\n",
       "      <td>Domino's Pizza sosyal medya televizyon ve fark...</td>\n",
       "      <td>Domino's Pizza</td>\n",
       "      <td>Yemek</td>\n",
       "      <td>0</td>\n",
       "      <td>0</td>\n",
       "      <td>0</td>\n",
       "      <td>0</td>\n",
       "      <td>0</td>\n",
       "      <td>0</td>\n",
       "      <td>0</td>\n",
       "    </tr>\n",
       "    <tr>\n",
       "      <th>97914</th>\n",
       "      <td>19.30'da Yemek Sepeti üzerinden vermiş olduğum...</td>\n",
       "      <td>Yemek Sepeti</td>\n",
       "      <td>Yemek</td>\n",
       "      <td>0</td>\n",
       "      <td>0</td>\n",
       "      <td>0</td>\n",
       "      <td>0</td>\n",
       "      <td>0</td>\n",
       "      <td>0</td>\n",
       "      <td>0</td>\n",
       "    </tr>\n",
       "    <tr>\n",
       "      <th>97931</th>\n",
       "      <td>Yarım saati geçince indirim ya da herhangi bir...</td>\n",
       "      <td>Yemek Sepeti</td>\n",
       "      <td>Yemek</td>\n",
       "      <td>0</td>\n",
       "      <td>0</td>\n",
       "      <td>0</td>\n",
       "      <td>0</td>\n",
       "      <td>0</td>\n",
       "      <td>0</td>\n",
       "      <td>0</td>\n",
       "    </tr>\n",
       "    <tr>\n",
       "      <th>97955</th>\n",
       "      <td>Arayıp herhangi bir kampanya var mı diye yönet...</td>\n",
       "      <td>Domino's Pizza</td>\n",
       "      <td>Yemek</td>\n",
       "      <td>0</td>\n",
       "      <td>0</td>\n",
       "      <td>0</td>\n",
       "      <td>0</td>\n",
       "      <td>0</td>\n",
       "      <td>0</td>\n",
       "      <td>0</td>\n",
       "    </tr>\n",
       "    <tr>\n",
       "      <th>97965</th>\n",
       "      <td>Uzun zamandır Yemek Sepeti kullanıyorum. Liste...</td>\n",
       "      <td>Yemek Sepeti</td>\n",
       "      <td>Yemek</td>\n",
       "      <td>0</td>\n",
       "      <td>0</td>\n",
       "      <td>0</td>\n",
       "      <td>0</td>\n",
       "      <td>0</td>\n",
       "      <td>0</td>\n",
       "      <td>0</td>\n",
       "    </tr>\n",
       "    <tr>\n",
       "      <th>97990</th>\n",
       "      <td>Kocaeli Başiskele şubesinden Yemek Sepeti üzer...</td>\n",
       "      <td>Domino's Pizza</td>\n",
       "      <td>Yemek</td>\n",
       "      <td>0</td>\n",
       "      <td>0</td>\n",
       "      <td>0</td>\n",
       "      <td>0</td>\n",
       "      <td>0</td>\n",
       "      <td>0</td>\n",
       "      <td>0</td>\n",
       "    </tr>\n",
       "    <tr>\n",
       "      <th>98018</th>\n",
       "      <td>Sipariş vermek için cep cüzdana bakiye yükledi...</td>\n",
       "      <td>Yemek Sepeti</td>\n",
       "      <td>Yemek</td>\n",
       "      <td>0</td>\n",
       "      <td>0</td>\n",
       "      <td>0</td>\n",
       "      <td>0</td>\n",
       "      <td>0</td>\n",
       "      <td>0</td>\n",
       "      <td>0</td>\n",
       "    </tr>\n",
       "    <tr>\n",
       "      <th>98022</th>\n",
       "      <td>Tam 2 kez bedava pizzam kendi kendine kayboldu...</td>\n",
       "      <td>Domino's Pizza</td>\n",
       "      <td>Yemek</td>\n",
       "      <td>0</td>\n",
       "      <td>0</td>\n",
       "      <td>0</td>\n",
       "      <td>0</td>\n",
       "      <td>0</td>\n",
       "      <td>0</td>\n",
       "      <td>0</td>\n",
       "    </tr>\n",
       "    <tr>\n",
       "      <th>98046</th>\n",
       "      <td>Ye Kazan hakkımızı sipariş ettik pizza ile sip...</td>\n",
       "      <td>Domino's Pizza</td>\n",
       "      <td>Yemek</td>\n",
       "      <td>0</td>\n",
       "      <td>0</td>\n",
       "      <td>0</td>\n",
       "      <td>0</td>\n",
       "      <td>0</td>\n",
       "      <td>0</td>\n",
       "      <td>0</td>\n",
       "    </tr>\n",
       "    <tr>\n",
       "      <th>98051</th>\n",
       "      <td>Hayatımda yazdığım ilk şikayet. 17'sinde sipar...</td>\n",
       "      <td>Yemek Sepeti</td>\n",
       "      <td>Yemek</td>\n",
       "      <td>0</td>\n",
       "      <td>0</td>\n",
       "      <td>0</td>\n",
       "      <td>0</td>\n",
       "      <td>0</td>\n",
       "      <td>0</td>\n",
       "      <td>0</td>\n",
       "    </tr>\n",
       "    <tr>\n",
       "      <th>98102</th>\n",
       "      <td>Ortalama çocuklu büyüklü 10 kişiyiz. Herkese b...</td>\n",
       "      <td>Yemek Sepeti</td>\n",
       "      <td>Yemek</td>\n",
       "      <td>0</td>\n",
       "      <td>0</td>\n",
       "      <td>0</td>\n",
       "      <td>0</td>\n",
       "      <td>0</td>\n",
       "      <td>0</td>\n",
       "      <td>0</td>\n",
       "    </tr>\n",
       "    <tr>\n",
       "      <th>98119</th>\n",
       "      <td>Diyarbakır Sıtkı usta'dan dondurmalı künefe si...</td>\n",
       "      <td>Yemek Sepeti</td>\n",
       "      <td>Yemek</td>\n",
       "      <td>0</td>\n",
       "      <td>0</td>\n",
       "      <td>0</td>\n",
       "      <td>0</td>\n",
       "      <td>0</td>\n",
       "      <td>0</td>\n",
       "      <td>0</td>\n",
       "    </tr>\n",
       "    <tr>\n",
       "      <th>98150</th>\n",
       "      <td>Daha önce sürekli sipariş yaptığım bayramoğlu ...</td>\n",
       "      <td>Domino's Pizza</td>\n",
       "      <td>Yemek</td>\n",
       "      <td>0</td>\n",
       "      <td>0</td>\n",
       "      <td>0</td>\n",
       "      <td>0</td>\n",
       "      <td>0</td>\n",
       "      <td>0</td>\n",
       "      <td>0</td>\n",
       "    </tr>\n",
       "    <tr>\n",
       "      <th>98190</th>\n",
       "      <td>Yıllardır Yemek Sepeti'ni kullanıyorum ve misa...</td>\n",
       "      <td>Yemek Sepeti</td>\n",
       "      <td>Yemek</td>\n",
       "      <td>0</td>\n",
       "      <td>0</td>\n",
       "      <td>0</td>\n",
       "      <td>0</td>\n",
       "      <td>0</td>\n",
       "      <td>0</td>\n",
       "      <td>0</td>\n",
       "    </tr>\n",
       "    <tr>\n",
       "      <th>98212</th>\n",
       "      <td>Yemek Sepeti'nden bu şubeden sipariş istemişti...</td>\n",
       "      <td>Yemek Sepeti</td>\n",
       "      <td>Yemek</td>\n",
       "      <td>0</td>\n",
       "      <td>0</td>\n",
       "      <td>0</td>\n",
       "      <td>0</td>\n",
       "      <td>0</td>\n",
       "      <td>0</td>\n",
       "      <td>0</td>\n",
       "    </tr>\n",
       "    <tr>\n",
       "      <th>98232</th>\n",
       "      <td>Ye kazandan kazandığım bedava pizza hakkımı 90...</td>\n",
       "      <td>Domino's Pizza</td>\n",
       "      <td>Yemek</td>\n",
       "      <td>0</td>\n",
       "      <td>0</td>\n",
       "      <td>0</td>\n",
       "      <td>0</td>\n",
       "      <td>0</td>\n",
       "      <td>0</td>\n",
       "      <td>0</td>\n",
       "    </tr>\n",
       "    <tr>\n",
       "      <th>98244</th>\n",
       "      <td>Aynı ilçede olmama rağmen şube ile bayramda he...</td>\n",
       "      <td>Domino's Pizza</td>\n",
       "      <td>Yemek</td>\n",
       "      <td>0</td>\n",
       "      <td>0</td>\n",
       "      <td>0</td>\n",
       "      <td>0</td>\n",
       "      <td>0</td>\n",
       "      <td>0</td>\n",
       "      <td>0</td>\n",
       "    </tr>\n",
       "    <tr>\n",
       "      <th>98255</th>\n",
       "      <td>Sepet tutarı integer &gt; =19.99 yerine &gt;19.99 ku...</td>\n",
       "      <td>Domino's Pizza</td>\n",
       "      <td>Yemek</td>\n",
       "      <td>0</td>\n",
       "      <td>0</td>\n",
       "      <td>0</td>\n",
       "      <td>0</td>\n",
       "      <td>0</td>\n",
       "      <td>0</td>\n",
       "      <td>0</td>\n",
       "    </tr>\n",
       "    <tr>\n",
       "      <th>98262</th>\n",
       "      <td>Dün Domino's pizzayı aradık 1 saat sonra getir...</td>\n",
       "      <td>Domino's Pizza</td>\n",
       "      <td>Yemek</td>\n",
       "      <td>0</td>\n",
       "      <td>0</td>\n",
       "      <td>0</td>\n",
       "      <td>0</td>\n",
       "      <td>0</td>\n",
       "      <td>0</td>\n",
       "      <td>0</td>\n",
       "    </tr>\n",
       "    <tr>\n",
       "      <th>98309</th>\n",
       "      <td>17 Kasım 2019 tarihinde Dominos.com.tr üzerind...</td>\n",
       "      <td>Domino's Pizza</td>\n",
       "      <td>Yemek</td>\n",
       "      <td>0</td>\n",
       "      <td>0</td>\n",
       "      <td>0</td>\n",
       "      <td>0</td>\n",
       "      <td>0</td>\n",
       "      <td>0</td>\n",
       "      <td>0</td>\n",
       "    </tr>\n",
       "    <tr>\n",
       "      <th>98314</th>\n",
       "      <td>Yemek Sepeti üzerinde bir menüde ürünleri göre...</td>\n",
       "      <td>Yemek Sepeti</td>\n",
       "      <td>Yemek</td>\n",
       "      <td>0</td>\n",
       "      <td>0</td>\n",
       "      <td>0</td>\n",
       "      <td>0</td>\n",
       "      <td>0</td>\n",
       "      <td>0</td>\n",
       "      <td>0</td>\n",
       "    </tr>\n",
       "  </tbody>\n",
       "</table>\n",
       "<p>2477 rows × 10 columns</p>\n",
       "</div>"
      ],
      "text/plain": [
       "                                                 Comment           Brand  \\\n",
       "60     Saat 01:04 te verdiğim sipariş için tam 32 dak...  Domino's Pizza   \n",
       "64     Ben Samsun'dayken Yemek Sepeti'nden 3 tane dür...    Yemek Sepeti   \n",
       "67     Bu akşam saat 22.15 sularında Ankara Eryaman ş...    Yemek Sepeti   \n",
       "75     Popeyes'den sipariş verdim. 40 dakika sonra Ye...    Yemek Sepeti   \n",
       "76     Saat 22:13 de Domino's Pizza Gebze mutlukent ş...  Domino's Pizza   \n",
       "78     Merhaba 22 Ağustos saat 23 civarlarında bir re...    Yemek Sepeti   \n",
       "87     1. Dükkandan alışveriş yaparken online kredi k...    Yemek Sepeti   \n",
       "97     20 30 da arayıp sipariş vermek istiyorum 1 saa...  Domino's Pizza   \n",
       "121    Ben Ye Kazan kampanyasına üye oluyorum. Pizza ...  Domino's Pizza   \n",
       "127    Verdiğim bir sipariş sonrası canlı görüşme ola...    Yemek Sepeti   \n",
       "132    22 Ağustos akşam 16:20 civarında Papa John's P...    Yemek Sepeti   \n",
       "142    Yemek Sepeti uygulaması üzerinden Özsüt 'ten t...    Yemek Sepeti   \n",
       "156    Yemek Sepeti ile aracılığı ile sipariş ettiğim...    Yemek Sepeti   \n",
       "185    Pizza siparişi verdim iki kez kartımdan ödeme ...    Yemek Sepeti   \n",
       "187    Yemek Sepeti aracılığıyla PizzaLazza Kurtköy ş...    Yemek Sepeti   \n",
       "209    Domino's Kıraç şubesinden aldığım pizzaya ekst...  Domino's Pizza   \n",
       "275    Müşteri hizmetleri sırf fazladan sipariş verdi...    Yemek Sepeti   \n",
       "280    Ne zaman online olarak Yemek Sepeti aracılığı ...    Yemek Sepeti   \n",
       "395    Dün akşama doğru Yemek Sepeti üzerinden Burger...    Yemek Sepeti   \n",
       "406    Büyükçekmece Domino's Pizza 2. Kez siparişlerd...  Domino's Pizza   \n",
       "408    Bugününe kadar Yemek Sepeti'nden çokça alışver...    Yemek Sepeti   \n",
       "414    Sevgili Yemek Sepeti yöneticileri eşimin Yemek...    Yemek Sepeti   \n",
       "416    İlk kez Yemek Sepeti sisteminden Amanos Buca D...    Yemek Sepeti   \n",
       "430    Aga ileri tarihli gece 2ye sipariş geçiyoruz. ...    Yemek Sepeti   \n",
       "448    Süreci aşağıda detaylı yazdım. Okumak istemeye...  Protein Market   \n",
       "502    Domino's Pizza üzerinden yine bir sipariş verd...  Domino's Pizza   \n",
       "510    Denizli Albayrak şubesinden siparişim 40 dakik...  Domino's Pizza   \n",
       "547    İstanbul Fatih akşemsettin şubesinde ki Domino...  Domino's Pizza   \n",
       "550    26 Haziranda vermiş olduğum sipariş gelmediği ...  Protein Market   \n",
       "553    Siparişimi verdikten sonra kurye arayıp sipari...    Yemek Sepeti   \n",
       "...                                                  ...             ...   \n",
       "97341  Uygulamayı indirip, ye - kazan kampanyasına ka...  Domino's Pizza   \n",
       "97345  Sipariş veriyoruz, restoran iptal ediyor.Sanal...    Yemek Sepeti   \n",
       "97354  30dk garantisi verdiğiniz halde 5F20F8 takip k...  Domino's Pizza   \n",
       "97520  Domino's Pizza ana sayfada reklam gördüm filmb...  Domino's Pizza   \n",
       "97529  Tekirdağ/Çorlu şubenize, sürekli Yemek Sepeti'...  Domino's Pizza   \n",
       "97700  Yemek Sepeti üzerinden verdiğim büyük boy süpe...  Domino's Pizza   \n",
       "97758  Malzemeden kısıyorlar. Kavurmalı söyledim. İna...  Domino's Pizza   \n",
       "97842  Diyarbakır Diclekent semtindeki Domino's Pizza...  Domino's Pizza   \n",
       "97864  25 Mayıs 23.56 da siparişimi verdim 40 dakikay...  Domino's Pizza   \n",
       "97894  Domino's Pizza sosyal medya televizyon ve fark...  Domino's Pizza   \n",
       "97914  19.30'da Yemek Sepeti üzerinden vermiş olduğum...    Yemek Sepeti   \n",
       "97931  Yarım saati geçince indirim ya da herhangi bir...    Yemek Sepeti   \n",
       "97955  Arayıp herhangi bir kampanya var mı diye yönet...  Domino's Pizza   \n",
       "97965  Uzun zamandır Yemek Sepeti kullanıyorum. Liste...    Yemek Sepeti   \n",
       "97990  Kocaeli Başiskele şubesinden Yemek Sepeti üzer...  Domino's Pizza   \n",
       "98018  Sipariş vermek için cep cüzdana bakiye yükledi...    Yemek Sepeti   \n",
       "98022  Tam 2 kez bedava pizzam kendi kendine kayboldu...  Domino's Pizza   \n",
       "98046  Ye Kazan hakkımızı sipariş ettik pizza ile sip...  Domino's Pizza   \n",
       "98051  Hayatımda yazdığım ilk şikayet. 17'sinde sipar...    Yemek Sepeti   \n",
       "98102  Ortalama çocuklu büyüklü 10 kişiyiz. Herkese b...    Yemek Sepeti   \n",
       "98119  Diyarbakır Sıtkı usta'dan dondurmalı künefe si...    Yemek Sepeti   \n",
       "98150  Daha önce sürekli sipariş yaptığım bayramoğlu ...  Domino's Pizza   \n",
       "98190  Yıllardır Yemek Sepeti'ni kullanıyorum ve misa...    Yemek Sepeti   \n",
       "98212  Yemek Sepeti'nden bu şubeden sipariş istemişti...    Yemek Sepeti   \n",
       "98232  Ye kazandan kazandığım bedava pizza hakkımı 90...  Domino's Pizza   \n",
       "98244  Aynı ilçede olmama rağmen şube ile bayramda he...  Domino's Pizza   \n",
       "98255  Sepet tutarı integer > =19.99 yerine >19.99 ku...  Domino's Pizza   \n",
       "98262  Dün Domino's pizzayı aradık 1 saat sonra getir...  Domino's Pizza   \n",
       "98309  17 Kasım 2019 tarihinde Dominos.com.tr üzerind...  Domino's Pizza   \n",
       "98314  Yemek Sepeti üzerinde bir menüde ürünleri göre...    Yemek Sepeti   \n",
       "\n",
       "      Sector  Zamaninda Teslimat  Ödeme  Müşteri Hizmetleri  Kampanya  \\\n",
       "60     Yemek                   0      0                   0         0   \n",
       "64     Yemek                   0      0                   0         0   \n",
       "67     Yemek                   0      0                   0         0   \n",
       "75     Yemek                   0      0                   0         0   \n",
       "76     Yemek                   0      0                   0         0   \n",
       "78     Yemek                   0      0                   0         0   \n",
       "87     Yemek                   0      0                   0         0   \n",
       "97     Yemek                   0      0                   0         0   \n",
       "121    Yemek                   0      0                   0         0   \n",
       "127    Yemek                   0      0                   0         0   \n",
       "132    Yemek                   0      0                   0         0   \n",
       "142    Yemek                   0      0                   0         0   \n",
       "156    Yemek                   0      0                   0         0   \n",
       "185    Yemek                   0      0                   0         0   \n",
       "187    Yemek                   0      0                   0         0   \n",
       "209    Yemek                   0      0                   0         0   \n",
       "275    Yemek                   0      0                   0         0   \n",
       "280    Yemek                   0      0                   0         0   \n",
       "395    Yemek                   0      0                   0         0   \n",
       "406    Yemek                   0      0                   0         0   \n",
       "408    Yemek                   0      0                   0         0   \n",
       "414    Yemek                   0      0                   0         0   \n",
       "416    Yemek                   0      0                   0         0   \n",
       "430    Yemek                   0      0                   0         0   \n",
       "448    Yemek                   0      0                   0         0   \n",
       "502    Yemek                   0      0                   0         0   \n",
       "510    Yemek                   0      0                   0         0   \n",
       "547    Yemek                   0      0                   0         0   \n",
       "550    Yemek                   0      0                   0         0   \n",
       "553    Yemek                   0      0                   0         0   \n",
       "...      ...                 ...    ...                 ...       ...   \n",
       "97341  Yemek                   0      0                   0         0   \n",
       "97345  Yemek                   0      0                   0         0   \n",
       "97354  Yemek                   0      0                   0         0   \n",
       "97520  Yemek                   0      0                   0         0   \n",
       "97529  Yemek                   0      0                   0         0   \n",
       "97700  Yemek                   0      0                   0         0   \n",
       "97758  Yemek                   0      0                   0         0   \n",
       "97842  Yemek                   0      0                   0         0   \n",
       "97864  Yemek                   0      0                   0         0   \n",
       "97894  Yemek                   0      0                   0         0   \n",
       "97914  Yemek                   0      0                   0         0   \n",
       "97931  Yemek                   0      0                   0         0   \n",
       "97955  Yemek                   0      0                   0         0   \n",
       "97965  Yemek                   0      0                   0         0   \n",
       "97990  Yemek                   0      0                   0         0   \n",
       "98018  Yemek                   0      0                   0         0   \n",
       "98022  Yemek                   0      0                   0         0   \n",
       "98046  Yemek                   0      0                   0         0   \n",
       "98051  Yemek                   0      0                   0         0   \n",
       "98102  Yemek                   0      0                   0         0   \n",
       "98119  Yemek                   0      0                   0         0   \n",
       "98150  Yemek                   0      0                   0         0   \n",
       "98190  Yemek                   0      0                   0         0   \n",
       "98212  Yemek                   0      0                   0         0   \n",
       "98232  Yemek                   0      0                   0         0   \n",
       "98244  Yemek                   0      0                   0         0   \n",
       "98255  Yemek                   0      0                   0         0   \n",
       "98262  Yemek                   0      0                   0         0   \n",
       "98309  Yemek                   0      0                   0         0   \n",
       "98314  Yemek                   0      0                   0         0   \n",
       "\n",
       "       Doğru Sipariş  İade  Ürün Memnuniyeti  \n",
       "60                 0     0                 0  \n",
       "64                 0     0                 0  \n",
       "67                 0     0                 0  \n",
       "75                 0     0                 0  \n",
       "76                 0     0                 0  \n",
       "78                 0     0                 0  \n",
       "87                 0     0                 0  \n",
       "97                 0     0                 0  \n",
       "121                0     0                 0  \n",
       "127                0     0                 0  \n",
       "132                0     0                 0  \n",
       "142                0     0                 0  \n",
       "156                0     0                 0  \n",
       "185                0     0                 0  \n",
       "187                0     0                 0  \n",
       "209                0     0                 0  \n",
       "275                0     0                 0  \n",
       "280                0     0                 0  \n",
       "395                0     0                 0  \n",
       "406                0     0                 0  \n",
       "408                0     0                 0  \n",
       "414                0     0                 0  \n",
       "416                0     0                 0  \n",
       "430                0     0                 0  \n",
       "448                0     0                 0  \n",
       "502                0     0                 0  \n",
       "510                0     0                 0  \n",
       "547                0     0                 0  \n",
       "550                0     0                 0  \n",
       "553                0     0                 0  \n",
       "...              ...   ...               ...  \n",
       "97341              0     0                 0  \n",
       "97345              0     0                 0  \n",
       "97354              0     0                 0  \n",
       "97520              0     0                 0  \n",
       "97529              0     0                 0  \n",
       "97700              0     0                 0  \n",
       "97758              0     0                 0  \n",
       "97842              0     0                 0  \n",
       "97864              0     0                 0  \n",
       "97894              0     0                 0  \n",
       "97914              0     0                 0  \n",
       "97931              0     0                 0  \n",
       "97955              0     0                 0  \n",
       "97965              0     0                 0  \n",
       "97990              0     0                 0  \n",
       "98018              0     0                 0  \n",
       "98022              0     0                 0  \n",
       "98046              0     0                 0  \n",
       "98051              0     0                 0  \n",
       "98102              0     0                 0  \n",
       "98119              0     0                 0  \n",
       "98150              0     0                 0  \n",
       "98190              0     0                 0  \n",
       "98212              0     0                 0  \n",
       "98232              0     0                 0  \n",
       "98244              0     0                 0  \n",
       "98255              0     0                 0  \n",
       "98262              0     0                 0  \n",
       "98309              0     0                 0  \n",
       "98314              0     0                 0  \n",
       "\n",
       "[2477 rows x 10 columns]"
      ]
     },
     "execution_count": 49,
     "metadata": {},
     "output_type": "execute_result"
    }
   ],
   "source": [
    "df_yemek"
   ]
  },
  {
   "cell_type": "markdown",
   "metadata": {},
   "source": [
    "# Yemek"
   ]
  },
  {
   "cell_type": "code",
   "execution_count": 50,
   "metadata": {},
   "outputs": [],
   "source": [
    "def check_value(sentence,anahtar):\n",
    "    for word in anahtar:\n",
    "        if word in sentence:\n",
    "            return 1\n",
    "    return 0  "
   ]
  },
  {
   "cell_type": "code",
   "execution_count": 51,
   "metadata": {},
   "outputs": [],
   "source": [
    "#\"Zamaninda Teslimat\",\"Ödeme\",\"Müşteri Hizmetleri\",\"Kampanya\",\"Doğru Sipariş\",\"İade\",\"Ürün Memnuniyeti\""
   ]
  },
  {
   "cell_type": "code",
   "execution_count": 73,
   "metadata": {},
   "outputs": [
    {
     "name": "stderr",
     "output_type": "stream",
     "text": [
      "C:\\Users\\yasin\\Anaconda3\\envs\\nlp_course\\lib\\site-packages\\ipykernel_launcher.py:2: SettingWithCopyWarning: \n",
      "A value is trying to be set on a copy of a slice from a DataFrame.\n",
      "Try using .loc[row_indexer,col_indexer] = value instead\n",
      "\n",
      "See the caveats in the documentation: http://pandas.pydata.org/pandas-docs/stable/indexing.html#indexing-view-versus-copy\n",
      "  \n"
     ]
    }
   ],
   "source": [
    "anahtar = [\" saat\",\" dakika\",\"gün geçti\"] \n",
    "df_yemek[\"Zamaninda Teslimat\"] = df_yemek[\"Comment\"].map(lambda sentence: check_value(sentence,anahtar) )"
   ]
  },
  {
   "cell_type": "code",
   "execution_count": 53,
   "metadata": {},
   "outputs": [
    {
     "name": "stderr",
     "output_type": "stream",
     "text": [
      "C:\\Users\\yasin\\Anaconda3\\envs\\nlp_course\\lib\\site-packages\\ipykernel_launcher.py:2: SettingWithCopyWarning: \n",
      "A value is trying to be set on a copy of a slice from a DataFrame.\n",
      "Try using .loc[row_indexer,col_indexer] = value instead\n",
      "\n",
      "See the caveats in the documentation: http://pandas.pydata.org/pandas-docs/stable/indexing.html#indexing-view-versus-copy\n",
      "  \n"
     ]
    }
   ],
   "source": [
    "anahtar = [\" para\",\" tl \",\" ödeme\",\" kredi\"] \n",
    "df_yemek[\"Ödeme\"] = df_yemek[\"Comment\"].map(lambda sentence: check_value(sentence,anahtar) )"
   ]
  },
  {
   "cell_type": "code",
   "execution_count": 54,
   "metadata": {},
   "outputs": [
    {
     "name": "stderr",
     "output_type": "stream",
     "text": [
      "C:\\Users\\yasin\\Anaconda3\\envs\\nlp_course\\lib\\site-packages\\ipykernel_launcher.py:2: SettingWithCopyWarning: \n",
      "A value is trying to be set on a copy of a slice from a DataFrame.\n",
      "Try using .loc[row_indexer,col_indexer] = value instead\n",
      "\n",
      "See the caveats in the documentation: http://pandas.pydata.org/pandas-docs/stable/indexing.html#indexing-view-versus-copy\n",
      "  \n"
     ]
    }
   ],
   "source": [
    "anahtar = [\"kampanya\",\"kupon\"] \n",
    "df_yemek[\"Kampanya\"] = df_yemek[\"Comment\"].map(lambda sentence: check_value(sentence,anahtar) )"
   ]
  },
  {
   "cell_type": "code",
   "execution_count": 55,
   "metadata": {},
   "outputs": [
    {
     "name": "stderr",
     "output_type": "stream",
     "text": [
      "C:\\Users\\yasin\\Anaconda3\\envs\\nlp_course\\lib\\site-packages\\ipykernel_launcher.py:2: SettingWithCopyWarning: \n",
      "A value is trying to be set on a copy of a slice from a DataFrame.\n",
      "Try using .loc[row_indexer,col_indexer] = value instead\n",
      "\n",
      "See the caveats in the documentation: http://pandas.pydata.org/pandas-docs/stable/indexing.html#indexing-view-versus-copy\n",
      "  \n"
     ]
    }
   ],
   "source": [
    "anahtar = [\"yanlış\"] \n",
    "df_yemek[\"Doğru Sipariş\"] = df_yemek[\"Comment\"].map(lambda sentence: check_value(sentence,anahtar) )"
   ]
  },
  {
   "cell_type": "code",
   "execution_count": 56,
   "metadata": {},
   "outputs": [
    {
     "name": "stderr",
     "output_type": "stream",
     "text": [
      "C:\\Users\\yasin\\Anaconda3\\envs\\nlp_course\\lib\\site-packages\\ipykernel_launcher.py:2: SettingWithCopyWarning: \n",
      "A value is trying to be set on a copy of a slice from a DataFrame.\n",
      "Try using .loc[row_indexer,col_indexer] = value instead\n",
      "\n",
      "See the caveats in the documentation: http://pandas.pydata.org/pandas-docs/stable/indexing.html#indexing-view-versus-copy\n",
      "  \n"
     ]
    }
   ],
   "source": [
    "anahtar = [\"para\",\"iade\",\"saat\"] \n",
    "df_yemek[\"İade\"] = df_yemek[\"Comment\"].map(lambda sentence: check_value(sentence,anahtar) )"
   ]
  },
  {
   "cell_type": "code",
   "execution_count": 57,
   "metadata": {},
   "outputs": [
    {
     "name": "stderr",
     "output_type": "stream",
     "text": [
      "C:\\Users\\yasin\\Anaconda3\\envs\\nlp_course\\lib\\site-packages\\ipykernel_launcher.py:2: SettingWithCopyWarning: \n",
      "A value is trying to be set on a copy of a slice from a DataFrame.\n",
      "Try using .loc[row_indexer,col_indexer] = value instead\n",
      "\n",
      "See the caveats in the documentation: http://pandas.pydata.org/pandas-docs/stable/indexing.html#indexing-view-versus-copy\n",
      "  \n"
     ]
    }
   ],
   "source": [
    "anahtar = [\"sos\",\"sucuk\",\"tavuk\",\" bol \",\"peynir\",\"domates\",\"sosis\",\"eksik\",\"malzeme\",\"patates\",\"hamur\"] \n",
    "df_yemek[\"Ürün Memnuniyeti\"] = df_yemek[\"Comment\"].map(lambda sentence: check_value(sentence,anahtar) )"
   ]
  },
  {
   "cell_type": "code",
   "execution_count": 58,
   "metadata": {},
   "outputs": [
    {
     "name": "stderr",
     "output_type": "stream",
     "text": [
      "C:\\Users\\yasin\\Anaconda3\\envs\\nlp_course\\lib\\site-packages\\ipykernel_launcher.py:2: SettingWithCopyWarning: \n",
      "A value is trying to be set on a copy of a slice from a DataFrame.\n",
      "Try using .loc[row_indexer,col_indexer] = value instead\n",
      "\n",
      "See the caveats in the documentation: http://pandas.pydata.org/pandas-docs/stable/indexing.html#indexing-view-versus-copy\n",
      "  \n"
     ]
    }
   ],
   "source": [
    "anahtar = [\"müşteri hizmetleri\"] \n",
    "df_yemek[\"Müşteri Hizmetleri\"] = df_yemek[\"Comment\"].map(lambda sentence: check_value(sentence,anahtar) )"
   ]
  },
  {
   "cell_type": "code",
   "execution_count": 59,
   "metadata": {
    "scrolled": false
   },
   "outputs": [],
   "source": [
    "#df_yemek"
   ]
  },
  {
   "cell_type": "code",
   "execution_count": 74,
   "metadata": {},
   "outputs": [
    {
     "data": {
      "text/html": [
       "<div>\n",
       "<style scoped>\n",
       "    .dataframe tbody tr th:only-of-type {\n",
       "        vertical-align: middle;\n",
       "    }\n",
       "\n",
       "    .dataframe tbody tr th {\n",
       "        vertical-align: top;\n",
       "    }\n",
       "\n",
       "    .dataframe thead th {\n",
       "        text-align: right;\n",
       "    }\n",
       "</style>\n",
       "<table border=\"1\" class=\"dataframe\">\n",
       "  <thead>\n",
       "    <tr style=\"text-align: right;\">\n",
       "      <th></th>\n",
       "      <th>Zamaninda Teslimat</th>\n",
       "      <th>Ödeme</th>\n",
       "      <th>Müşteri Hizmetleri</th>\n",
       "      <th>Kampanya</th>\n",
       "      <th>Doğru Sipariş</th>\n",
       "      <th>İade</th>\n",
       "      <th>Ürün Memnuniyeti</th>\n",
       "    </tr>\n",
       "  </thead>\n",
       "  <tbody>\n",
       "    <tr>\n",
       "      <th>60</th>\n",
       "      <td>1</td>\n",
       "      <td>0</td>\n",
       "      <td>0</td>\n",
       "      <td>0</td>\n",
       "      <td>0</td>\n",
       "      <td>0</td>\n",
       "      <td>0</td>\n",
       "    </tr>\n",
       "    <tr>\n",
       "      <th>64</th>\n",
       "      <td>0</td>\n",
       "      <td>0</td>\n",
       "      <td>0</td>\n",
       "      <td>0</td>\n",
       "      <td>0</td>\n",
       "      <td>0</td>\n",
       "      <td>1</td>\n",
       "    </tr>\n",
       "    <tr>\n",
       "      <th>67</th>\n",
       "      <td>1</td>\n",
       "      <td>0</td>\n",
       "      <td>0</td>\n",
       "      <td>0</td>\n",
       "      <td>0</td>\n",
       "      <td>1</td>\n",
       "      <td>0</td>\n",
       "    </tr>\n",
       "    <tr>\n",
       "      <th>75</th>\n",
       "      <td>1</td>\n",
       "      <td>0</td>\n",
       "      <td>0</td>\n",
       "      <td>0</td>\n",
       "      <td>0</td>\n",
       "      <td>0</td>\n",
       "      <td>0</td>\n",
       "    </tr>\n",
       "    <tr>\n",
       "      <th>76</th>\n",
       "      <td>1</td>\n",
       "      <td>0</td>\n",
       "      <td>0</td>\n",
       "      <td>1</td>\n",
       "      <td>0</td>\n",
       "      <td>1</td>\n",
       "      <td>0</td>\n",
       "    </tr>\n",
       "  </tbody>\n",
       "</table>\n",
       "</div>"
      ],
      "text/plain": [
       "    Zamaninda Teslimat  Ödeme  Müşteri Hizmetleri  Kampanya  Doğru Sipariş  \\\n",
       "60                   1      0                   0         0              0   \n",
       "64                   0      0                   0         0              0   \n",
       "67                   1      0                   0         0              0   \n",
       "75                   1      0                   0         0              0   \n",
       "76                   1      0                   0         1              0   \n",
       "\n",
       "    İade  Ürün Memnuniyeti  \n",
       "60     0                 0  \n",
       "64     0                 1  \n",
       "67     1                 0  \n",
       "75     0                 0  \n",
       "76     1                 0  "
      ]
     },
     "execution_count": 74,
     "metadata": {},
     "output_type": "execute_result"
    }
   ],
   "source": [
    "df_yemek_comments_labels = df_yemek[[\"Zamaninda Teslimat\",\"Ödeme\",\"Müşteri Hizmetleri\",\"Kampanya\",\"Doğru Sipariş\",\"İade\",\"Ürün Memnuniyeti\"]]\n",
    "df_yemek_comments_labels.head()"
   ]
  },
  {
   "cell_type": "code",
   "execution_count": 75,
   "metadata": {},
   "outputs": [
    {
     "data": {
      "text/plain": [
       "<matplotlib.axes._subplots.AxesSubplot at 0x1dcaa5d11c8>"
      ]
     },
     "execution_count": 75,
     "metadata": {},
     "output_type": "execute_result"
    },
    {
     "data": {
      "image/png": "[encoded data removed]",
      "text/plain": [
       "<Figure size 720x576 with 1 Axes>"
      ]
     },
     "metadata": {
      "needs_background": "light"
     },
     "output_type": "display_data"
    }
   ],
   "source": [
    "import matplotlib.pyplot as plt\n",
    "fig_size = plt.rcParams[\"figure.figsize\"]\n",
    "fig_size[0] = 10\n",
    "fig_size[1] = 8\n",
    "plt.rcParams[\"figure.figsize\"] = fig_size\n",
    "\n",
    "df_yemek_comments_labels.sum(axis=0).plot.bar()"
   ]
  },
  {
   "cell_type": "markdown",
   "metadata": {},
   "source": [
    "# Multi-lable Text Classification Model with Single Output Layer"
   ]
  },
  {
   "cell_type": "code",
   "execution_count": 84,
   "metadata": {},
   "outputs": [],
   "source": [
    "from numpy import loadtxt,array\n",
    "from keras.models import Sequential\n",
    "import seaborn as sn\n",
    "from matplotlib import pyplot\n",
    "from keras.preprocessing.text import one_hot\n",
    "from keras.preprocessing.sequence import pad_sequences\n",
    "from keras.models import Sequential\n",
    "from keras.layers.core import Activation, Dropout, Dense\n",
    "from keras.layers import Flatten, LSTM\n",
    "from keras.layers import GlobalMaxPooling1D\n",
    "from keras.models import Model\n",
    "from keras.layers.embeddings import Embedding\n",
    "from sklearn.model_selection import train_test_split\n",
    "from keras.preprocessing.text import Tokenizer\n",
    "from keras.layers import Input\n",
    "from keras.layers.merge import Concatenate"
   ]
  },
  {
   "cell_type": "code",
   "execution_count": 122,
   "metadata": {},
   "outputs": [],
   "source": [
    "X = []\n",
    "sentences = list(df_yemek[\"Comment\"])\n",
    "for sen in sentences:\n",
    "    X.append(sen)\n",
    "\n",
    "y = df_yemek_comments_labels.values"
   ]
  },
  {
   "cell_type": "code",
   "execution_count": 123,
   "metadata": {},
   "outputs": [
    {
     "data": {
      "text/plain": [
       "2477"
      ]
     },
     "execution_count": 123,
     "metadata": {},
     "output_type": "execute_result"
    }
   ],
   "source": [
    "len(y)"
   ]
  },
  {
   "cell_type": "code",
   "execution_count": 124,
   "metadata": {},
   "outputs": [],
   "source": [
    "X_train, X_test, y_train, y_test = train_test_split(X, y, test_size=0.20, random_state=42)\n"
   ]
  },
  {
   "cell_type": "code",
   "execution_count": 88,
   "metadata": {},
   "outputs": [],
   "source": [
    "tokenizer = Tokenizer(num_words=5000)\n",
    "tokenizer.fit_on_texts(X_train)\n",
    "\n",
    "X_train = tokenizer.texts_to_sequences(X_train)\n",
    "X_test = tokenizer.texts_to_sequences(X_test)\n",
    "\n",
    "vocab_size = len(tokenizer.word_index) + 1\n",
    "\n",
    "maxlen = 200\n",
    "\n",
    "X_train = pad_sequences(X_train, padding='post', maxlen=maxlen)\n",
    "X_test = pad_sequences(X_test, padding='post', maxlen=maxlen)"
   ]
  },
  {
   "cell_type": "code",
   "execution_count": 119,
   "metadata": {},
   "outputs": [
    {
     "data": {
      "text/plain": [
       "\"\\nfrom gensim.models import KeyedVectors\\nfrom gensim import models\\n\\nembeddings_dictionary = KeyedVectors.load_word2vec_format('trmodel', binary=True)\\n\\nembedding_matrix = np.zeros((vocab_size, 400))\\nfor word, index in tokenizer.word_index.items():\\n    embedding_vector = embeddings_dictionary[word]\\n    if embedding_vector is not None:\\n        embedding_matrix[index] = embedding_vector\\n\""
      ]
     },
     "execution_count": 119,
     "metadata": {},
     "output_type": "execute_result"
    }
   ],
   "source": [
    "'''\n",
    "from gensim.models import KeyedVectors\n",
    "from gensim import models\n",
    "\n",
    "embeddings_dictionary = KeyedVectors.load_word2vec_format('trmodel', binary=True)\n",
    "\n",
    "embedding_matrix = np.zeros((vocab_size, 400))\n",
    "for word, index in tokenizer.word_index.items():\n",
    "    embedding_vector = embeddings_dictionary[word]\n",
    "    if embedding_vector is not None:\n",
    "        embedding_matrix[index] = embedding_vector\n",
    "'''       "
   ]
  },
  {
   "cell_type": "code",
   "execution_count": 120,
   "metadata": {},
   "outputs": [],
   "source": [
    "deep_inputs = Input(shape=(maxlen,))\n",
    "embedding_layer = Embedding(vocab_size, 100, trainable=False)(deep_inputs)\n",
    "LSTM_Layer_1 = LSTM(128)(embedding_layer)\n",
    "dense_layer_1 = Dense(7, activation='sigmoid')(LSTM_Layer_1)\n",
    "model = Model(inputs=deep_inputs, outputs=dense_layer_1)\n",
    "\n",
    "model.compile(loss='binary_crossentropy', optimizer='adam', metrics=['acc'])"
   ]
  },
  {
   "cell_type": "code",
   "execution_count": 93,
   "metadata": {
    "scrolled": true
   },
   "outputs": [
    {
     "name": "stdout",
     "output_type": "stream",
     "text": [
      "Model: \"model_2\"\n",
      "_________________________________________________________________\n",
      "Layer (type)                 Output Shape              Param #   \n",
      "=================================================================\n",
      "input_3 (InputLayer)         (None, 200)               0         \n",
      "_________________________________________________________________\n",
      "embedding_2 (Embedding)      (None, 200, 100)          2006100   \n",
      "_________________________________________________________________\n",
      "lstm_2 (LSTM)                (None, 128)               117248    \n",
      "_________________________________________________________________\n",
      "dense_2 (Dense)              (None, 7)                 903       \n",
      "=================================================================\n",
      "Total params: 2,124,251\n",
      "Trainable params: 118,151\n",
      "Non-trainable params: 2,006,100\n",
      "_________________________________________________________________\n",
      "None\n"
     ]
    }
   ],
   "source": [
    "print(model.summary())\n"
   ]
  },
  {
   "cell_type": "code",
   "execution_count": 94,
   "metadata": {},
   "outputs": [
    {
     "data": {
      "image/png": "[encoded data removed]",
      "text/plain": [
       "<IPython.core.display.Image object>"
      ]
     },
     "execution_count": 94,
     "metadata": {},
     "output_type": "execute_result"
    }
   ],
   "source": [
    "from keras.utils import plot_model\n",
    "plot_model(model, to_file='model_plot4a.png', show_shapes=True, show_layer_names=True)"
   ]
  },
  {
   "cell_type": "code",
   "execution_count": 95,
   "metadata": {},
   "outputs": [
    {
     "name": "stdout",
     "output_type": "stream",
     "text": [
      "WARNING:tensorflow:From C:\\Users\\yasin\\Anaconda3\\envs\\nlp_course\\lib\\site-packages\\tensorflow\\python\\ops\\math_ops.py:3066: to_int32 (from tensorflow.python.ops.math_ops) is deprecated and will be removed in a future version.\n",
      "Instructions for updating:\n",
      "Use tf.cast instead.\n",
      "Train on 1584 samples, validate on 397 samples\n",
      "Epoch 1/5\n",
      "1584/1584 [==============================] - 8s 5ms/step - loss: 0.5788 - acc: 0.7554 - val_loss: 0.4600 - val_acc: 0.7794\n",
      "Epoch 2/5\n",
      "1584/1584 [==============================] - 7s 5ms/step - loss: 0.4709 - acc: 0.7713 - val_loss: 0.4544 - val_acc: 0.7794\n",
      "Epoch 3/5\n",
      "1584/1584 [==============================] - 9s 6ms/step - loss: 0.4664 - acc: 0.7713 - val_loss: 0.4517 - val_acc: 0.7794\n",
      "Epoch 4/5\n",
      "1584/1584 [==============================] - 10s 6ms/step - loss: 0.4655 - acc: 0.7713 - val_loss: 0.4518 - val_acc: 0.7794\n",
      "Epoch 5/5\n",
      "1584/1584 [==============================] - 9s 6ms/step - loss: 0.4661 - acc: 0.7713 - val_loss: 0.4554 - val_acc: 0.7794\n"
     ]
    }
   ],
   "source": [
    "history = model.fit(X_train, y_train, batch_size=128, epochs=5, verbose=1, validation_split=0.2)"
   ]
  },
  {
   "cell_type": "code",
   "execution_count": 96,
   "metadata": {},
   "outputs": [
    {
     "name": "stdout",
     "output_type": "stream",
     "text": [
      "496/496 [==============================] - 1s 2ms/step\n",
      "Test Score: 0.47743904206060594\n",
      "Test Accuracy: 0.7695853114128113\n"
     ]
    }
   ],
   "source": [
    "score = model.evaluate(X_test, y_test, verbose=1)\n",
    "\n",
    "print(\"Test Score:\", score[0])\n",
    "print(\"Test Accuracy:\", score[1])"
   ]
  },
  {
   "cell_type": "code",
   "execution_count": 97,
   "metadata": {},
   "outputs": [
    {
     "data": {
      "image/png": "[encoded data removed]",
      "text/plain": [
       "<Figure size 720x576 with 1 Axes>"
      ]
     },
     "metadata": {
      "needs_background": "light"
     },
     "output_type": "display_data"
    },
    {
     "data": {
      "image/png": "[encoded data removed]",
      "text/plain": [
       "<Figure size 720x576 with 1 Axes>"
      ]
     },
     "metadata": {
      "needs_background": "light"
     },
     "output_type": "display_data"
    }
   ],
   "source": [
    "import matplotlib.pyplot as plt\n",
    "\n",
    "plt.plot(history.history['acc'])\n",
    "plt.plot(history.history['val_acc'])\n",
    "\n",
    "plt.title('model accuracy')\n",
    "plt.ylabel('accuracy')\n",
    "plt.xlabel('epoch')\n",
    "plt.legend(['train','test'], loc='upper left')\n",
    "plt.show()\n",
    "\n",
    "plt.plot(history.history['loss'])\n",
    "plt.plot(history.history['val_loss'])\n",
    "\n",
    "plt.title('model loss')\n",
    "plt.ylabel('loss')\n",
    "plt.xlabel('epoch')\n",
    "plt.legend(['train','test'], loc='upper left')\n",
    "plt.show()"
   ]
  },
  {
   "cell_type": "code",
   "execution_count": null,
   "metadata": {},
   "outputs": [],
   "source": []
  },
  {
   "cell_type": "markdown",
   "metadata": {},
   "source": [
    "# Multi-lable Text Classification Model with Multiple Output Layers"
   ]
  },
  {
   "cell_type": "code",
   "execution_count": null,
   "metadata": {},
   "outputs": [],
   "source": [
    "#\"Zamaninda Teslimat\",\"Ödeme\",\"Müşteri Hizmetleri\",\"Kampanya\",\"Doğru Sipariş\",\"İade\",\"Ürün Memnuniyeti\""
   ]
  },
  {
   "cell_type": "code",
   "execution_count": 127,
   "metadata": {},
   "outputs": [],
   "source": [
    "X = []\n",
    "sentences = list(df_yemek[\"Comment\"])\n",
    "for sen in sentences:\n",
    "    X.append(sen)\n",
    "\n",
    "y = df_yemek[[\"Zamaninda Teslimat\",\"Ödeme\",\"Müşteri Hizmetleri\",\"Kampanya\",\"Doğru Sipariş\",\"İade\",\"Ürün Memnuniyeti\"]]"
   ]
  },
  {
   "cell_type": "code",
   "execution_count": 128,
   "metadata": {},
   "outputs": [],
   "source": [
    "X_train, X_test, y_train, y_test = train_test_split(X, y, test_size=0.20, random_state=42)\n"
   ]
  },
  {
   "cell_type": "code",
   "execution_count": 129,
   "metadata": {},
   "outputs": [],
   "source": [
    "# First output\n",
    "y1_train = y_train[[\"Zamaninda Teslimat\"]].values\n",
    "y1_test =  y_test[[\"Zamaninda Teslimat\"]].values\n",
    "\n",
    "# Second output\n",
    "y2_train = y_train[[\"Ödeme\"]].values\n",
    "y2_test =  y_test[[\"Ödeme\"]].values\n",
    "\n",
    "# Third output\n",
    "y3_train = y_train[[\"Müşteri Hizmetleri\"]].values\n",
    "y3_test =  y_test[[\"Müşteri Hizmetleri\"]].values\n",
    "\n",
    "# Fourth output\n",
    "y4_train = y_train[[\"Kampanya\"]].values\n",
    "y4_test =  y_test[[\"Kampanya\"]].values\n",
    "\n",
    "# Fifth output\n",
    "y5_train = y_train[[\"Doğru Sipariş\"]].values\n",
    "y5_test =  y_test[[\"Doğru Sipariş\"]].values\n",
    "\n",
    "# Sixth output\n",
    "y6_train = y_train[[\"İade\"]].values\n",
    "y6_test =  y_test[[\"İade\"]].values\n",
    "\n",
    "# Seventh output\n",
    "y7_train = y_train[[\"Ürün Memnuniyeti\"]].values\n",
    "y7_test =  y_test[[\"Ürün Memnuniyeti\"]].values"
   ]
  },
  {
   "cell_type": "code",
   "execution_count": 130,
   "metadata": {},
   "outputs": [],
   "source": [
    "tokenizer = Tokenizer(num_words=5000)\n",
    "tokenizer.fit_on_texts(X_train)\n",
    "\n",
    "X_train = tokenizer.texts_to_sequences(X_train)\n",
    "X_test = tokenizer.texts_to_sequences(X_test)\n",
    "\n",
    "vocab_size = len(tokenizer.word_index) + 1\n",
    "\n",
    "maxlen = 200\n",
    "\n",
    "X_train = pad_sequences(X_train, padding='post', maxlen=maxlen)\n",
    "X_test = pad_sequences(X_test, padding='post', maxlen=maxlen)"
   ]
  },
  {
   "cell_type": "code",
   "execution_count": 137,
   "metadata": {},
   "outputs": [],
   "source": [
    "input_1 = Input(shape=(maxlen,))\n",
    "embedding_layer = Embedding(vocab_size, 100, trainable=False)(input_1)\n",
    "LSTM_Layer1 = LSTM(128)(embedding_layer)\n",
    "\n",
    "output1 = Dense(1, activation='sigmoid')(LSTM_Layer1)\n",
    "output2 = Dense(1, activation='sigmoid')(LSTM_Layer1)\n",
    "output3 = Dense(1, activation='sigmoid')(LSTM_Layer1)\n",
    "output4 = Dense(1, activation='sigmoid')(LSTM_Layer1)\n",
    "output5 = Dense(1, activation='sigmoid')(LSTM_Layer1)\n",
    "output6 = Dense(1, activation='sigmoid')(LSTM_Layer1)\n",
    "output7 = Dense(1, activation='sigmoid')(LSTM_Layer1)\n",
    "\n",
    "\n",
    "model = Model(inputs=input_1, outputs=[output1, output2, output3, output4, output5, output6, output7])\n",
    "model.compile(loss='binary_crossentropy', optimizer='adam', metrics=['acc'])"
   ]
  },
  {
   "cell_type": "code",
   "execution_count": 138,
   "metadata": {},
   "outputs": [
    {
     "name": "stdout",
     "output_type": "stream",
     "text": [
      "Model: \"model_8\"\n",
      "__________________________________________________________________________________________________\n",
      "Layer (type)                    Output Shape         Param #     Connected to                     \n",
      "==================================================================================================\n",
      "input_10 (InputLayer)           (None, 200)          0                                            \n",
      "__________________________________________________________________________________________________\n",
      "embedding_9 (Embedding)         (None, 200, 100)     2006100     input_10[0][0]                   \n",
      "__________________________________________________________________________________________________\n",
      "lstm_8 (LSTM)                   (None, 128)          117248      embedding_9[0][0]                \n",
      "__________________________________________________________________________________________________\n",
      "dense_31 (Dense)                (None, 1)            129         lstm_8[0][0]                     \n",
      "__________________________________________________________________________________________________\n",
      "dense_32 (Dense)                (None, 1)            129         lstm_8[0][0]                     \n",
      "__________________________________________________________________________________________________\n",
      "dense_33 (Dense)                (None, 1)            129         lstm_8[0][0]                     \n",
      "__________________________________________________________________________________________________\n",
      "dense_34 (Dense)                (None, 1)            129         lstm_8[0][0]                     \n",
      "__________________________________________________________________________________________________\n",
      "dense_35 (Dense)                (None, 1)            129         lstm_8[0][0]                     \n",
      "__________________________________________________________________________________________________\n",
      "dense_36 (Dense)                (None, 1)            129         lstm_8[0][0]                     \n",
      "__________________________________________________________________________________________________\n",
      "dense_37 (Dense)                (None, 1)            129         lstm_8[0][0]                     \n",
      "==================================================================================================\n",
      "Total params: 2,124,251\n",
      "Trainable params: 118,151\n",
      "Non-trainable params: 2,006,100\n",
      "__________________________________________________________________________________________________\n",
      "None\n"
     ]
    }
   ],
   "source": [
    "print(model.summary())\n"
   ]
  },
  {
   "cell_type": "code",
   "execution_count": 139,
   "metadata": {},
   "outputs": [
    {
     "data": {
      "image/png": "[encoded data removed]",
      "text/plain": [
       "<IPython.core.display.Image object>"
      ]
     },
     "execution_count": 139,
     "metadata": {},
     "output_type": "execute_result"
    }
   ],
   "source": [
    "from keras.utils import plot_model\n",
    "plot_model(model, to_file='model_plot4b.png', show_shapes=True, show_layer_names=True)"
   ]
  },
  {
   "cell_type": "code",
   "execution_count": 146,
   "metadata": {
    "scrolled": true
   },
   "outputs": [
    {
     "name": "stdout",
     "output_type": "stream",
     "text": [
      "Train on 1584 samples, validate on 397 samples\n",
      "Epoch 1/5\n",
      "1584/1584 [==============================] - 5s 3ms/step - loss: 4.7398 - dense_31_loss: 0.6926 - dense_32_loss: 0.6908 - dense_33_loss: 0.6630 - dense_34_loss: 0.6614 - dense_35_loss: 0.6609 - dense_36_loss: 0.6948 - dense_37_loss: 0.6764 - dense_31_acc: 0.5638 - dense_32_acc: 0.5814 - dense_33_acc: 0.9223 - dense_34_acc: 0.9141 - dense_35_acc: 0.9318 - dense_36_acc: 0.3744 - dense_37_acc: 0.8447 - val_loss: 4.6684 - val_dense_31_loss: 0.6918 - val_dense_32_loss: 0.6891 - val_dense_33_loss: 0.6404 - val_dense_34_loss: 0.6430 - val_dense_35_loss: 0.6443 - val_dense_36_loss: 0.6930 - val_dense_37_loss: 0.6669 - val_dense_31_acc: 0.6121 - val_dense_32_acc: 0.5945 - val_dense_33_acc: 0.9521 - val_dense_34_acc: 0.9144 - val_dense_35_acc: 0.9471 - val_dense_36_acc: 0.6020 - val_dense_37_acc: 0.8388\n",
      "Epoch 2/5\n",
      "1584/1584 [==============================] - 5s 3ms/step - loss: 4.6745 - dense_31_loss: 0.6924 - dense_32_loss: 0.6895 - dense_33_loss: 0.6439 - dense_34_loss: 0.6430 - dense_35_loss: 0.6463 - dense_36_loss: 0.6929 - dense_37_loss: 0.6664 - dense_31_acc: 0.5638 - dense_32_acc: 0.5827 - dense_33_acc: 0.9223 - dense_34_acc: 0.9160 - dense_35_acc: 0.9318 - dense_36_acc: 0.6370 - dense_37_acc: 0.8453 - val_loss: 4.5841 - val_dense_31_loss: 0.6912 - val_dense_32_loss: 0.6871 - val_dense_33_loss: 0.6148 - val_dense_34_loss: 0.6197 - val_dense_35_loss: 0.6257 - val_dense_36_loss: 0.6914 - val_dense_37_loss: 0.6543 - val_dense_31_acc: 0.6121 - val_dense_32_acc: 0.5919 - val_dense_33_acc: 0.9521 - val_dense_34_acc: 0.9144 - val_dense_35_acc: 0.9471 - val_dense_36_acc: 0.6020 - val_dense_37_acc: 0.8413\n",
      "Epoch 3/5\n",
      "1584/1584 [==============================] - 5s 3ms/step - loss: 4.5925 - dense_31_loss: 0.6921 - dense_32_loss: 0.6878 - dense_33_loss: 0.6201 - dense_34_loss: 0.6198 - dense_35_loss: 0.6285 - dense_36_loss: 0.6907 - dense_37_loss: 0.6535 - dense_31_acc: 0.5638 - dense_32_acc: 0.5821 - dense_33_acc: 0.9223 - dense_34_acc: 0.9160 - dense_35_acc: 0.9331 - dense_36_acc: 0.6376 - dense_37_acc: 0.8466 - val_loss: 4.4670 - val_dense_31_loss: 0.6904 - val_dense_32_loss: 0.6844 - val_dense_33_loss: 0.5793 - val_dense_34_loss: 0.5877 - val_dense_35_loss: 0.5998 - val_dense_36_loss: 0.6894 - val_dense_37_loss: 0.6360 - val_dense_31_acc: 0.6071 - val_dense_32_acc: 0.5919 - val_dense_33_acc: 0.9521 - val_dense_34_acc: 0.9144 - val_dense_35_acc: 0.9471 - val_dense_36_acc: 0.6020 - val_dense_37_acc: 0.8413\n",
      "Epoch 4/5\n",
      "1584/1584 [==============================] - 6s 4ms/step - loss: 4.4787 - dense_31_loss: 0.6916 - dense_32_loss: 0.6853 - dense_33_loss: 0.5873 - dense_34_loss: 0.5879 - dense_35_loss: 0.6038 - dense_36_loss: 0.6880 - dense_37_loss: 0.6349 - dense_31_acc: 0.5625 - dense_32_acc: 0.5821 - dense_33_acc: 0.9223 - dense_34_acc: 0.9160 - dense_35_acc: 0.9331 - dense_36_acc: 0.6389 - dense_37_acc: 0.8466 - val_loss: 4.2839 - val_dense_31_loss: 0.6888 - val_dense_32_loss: 0.6805 - val_dense_33_loss: 0.5242 - val_dense_34_loss: 0.5389 - val_dense_35_loss: 0.5586 - val_dense_36_loss: 0.6863 - val_dense_37_loss: 0.6066 - val_dense_31_acc: 0.6071 - val_dense_32_acc: 0.5919 - val_dense_33_acc: 0.9521 - val_dense_34_acc: 0.9144 - val_dense_35_acc: 0.9471 - val_dense_36_acc: 0.6020 - val_dense_37_acc: 0.8413\n",
      "Epoch 5/5\n",
      "1584/1584 [==============================] - 6s 4ms/step - loss: 4.3017 - dense_31_loss: 0.6907 - dense_32_loss: 0.6819 - dense_33_loss: 0.5366 - dense_34_loss: 0.5392 - dense_35_loss: 0.5646 - dense_36_loss: 0.6838 - dense_37_loss: 0.6049 - dense_31_acc: 0.5612 - dense_32_acc: 0.5821 - dense_33_acc: 0.9223 - dense_34_acc: 0.9160 - dense_35_acc: 0.9331 - dense_36_acc: 0.6389 - dense_37_acc: 0.8466 - val_loss: 3.9591 - val_dense_31_loss: 0.6858 - val_dense_32_loss: 0.6758 - val_dense_33_loss: 0.4277 - val_dense_34_loss: 0.4546 - val_dense_35_loss: 0.4816 - val_dense_36_loss: 0.6809 - val_dense_37_loss: 0.5528 - val_dense_31_acc: 0.6071 - val_dense_32_acc: 0.5919 - val_dense_33_acc: 0.9521 - val_dense_34_acc: 0.9144 - val_dense_35_acc: 0.9471 - val_dense_36_acc: 0.6020 - val_dense_37_acc: 0.8413\n"
     ]
    }
   ],
   "source": [
    "history = model.fit(x=X_train, y=[y1_train, y2_train, y3_train, y4_train, y5_train, y6_train, y7_train], batch_size=8192, epochs=5, verbose=1, validation_split=0.2)"
   ]
  },
  {
   "cell_type": "code",
   "execution_count": 147,
   "metadata": {},
   "outputs": [
    {
     "name": "stdout",
     "output_type": "stream",
     "text": [
      "496/496 [==============================] - 1s 3ms/step\n",
      "Test Score: 3.9905738830566406\n",
      "Test Accuracy: 0.6850904226303101\n"
     ]
    }
   ],
   "source": [
    "\n",
    "score = model.evaluate(x=X_test, y=[y1_test, y2_test, y3_test, y4_test, y5_test, y6_test, y7_test], verbose=1)\n",
    "\n",
    "print(\"Test Score:\", score[0])\n",
    "print(\"Test Accuracy:\", score[1])"
   ]
  },
  {
   "cell_type": "code",
   "execution_count": 149,
   "metadata": {},
   "outputs": [
    {
     "data": {
      "image/png": "[encoded data removed]",
      "text/plain": [
       "<Figure size 720x576 with 1 Axes>"
      ]
     },
     "metadata": {
      "needs_background": "light"
     },
     "output_type": "display_data"
    },
    {
     "data": {
      "image/png": "[encoded data removed]",
      "text/plain": [
       "<Figure size 720x576 with 1 Axes>"
      ]
     },
     "metadata": {
      "needs_background": "light"
     },
     "output_type": "display_data"
    }
   ],
   "source": [
    "import matplotlib.pyplot as plt\n",
    "\n",
    "plt.plot(history.history['dense_31_acc'])\n",
    "plt.plot(history.history['val_dense_31_acc'])\n",
    "\n",
    "plt.title('model accuracy')\n",
    "plt.ylabel('accuracy')\n",
    "plt.xlabel('epoch')\n",
    "plt.legend(['train','test'], loc='upper left')\n",
    "plt.show()\n",
    "\n",
    "plt.plot(history.history['dense_31_loss'])\n",
    "plt.plot(history.history['val_dense_31_loss'])\n",
    "\n",
    "plt.title('model loss')\n",
    "plt.ylabel('loss')\n",
    "plt.xlabel('epoch')\n",
    "plt.legend(['train','test'], loc='upper left')\n",
    "plt.show()"
   ]
  },
  {
   "cell_type": "markdown",
   "metadata": {},
   "source": [
    "# RAKE\n"
   ]
  },
  {
   "cell_type": "code",
   "execution_count": 36,
   "metadata": {},
   "outputs": [],
   "source": [
    "#from rake_nltk import Metric,Rake"
   ]
  },
  {
   "cell_type": "code",
   "execution_count": 37,
   "metadata": {},
   "outputs": [],
   "source": [
    "#rake_object = Rake(stopwords='turkce-stop-words')\n",
    "#rake_object = Rake(ranking_metric=Metric.DEGREE_TO_FREQUENCY_RATIO)\n",
    "#rake_object = Rake(ranking_metric=Metric.WORD_DEGREE)\n",
    "#rake_object = Rake(ranking_metric=Metric.WORD_FREQUENCY)\n",
    "#rake_object = Rake(min_length=1, max_length=2)\n"
   ]
  },
  {
   "cell_type": "code",
   "execution_count": 38,
   "metadata": {},
   "outputs": [],
   "source": [
    "text = \"Compatibility of systems of linear constraints over the set of natural numbers. Criteria of compatibility of a system of linear Diophantine equations, strict inequations, and nonstrict inequations are considered.Upper bounds for components of a minimal set of solutions and algorithms of construction of minimal generatingsets of solutions for all types of systems are given. These criteria and the corresponding algorithms for constructing a minimal supporting set of solutions can be used in solving all the considered types of systems and systems of mixed types.\""
   ]
  },
  {
   "cell_type": "code",
   "execution_count": 39,
   "metadata": {},
   "outputs": [],
   "source": [
    "#text1 =''\n",
    "##for i in data_giyim:\n",
    "#    text1 = text1+str(i)"
   ]
  },
  {
   "cell_type": "code",
   "execution_count": 40,
   "metadata": {},
   "outputs": [],
   "source": [
    "#text1"
   ]
  },
  {
   "cell_type": "code",
   "execution_count": 41,
   "metadata": {},
   "outputs": [],
   "source": [
    "#rake_object.extract_keywords_from_text(text1)"
   ]
  },
  {
   "cell_type": "code",
   "execution_count": 42,
   "metadata": {},
   "outputs": [],
   "source": [
    "#rake_object.get_ranked_phrases()"
   ]
  },
  {
   "cell_type": "code",
   "execution_count": 43,
   "metadata": {},
   "outputs": [],
   "source": [
    "#rake_object.get_ranked_phrases_with_scores()"
   ]
  },
  {
   "cell_type": "code",
   "execution_count": null,
   "metadata": {},
   "outputs": [],
   "source": []
  }
 ],
 "metadata": {
  "kernelspec": {
   "display_name": "Python 3",
   "language": "python",
   "name": "python3"
  },
  "language_info": {
   "codemirror_mode": {
    "name": "ipython",
    "version": 3
   },
   "file_extension": ".py",
   "mimetype": "text/x-python",
   "name": "python",
   "nbconvert_exporter": "python",
   "pygments_lexer": "ipython3",
   "version": "3.7.7"
  }
 },
 "nbformat": 4,
 "nbformat_minor": 4
}
