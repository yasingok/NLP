{
 "cells": [
  {
   "cell_type": "code",
   "execution_count": 1,
   "metadata": {
    "scrolled": true
   },
   "outputs": [
    {
     "name": "stderr",
     "output_type": "stream",
     "text": [
      "Using TensorFlow backend.\n"
     ]
    }
   ],
   "source": [
    "import json\n",
    "import pandas as pd\n",
    "import numpy as np\n",
    "import re\n",
    "import nltk\n",
    "from nltk.corpus import stopwords\n",
    "from numpy import array\n",
    "from keras.preprocessing.text import one_hot\n",
    "from keras.preprocessing.sequence import pad_sequences\n",
    "from keras.models import Sequential\n",
    "from keras.layers.core import Activation, Dropout, Dense\n",
    "from keras.layers import Flatten\n",
    "from keras.layers import GlobalMaxPooling1D\n",
    "from keras.layers.embeddings import Embedding\n",
    "from sklearn.model_selection import train_test_split\n",
    "from keras.preprocessing.text import Tokenizer"
   ]
  },
  {
   "cell_type": "code",
   "execution_count": 2,
   "metadata": {},
   "outputs": [],
   "source": [
    "with open('siparis.json',encoding=\"utf8\") as f:\n",
    "    data = json.load(f)\n"
   ]
  },
  {
   "cell_type": "code",
   "execution_count": 3,
   "metadata": {},
   "outputs": [
    {
     "data": {
      "text/plain": [
       "98342"
      ]
     },
     "execution_count": 3,
     "metadata": {},
     "output_type": "execute_result"
    }
   ],
   "source": [
    "df = pd.DataFrame(data,columns = ['Comment','Brand','Sector'])\n",
    "len(df)"
   ]
  },
  {
   "cell_type": "markdown",
   "metadata": {},
   "source": [
    "# Konu Basliklari"
   ]
  },
  {
   "cell_type": "code",
   "execution_count": 392,
   "metadata": {
    "scrolled": false
   },
   "outputs": [],
   "source": [
    "#print(df.Brand.value_counts())\n",
    "#a = df.Brand.value_counts()\n"
   ]
  },
  {
   "cell_type": "code",
   "execution_count": 5,
   "metadata": {},
   "outputs": [],
   "source": [
    "df[\"Sector\"] = df.Brand.map(lambda sentences: None )"
   ]
  },
  {
   "cell_type": "code",
   "execution_count": 6,
   "metadata": {},
   "outputs": [],
   "source": [
    "taşıma_list = [\"Aras Kargo\",\"Sürat Kargo\",\"MNG Kargo\",\"Horoz Lojistik\",\"Trendyol Express\",\"UPS Türkiye\",\"hepsiJET\",\"Getir\"]\n",
    "for i in taşıma_list:\n",
    "    df.Sector[df.Brand == i ] = \"Taşıma\""
   ]
  },
  {
   "cell_type": "code",
   "execution_count": 7,
   "metadata": {},
   "outputs": [],
   "source": [
    "giyim_list = [\"Penti\",\"Boyner\",\"DeFacto\",\"Gratis\", \"LC Waikiki\",\"FLO Ayakkabı\",\"Bershka\"]\n",
    "for i in giyim_list:\n",
    "    df.Sector[df.Brand == i ] = \"Giyim\""
   ]
  },
  {
   "cell_type": "code",
   "execution_count": 8,
   "metadata": {},
   "outputs": [],
   "source": [
    "yemek_list = [\"Yemek Sepeti\",\"Domino's Pizza\",\"Protein Market\"]\n",
    "for i in yemek_list:\n",
    "    df.Sector[df.Brand == i ] = \"Yemek\""
   ]
  },
  {
   "cell_type": "code",
   "execution_count": 9,
   "metadata": {},
   "outputs": [],
   "source": [
    "teknoloji_list = [\"Media Markt\"]\n",
    "for i in teknoloji_list:\n",
    "    df.Sector[df.Brand == i ] = \"Teknoloji\""
   ]
  },
  {
   "cell_type": "code",
   "execution_count": 10,
   "metadata": {},
   "outputs": [],
   "source": [
    "ev_esyasi_list = [\"Evform\",\"Tekzen\",\"IKEA\"]\n",
    "for i in ev_esyasi_list:\n",
    "    df.Sector[df.Brand == i ] = \"EvEsyasi\""
   ]
  },
  {
   "cell_type": "code",
   "execution_count": 11,
   "metadata": {},
   "outputs": [],
   "source": [
    "kitap_list = [\"Kitap Seç\",\"Bkm Kitap\",\"D&R\"]\n",
    "for i in kitap_list:\n",
    "    df.Sector[df.Brand == i ] = \"Kitap\""
   ]
  },
  {
   "cell_type": "code",
   "execution_count": 12,
   "metadata": {},
   "outputs": [],
   "source": [
    "ticaret_sitesi_list = [\"Çiçek Sepeti\",\"N11\"]\n",
    "for i in ticaret_sitesi_list:\n",
    "    df.Sector[df.Brand == i ] = \"ETicaret\""
   ]
  },
  {
   "cell_type": "code",
   "execution_count": 393,
   "metadata": {},
   "outputs": [],
   "source": [
    "#for i in df[\"Sector\"]:\n",
    "    #print(i)"
   ]
  },
  {
   "cell_type": "code",
   "execution_count": 14,
   "metadata": {},
   "outputs": [],
   "source": [
    "df1 = df.dropna()\n"
   ]
  },
  {
   "cell_type": "code",
   "execution_count": 394,
   "metadata": {},
   "outputs": [],
   "source": [
    "#for i in df1[\"Sector\"]:\n",
    "#    print(i)\n",
    "#len(df1)    "
   ]
  },
  {
   "cell_type": "code",
   "execution_count": 16,
   "metadata": {},
   "outputs": [
    {
     "data": {
      "text/plain": [
       "Taşıma       22101\n",
       "Giyim        14658\n",
       "ETicaret      7583\n",
       "Yemek         2477\n",
       "Kitap         2475\n",
       "EvEsyasi      2297\n",
       "Teknoloji      646\n",
       "Name: Sector, dtype: int64"
      ]
     },
     "execution_count": 16,
     "metadata": {},
     "output_type": "execute_result"
    }
   ],
   "source": [
    "df1.Sector.value_counts()"
   ]
  },
  {
   "cell_type": "code",
   "execution_count": 17,
   "metadata": {},
   "outputs": [],
   "source": [
    "#df1"
   ]
  },
  {
   "cell_type": "markdown",
   "metadata": {},
   "source": [
    "# Alt Konu Basliklari"
   ]
  },
  {
   "cell_type": "code",
   "execution_count": 18,
   "metadata": {},
   "outputs": [],
   "source": [
    "konu_list = [\"Giyim\",\"Taşıma\",\"Yemek\",\"Teknoloji\",\"Ev Eşyası\",\"Kitap\"]\n",
    "data_kitap = df1.Comment[df.Sector == \"Kitap\"]\n",
    "data_giyim = df1.Comment[df.Sector == \"Giyim\"]\n",
    "data_tasıma = df1.Comment[df.Sector == \"Taşıma\"]\n",
    "data_yemek = df1.Comment[df.Sector == \"Yemek\"]\n",
    "data_teknoloji = df1.Comment[df.Sector == \"Teknoloji\"]\n",
    "data_esya = df1.Comment[df.Sector == \"EvEsyasi\"]"
   ]
  },
  {
   "cell_type": "code",
   "execution_count": 19,
   "metadata": {},
   "outputs": [
    {
     "name": "stdout",
     "output_type": "stream",
     "text": [
      "Kitap  => 2475\n",
      "Giyim  => 14658\n",
      "Tasima => 22101\n",
      "Yemek => 2477\n",
      "Teknoloji => 646\n",
      "Esya => 2297\n"
     ]
    }
   ],
   "source": [
    "print(\"Kitap  =>\",len(data_kitap)) \n",
    "print(\"Giyim  =>\",len(data_giyim)) \n",
    "print(\"Tasima =>\",len(data_tasıma))  \n",
    "print(\"Yemek =>\",len(data_yemek))  \n",
    "print(\"Teknoloji =>\",len(data_teknoloji))  \n",
    "print(\"Esya =>\",len(data_esya))  "
   ]
  },
  {
   "cell_type": "markdown",
   "metadata": {},
   "source": [
    "# LDA"
   ]
  },
  {
   "cell_type": "code",
   "execution_count": 20,
   "metadata": {},
   "outputs": [],
   "source": [
    "from sklearn.feature_extraction.text import CountVectorizer\n",
    "stop_words = open('turkce-stop-words', 'r',encoding ='utf-8').read().split()\n",
    "cv = CountVectorizer(max_df=0.5,min_df=2, stop_words=stop_words)\n",
    "dtm  = cv.fit_transform(data_esya)"
   ]
  },
  {
   "cell_type": "code",
   "execution_count": 21,
   "metadata": {},
   "outputs": [
    {
     "name": "stdout",
     "output_type": "stream",
     "text": [
      "The topic would be 0\n",
      "['verdiğim', 'ceva', 'ürünü', 'iade', 'geri', 'geldi', 'müşteri', 'horoz', 'ürün', 'lojistik', 'yok', 'gün', 'teslim', 'kargo', 'ikea']\n",
      "\n",
      "\n",
      "The topic would be 1\n",
      "['ürünün', 'tarihinde', 'aradım', 'siparişi', 'tüketici', 'verdim', 'iptal', 'iade', '2020', 'ay', 'gün', 'yok', 'müşteri', 'masa', 'ürün']\n",
      "\n",
      "\n",
      "The topic would be 2\n",
      "['eksik', 'verdim', 'iadesi', 'ay', 'yok', 'teslim', 'tekzen', 'ikea', 'gün', 'iptal', 'para', 'ürünü', 'müşteri', 'ürün', 'iade']\n",
      "\n",
      "\n",
      "The topic would be 3\n",
      "['firma', 'tl', 'siparişim', 'alışveriş', 'gün', 'kargoya', 'den', 'tarihinde', '2020', 'ikea', 'müşteri', 'ürün', 'kargo', 'tekzen', 'yok']\n",
      "\n",
      "\n",
      "The topic would be 4\n",
      "['07', 'ikea', 'numaralı', 'dönüş', 'tekzen', 'kargo', 'ürün', 'teslim', '06', 'gün', '05', 'müşteri', 'tarihinde', 'kargoya', '2020']\n",
      "\n",
      "\n"
     ]
    }
   ],
   "source": [
    "from sklearn.decomposition import LatentDirichletAllocation\n",
    "lda = LatentDirichletAllocation(n_components=5,random_state=11)\n",
    "\n",
    "lda_fit  = lda.fit(dtm)\n",
    "\n",
    "# understanding each topics top 10 common words  \n",
    "for id_value, value in enumerate(lda_fit.components_):\n",
    "    print(f\"The topic would be {id_value}\") \n",
    "    print([cv.get_feature_names()[index] for index in value.argsort()   [-15:]])\n",
    "    print(\"\\n\")"
   ]
  },
  {
   "cell_type": "code",
   "execution_count": 22,
   "metadata": {},
   "outputs": [],
   "source": [
    "data_kitap_keyword = [\"Kargo\",\"stok\",\"müşteri hizmetleri\",\"iade\"]"
   ]
  },
  {
   "cell_type": "code",
   "execution_count": 23,
   "metadata": {},
   "outputs": [],
   "source": [
    "data_giyim_keyword = [\"Kargo\",\"stok\",\"müşteri hizmetleri\",\"iade\"]"
   ]
  },
  {
   "cell_type": "code",
   "execution_count": 24,
   "metadata": {},
   "outputs": [],
   "source": [
    "data_taşıma_keyword = [\"Gecikme\",\"şube\",\"Dağıtım\",\"müşteri hizmetleri\",\"iade\"]"
   ]
  },
  {
   "cell_type": "code",
   "execution_count": 25,
   "metadata": {},
   "outputs": [],
   "source": [
    "data_yemek_keyword = [\"Gecikme\",\"Ödeme\",\"Dağıtım\",\"müsteri hizmetleri\",\"şube\",\"iade\"]"
   ]
  },
  {
   "cell_type": "code",
   "execution_count": 26,
   "metadata": {},
   "outputs": [],
   "source": [
    "data_teknoloji_keyword = [\"Gecikme\",\"stok\",\"iade\",\"müsteri hizmetleri\"]"
   ]
  },
  {
   "cell_type": "code",
   "execution_count": 27,
   "metadata": {},
   "outputs": [],
   "source": [
    "data_esya_keyword = [\"Gecikme\",\"stok\",\"iade\",\"müsteri hizmetleri\"]"
   ]
  },
  {
   "cell_type": "code",
   "execution_count": null,
   "metadata": {},
   "outputs": [],
   "source": []
  },
  {
   "cell_type": "code",
   "execution_count": null,
   "metadata": {},
   "outputs": [],
   "source": []
  },
  {
   "cell_type": "code",
   "execution_count": 395,
   "metadata": {},
   "outputs": [],
   "source": [
    "count = 0  #5556\n",
    "#for i in data_esya:\n",
    "  #  print(i)\n",
    "  # count = count+1\n",
    "   # print(count,\"=================================================================\")"
   ]
  },
  {
   "cell_type": "code",
   "execution_count": 396,
   "metadata": {},
   "outputs": [],
   "source": [
    "count = 0  #615\n",
    "#for  i in data_esya:\n",
    "  #  if \"eksik\" in i:\n",
    "     #   print(i)\n",
    "     #   count = count+1\n",
    "      #  print(count,\"=================================================================\")  \n"
   ]
  },
  {
   "cell_type": "code",
   "execution_count": 30,
   "metadata": {},
   "outputs": [
    {
     "data": {
      "text/plain": [
       "52237"
      ]
     },
     "execution_count": 30,
     "metadata": {},
     "output_type": "execute_result"
    }
   ],
   "source": [
    "len(df1)"
   ]
  },
  {
   "cell_type": "code",
   "execution_count": 31,
   "metadata": {
    "scrolled": false
   },
   "outputs": [
    {
     "data": {
      "text/plain": [
       "52237"
      ]
     },
     "execution_count": 31,
     "metadata": {},
     "output_type": "execute_result"
    }
   ],
   "source": [
    "df_model = pd.DataFrame(df1,columns = ['Comment','Brand','Sector','Gecikme','Şube','Dağıtım','Müşteri Hizmetleri',\n",
    "                                       'Kargo','Stok','iade','Ödeme','Eksik Ürün'])\n",
    "\n",
    "\n",
    "\n",
    "#df_model.sort_index(axis = 1) \n",
    "len(df_model)"
   ]
  },
  {
   "cell_type": "code",
   "execution_count": 32,
   "metadata": {},
   "outputs": [],
   "source": [
    "konu_list = ['Gecikme','Şube','Dağıtım','Müşteri Hizmetleri','Kargo','Stok','iade','Ödeme','Eksik Ürün']\n",
    "for i in konu_list:\n",
    "    df_model[i] = df_model[i].map(lambda a: 0)\n",
    "        "
   ]
  },
  {
   "cell_type": "code",
   "execution_count": 33,
   "metadata": {},
   "outputs": [],
   "source": [
    "#[\"Giyim\",\"Taşıma\",\"Yemek\",\"Teknoloji\",\"Ev Eşyası\",\"Kitap\"]\n",
    "\n",
    "df_giyim = df_model[df_model.Sector == \"Giyim\"]\n",
    "df_tasima = df_model[df_model.Sector == \"Taşıma\"]\n",
    "df_yemek = df_model[df_model.Sector == \"Yemek\"]\n",
    "df_teknoloji = df_model[df_model.Sector == \"Teknoloji\"]\n",
    "df_esya = df_model[df_model.Sector == \"EvEsyasi\"]\n",
    "df_kitap = df_model[df_model.Sector == \"Kitap\"]\n"
   ]
  },
  {
   "cell_type": "code",
   "execution_count": 34,
   "metadata": {},
   "outputs": [],
   "source": [
    "#df_esya"
   ]
  },
  {
   "cell_type": "code",
   "execution_count": null,
   "metadata": {},
   "outputs": [],
   "source": []
  },
  {
   "cell_type": "markdown",
   "metadata": {},
   "source": [
    "# Kargo"
   ]
  },
  {
   "cell_type": "code",
   "execution_count": 35,
   "metadata": {},
   "outputs": [],
   "source": [
    "def check_value(sentence,anahtar):\n",
    "    for word in anahtar:\n",
    "        if word in sentence:\n",
    "            return 1\n",
    "    return 0    "
   ]
  },
  {
   "cell_type": "code",
   "execution_count": 36,
   "metadata": {
    "scrolled": true
   },
   "outputs": [
    {
     "name": "stderr",
     "output_type": "stream",
     "text": [
      "C:\\Users\\yasin\\Anaconda3\\envs\\nlp_course\\lib\\site-packages\\ipykernel_launcher.py:2: SettingWithCopyWarning: \n",
      "A value is trying to be set on a copy of a slice from a DataFrame.\n",
      "Try using .loc[row_indexer,col_indexer] = value instead\n",
      "\n",
      "See the caveats in the documentation: http://pandas.pydata.org/pandas-docs/stable/indexing.html#indexing-view-versus-copy\n",
      "  \n"
     ]
    }
   ],
   "source": [
    "anahtar = [\"gecikme\",\"teslim tarihi\",\"gün\"] \n",
    "df_tasima['Gecikme'] = df_tasima['Comment'].map(lambda sentence: check_value(sentence,anahtar) )"
   ]
  },
  {
   "cell_type": "code",
   "execution_count": 37,
   "metadata": {
    "scrolled": true
   },
   "outputs": [
    {
     "name": "stderr",
     "output_type": "stream",
     "text": [
      "C:\\Users\\yasin\\Anaconda3\\envs\\nlp_course\\lib\\site-packages\\ipykernel_launcher.py:2: SettingWithCopyWarning: \n",
      "A value is trying to be set on a copy of a slice from a DataFrame.\n",
      "Try using .loc[row_indexer,col_indexer] = value instead\n",
      "\n",
      "See the caveats in the documentation: http://pandas.pydata.org/pandas-docs/stable/indexing.html#indexing-view-versus-copy\n",
      "  \n"
     ]
    }
   ],
   "source": [
    "anahtar = [\"şube\"] \n",
    "df_tasima['Şube'] = df_tasima['Comment'].map(lambda sentence: check_value(sentence,anahtar) )"
   ]
  },
  {
   "cell_type": "code",
   "execution_count": 38,
   "metadata": {},
   "outputs": [
    {
     "name": "stderr",
     "output_type": "stream",
     "text": [
      "C:\\Users\\yasin\\Anaconda3\\envs\\nlp_course\\lib\\site-packages\\ipykernel_launcher.py:2: SettingWithCopyWarning: \n",
      "A value is trying to be set on a copy of a slice from a DataFrame.\n",
      "Try using .loc[row_indexer,col_indexer] = value instead\n",
      "\n",
      "See the caveats in the documentation: http://pandas.pydata.org/pandas-docs/stable/indexing.html#indexing-view-versus-copy\n",
      "  \n"
     ]
    }
   ],
   "source": [
    "anahtar = [\"dağıtım\"] \n",
    "df_tasima['Dağıtım'] = df_tasima['Comment'].map(lambda sentence: check_value(sentence,anahtar) )"
   ]
  },
  {
   "cell_type": "code",
   "execution_count": 397,
   "metadata": {},
   "outputs": [],
   "source": [
    "#df_tasima"
   ]
  },
  {
   "cell_type": "markdown",
   "metadata": {},
   "source": [
    "# Giyim"
   ]
  },
  {
   "cell_type": "code",
   "execution_count": 40,
   "metadata": {},
   "outputs": [],
   "source": [
    "#['Gecikme','Şube','Dağıtım','Müşteri Hizmetleri','Kargo','Stok','iade','Ödeme','Eksik Ürün']"
   ]
  },
  {
   "cell_type": "code",
   "execution_count": 41,
   "metadata": {},
   "outputs": [
    {
     "name": "stderr",
     "output_type": "stream",
     "text": [
      "C:\\Users\\yasin\\Anaconda3\\envs\\nlp_course\\lib\\site-packages\\ipykernel_launcher.py:2: SettingWithCopyWarning: \n",
      "A value is trying to be set on a copy of a slice from a DataFrame.\n",
      "Try using .loc[row_indexer,col_indexer] = value instead\n",
      "\n",
      "See the caveats in the documentation: http://pandas.pydata.org/pandas-docs/stable/indexing.html#indexing-view-versus-copy\n",
      "  \n"
     ]
    }
   ],
   "source": [
    "anahtar = [\"kargo\",\"tedarik\"] \n",
    "df_giyim['Kargo'] = df_giyim['Comment'].map(lambda sentence: check_value(sentence,anahtar) )"
   ]
  },
  {
   "cell_type": "code",
   "execution_count": 42,
   "metadata": {},
   "outputs": [
    {
     "name": "stderr",
     "output_type": "stream",
     "text": [
      "C:\\Users\\yasin\\Anaconda3\\envs\\nlp_course\\lib\\site-packages\\ipykernel_launcher.py:2: SettingWithCopyWarning: \n",
      "A value is trying to be set on a copy of a slice from a DataFrame.\n",
      "Try using .loc[row_indexer,col_indexer] = value instead\n",
      "\n",
      "See the caveats in the documentation: http://pandas.pydata.org/pandas-docs/stable/indexing.html#indexing-view-versus-copy\n",
      "  \n"
     ]
    }
   ],
   "source": [
    "anahtar = [\"Müşteri Hizmetleri\",\"müşteri hizmetleri\"] \n",
    "df_giyim['Müşteri Hizmetleri'] = df_giyim['Comment'].map(lambda sentence: check_value(sentence,anahtar) )"
   ]
  },
  {
   "cell_type": "code",
   "execution_count": 43,
   "metadata": {},
   "outputs": [
    {
     "name": "stderr",
     "output_type": "stream",
     "text": [
      "C:\\Users\\yasin\\Anaconda3\\envs\\nlp_course\\lib\\site-packages\\ipykernel_launcher.py:2: SettingWithCopyWarning: \n",
      "A value is trying to be set on a copy of a slice from a DataFrame.\n",
      "Try using .loc[row_indexer,col_indexer] = value instead\n",
      "\n",
      "See the caveats in the documentation: http://pandas.pydata.org/pandas-docs/stable/indexing.html#indexing-view-versus-copy\n",
      "  \n"
     ]
    }
   ],
   "source": [
    "anahtar = [\"gecikme\",\"teslim tarihi\",\"gün\"] \n",
    "df_giyim['iade'] = df_giyim['Comment'].map(lambda sentence: check_value(sentence,anahtar) )"
   ]
  },
  {
   "cell_type": "code",
   "execution_count": 44,
   "metadata": {},
   "outputs": [],
   "source": [
    "#df_giyim"
   ]
  },
  {
   "cell_type": "markdown",
   "metadata": {},
   "source": [
    "# Kitap"
   ]
  },
  {
   "cell_type": "code",
   "execution_count": 45,
   "metadata": {},
   "outputs": [],
   "source": [
    "#['Gecikme','Şube','Dağıtım','Müşteri Hizmetleri','Kargo','Stok','iade','Ödeme','Eksik Ürün']"
   ]
  },
  {
   "cell_type": "code",
   "execution_count": 46,
   "metadata": {},
   "outputs": [
    {
     "name": "stderr",
     "output_type": "stream",
     "text": [
      "C:\\Users\\yasin\\Anaconda3\\envs\\nlp_course\\lib\\site-packages\\ipykernel_launcher.py:2: SettingWithCopyWarning: \n",
      "A value is trying to be set on a copy of a slice from a DataFrame.\n",
      "Try using .loc[row_indexer,col_indexer] = value instead\n",
      "\n",
      "See the caveats in the documentation: http://pandas.pydata.org/pandas-docs/stable/indexing.html#indexing-view-versus-copy\n",
      "  \n"
     ]
    }
   ],
   "source": [
    "anahtar = [\"kargo\",\"tedarik\"] \n",
    "df_kitap['Kargo'] = df_kitap['Comment'].map(lambda sentence: check_value(sentence,anahtar) )"
   ]
  },
  {
   "cell_type": "code",
   "execution_count": 47,
   "metadata": {},
   "outputs": [
    {
     "name": "stderr",
     "output_type": "stream",
     "text": [
      "C:\\Users\\yasin\\Anaconda3\\envs\\nlp_course\\lib\\site-packages\\ipykernel_launcher.py:2: SettingWithCopyWarning: \n",
      "A value is trying to be set on a copy of a slice from a DataFrame.\n",
      "Try using .loc[row_indexer,col_indexer] = value instead\n",
      "\n",
      "See the caveats in the documentation: http://pandas.pydata.org/pandas-docs/stable/indexing.html#indexing-view-versus-copy\n",
      "  \n"
     ]
    }
   ],
   "source": [
    "anahtar = [\"stok\"] \n",
    "df_kitap['Stok'] = df_kitap['Comment'].map(lambda sentence: check_value(sentence,anahtar) )"
   ]
  },
  {
   "cell_type": "code",
   "execution_count": 48,
   "metadata": {},
   "outputs": [
    {
     "name": "stderr",
     "output_type": "stream",
     "text": [
      "C:\\Users\\yasin\\Anaconda3\\envs\\nlp_course\\lib\\site-packages\\ipykernel_launcher.py:2: SettingWithCopyWarning: \n",
      "A value is trying to be set on a copy of a slice from a DataFrame.\n",
      "Try using .loc[row_indexer,col_indexer] = value instead\n",
      "\n",
      "See the caveats in the documentation: http://pandas.pydata.org/pandas-docs/stable/indexing.html#indexing-view-versus-copy\n",
      "  \n"
     ]
    }
   ],
   "source": [
    "anahtar = [\"müşteri hizmetleri\"] \n",
    "df_kitap['Müşteri Hizmetleri'] = df_kitap['Comment'].map(lambda sentence: check_value(sentence,anahtar) )"
   ]
  },
  {
   "cell_type": "code",
   "execution_count": 398,
   "metadata": {},
   "outputs": [],
   "source": [
    "#df_kitap"
   ]
  },
  {
   "cell_type": "markdown",
   "metadata": {},
   "source": [
    "# Yemek"
   ]
  },
  {
   "cell_type": "code",
   "execution_count": 50,
   "metadata": {},
   "outputs": [],
   "source": [
    "#['Gecikme','Şube','Dağıtım','Müşteri Hizmetleri','Kargo','Stok','iade','Ödeme','Eksik Ürün']"
   ]
  },
  {
   "cell_type": "code",
   "execution_count": 51,
   "metadata": {},
   "outputs": [
    {
     "name": "stderr",
     "output_type": "stream",
     "text": [
      "C:\\Users\\yasin\\Anaconda3\\envs\\nlp_course\\lib\\site-packages\\ipykernel_launcher.py:2: SettingWithCopyWarning: \n",
      "A value is trying to be set on a copy of a slice from a DataFrame.\n",
      "Try using .loc[row_indexer,col_indexer] = value instead\n",
      "\n",
      "See the caveats in the documentation: http://pandas.pydata.org/pandas-docs/stable/indexing.html#indexing-view-versus-copy\n",
      "  \n"
     ]
    }
   ],
   "source": [
    "anahtar = [\"gecikme\",\"dakika\",\"saat\"] \n",
    "df_yemek['Gecikme'] = df_yemek['Comment'].map(lambda sentence: check_value(sentence,anahtar) )"
   ]
  },
  {
   "cell_type": "code",
   "execution_count": 52,
   "metadata": {},
   "outputs": [
    {
     "name": "stderr",
     "output_type": "stream",
     "text": [
      "C:\\Users\\yasin\\Anaconda3\\envs\\nlp_course\\lib\\site-packages\\ipykernel_launcher.py:2: SettingWithCopyWarning: \n",
      "A value is trying to be set on a copy of a slice from a DataFrame.\n",
      "Try using .loc[row_indexer,col_indexer] = value instead\n",
      "\n",
      "See the caveats in the documentation: http://pandas.pydata.org/pandas-docs/stable/indexing.html#indexing-view-versus-copy\n",
      "  \n"
     ]
    }
   ],
   "source": [
    "anahtar = [\"ödeme\",\"fiyat\",\"ücret\"] \n",
    "df_yemek['Ödeme'] = df_yemek['Comment'].map(lambda sentence: check_value(sentence,anahtar) )"
   ]
  },
  {
   "cell_type": "code",
   "execution_count": 53,
   "metadata": {},
   "outputs": [
    {
     "name": "stderr",
     "output_type": "stream",
     "text": [
      "C:\\Users\\yasin\\Anaconda3\\envs\\nlp_course\\lib\\site-packages\\ipykernel_launcher.py:2: SettingWithCopyWarning: \n",
      "A value is trying to be set on a copy of a slice from a DataFrame.\n",
      "Try using .loc[row_indexer,col_indexer] = value instead\n",
      "\n",
      "See the caveats in the documentation: http://pandas.pydata.org/pandas-docs/stable/indexing.html#indexing-view-versus-copy\n",
      "  \n"
     ]
    }
   ],
   "source": [
    "anahtar = [\"şube\"] \n",
    "df_yemek['Şube'] = df_yemek['Comment'].map(lambda sentence: check_value(sentence,anahtar) )"
   ]
  },
  {
   "cell_type": "code",
   "execution_count": 54,
   "metadata": {},
   "outputs": [
    {
     "name": "stderr",
     "output_type": "stream",
     "text": [
      "C:\\Users\\yasin\\Anaconda3\\envs\\nlp_course\\lib\\site-packages\\ipykernel_launcher.py:2: SettingWithCopyWarning: \n",
      "A value is trying to be set on a copy of a slice from a DataFrame.\n",
      "Try using .loc[row_indexer,col_indexer] = value instead\n",
      "\n",
      "See the caveats in the documentation: http://pandas.pydata.org/pandas-docs/stable/indexing.html#indexing-view-versus-copy\n",
      "  \n"
     ]
    }
   ],
   "source": [
    "anahtar = [\"iade\"] \n",
    "df_yemek['iade'] = df_yemek['Comment'].map(lambda sentence: check_value(sentence,anahtar) )"
   ]
  },
  {
   "cell_type": "code",
   "execution_count": 55,
   "metadata": {},
   "outputs": [
    {
     "name": "stderr",
     "output_type": "stream",
     "text": [
      "C:\\Users\\yasin\\Anaconda3\\envs\\nlp_course\\lib\\site-packages\\ipykernel_launcher.py:2: SettingWithCopyWarning: \n",
      "A value is trying to be set on a copy of a slice from a DataFrame.\n",
      "Try using .loc[row_indexer,col_indexer] = value instead\n",
      "\n",
      "See the caveats in the documentation: http://pandas.pydata.org/pandas-docs/stable/indexing.html#indexing-view-versus-copy\n",
      "  \n"
     ]
    }
   ],
   "source": [
    "anahtar = [\"müşteri hizmetleri\"] \n",
    "df_yemek['Müşteri Hizmetleri'] = df_yemek['Comment'].map(lambda sentence: check_value(sentence,anahtar) )"
   ]
  },
  {
   "cell_type": "code",
   "execution_count": 399,
   "metadata": {},
   "outputs": [],
   "source": [
    "#df_yemek"
   ]
  },
  {
   "cell_type": "markdown",
   "metadata": {},
   "source": [
    "# Teknoloji"
   ]
  },
  {
   "cell_type": "code",
   "execution_count": 57,
   "metadata": {},
   "outputs": [],
   "source": [
    "#['Gecikme','Şube','Dağıtım','Müşteri Hizmetleri','Kargo','Stok','iade','Ödeme','Eksik Ürün']"
   ]
  },
  {
   "cell_type": "code",
   "execution_count": 58,
   "metadata": {},
   "outputs": [
    {
     "name": "stderr",
     "output_type": "stream",
     "text": [
      "C:\\Users\\yasin\\Anaconda3\\envs\\nlp_course\\lib\\site-packages\\ipykernel_launcher.py:2: SettingWithCopyWarning: \n",
      "A value is trying to be set on a copy of a slice from a DataFrame.\n",
      "Try using .loc[row_indexer,col_indexer] = value instead\n",
      "\n",
      "See the caveats in the documentation: http://pandas.pydata.org/pandas-docs/stable/indexing.html#indexing-view-versus-copy\n",
      "  \n"
     ]
    }
   ],
   "source": [
    "anahtar = [\"stok\"] \n",
    "df_teknoloji['Stok'] = df_teknoloji['Comment'].map(lambda sentence: check_value(sentence,anahtar) )"
   ]
  },
  {
   "cell_type": "code",
   "execution_count": 59,
   "metadata": {},
   "outputs": [
    {
     "name": "stderr",
     "output_type": "stream",
     "text": [
      "C:\\Users\\yasin\\Anaconda3\\envs\\nlp_course\\lib\\site-packages\\ipykernel_launcher.py:2: SettingWithCopyWarning: \n",
      "A value is trying to be set on a copy of a slice from a DataFrame.\n",
      "Try using .loc[row_indexer,col_indexer] = value instead\n",
      "\n",
      "See the caveats in the documentation: http://pandas.pydata.org/pandas-docs/stable/indexing.html#indexing-view-versus-copy\n",
      "  \n"
     ]
    }
   ],
   "source": [
    "anahtar = [\"iade\",\"para\"] \n",
    "df_teknoloji['iade'] = df_teknoloji['Comment'].map(lambda sentence: check_value(sentence,anahtar) )"
   ]
  },
  {
   "cell_type": "code",
   "execution_count": 60,
   "metadata": {},
   "outputs": [
    {
     "name": "stderr",
     "output_type": "stream",
     "text": [
      "C:\\Users\\yasin\\Anaconda3\\envs\\nlp_course\\lib\\site-packages\\ipykernel_launcher.py:2: SettingWithCopyWarning: \n",
      "A value is trying to be set on a copy of a slice from a DataFrame.\n",
      "Try using .loc[row_indexer,col_indexer] = value instead\n",
      "\n",
      "See the caveats in the documentation: http://pandas.pydata.org/pandas-docs/stable/indexing.html#indexing-view-versus-copy\n",
      "  \n"
     ]
    }
   ],
   "source": [
    "anahtar = [\"gecikme\",\"teslim\",\"tarih\",\"saat\"] \n",
    "df_teknoloji['Gecikme'] = df_teknoloji['Comment'].map(lambda sentence: check_value(sentence,anahtar) )"
   ]
  },
  {
   "cell_type": "code",
   "execution_count": 61,
   "metadata": {},
   "outputs": [
    {
     "name": "stderr",
     "output_type": "stream",
     "text": [
      "C:\\Users\\yasin\\Anaconda3\\envs\\nlp_course\\lib\\site-packages\\ipykernel_launcher.py:2: SettingWithCopyWarning: \n",
      "A value is trying to be set on a copy of a slice from a DataFrame.\n",
      "Try using .loc[row_indexer,col_indexer] = value instead\n",
      "\n",
      "See the caveats in the documentation: http://pandas.pydata.org/pandas-docs/stable/indexing.html#indexing-view-versus-copy\n",
      "  \n"
     ]
    }
   ],
   "source": [
    "anahtar = [\"müşteri hizmetleri\"] \n",
    "df_teknoloji['Müşteri Hizmetleri'] = df_teknoloji['Comment'].map(lambda sentence: check_value(sentence,anahtar) )"
   ]
  },
  {
   "cell_type": "code",
   "execution_count": 400,
   "metadata": {},
   "outputs": [],
   "source": [
    "#df_teknoloji"
   ]
  },
  {
   "cell_type": "markdown",
   "metadata": {},
   "source": [
    "# Esya"
   ]
  },
  {
   "cell_type": "code",
   "execution_count": 63,
   "metadata": {},
   "outputs": [],
   "source": [
    "#['Gecikme','Şube','Dağıtım','Müşteri Hizmetleri','Kargo','Stok','iade','Ödeme','Eksik Ürün']"
   ]
  },
  {
   "cell_type": "code",
   "execution_count": 64,
   "metadata": {},
   "outputs": [
    {
     "name": "stderr",
     "output_type": "stream",
     "text": [
      "C:\\Users\\yasin\\Anaconda3\\envs\\nlp_course\\lib\\site-packages\\ipykernel_launcher.py:2: SettingWithCopyWarning: \n",
      "A value is trying to be set on a copy of a slice from a DataFrame.\n",
      "Try using .loc[row_indexer,col_indexer] = value instead\n",
      "\n",
      "See the caveats in the documentation: http://pandas.pydata.org/pandas-docs/stable/indexing.html#indexing-view-versus-copy\n",
      "  \n"
     ]
    }
   ],
   "source": [
    "anahtar = [\"iade\"] \n",
    "df_esya['iade'] = df_esya['Comment'].map(lambda sentence: check_value(sentence,anahtar) )"
   ]
  },
  {
   "cell_type": "code",
   "execution_count": 65,
   "metadata": {},
   "outputs": [
    {
     "name": "stderr",
     "output_type": "stream",
     "text": [
      "C:\\Users\\yasin\\Anaconda3\\envs\\nlp_course\\lib\\site-packages\\ipykernel_launcher.py:2: SettingWithCopyWarning: \n",
      "A value is trying to be set on a copy of a slice from a DataFrame.\n",
      "Try using .loc[row_indexer,col_indexer] = value instead\n",
      "\n",
      "See the caveats in the documentation: http://pandas.pydata.org/pandas-docs/stable/indexing.html#indexing-view-versus-copy\n",
      "  \n"
     ]
    }
   ],
   "source": [
    "anahtar = [\"müşteri hizmetleri\"] \n",
    "df_esya['Müşteri Hizmetleri'] = df_esya['Comment'].map(lambda sentence: check_value(sentence,anahtar) )"
   ]
  },
  {
   "cell_type": "code",
   "execution_count": 66,
   "metadata": {},
   "outputs": [
    {
     "name": "stderr",
     "output_type": "stream",
     "text": [
      "C:\\Users\\yasin\\Anaconda3\\envs\\nlp_course\\lib\\site-packages\\ipykernel_launcher.py:2: SettingWithCopyWarning: \n",
      "A value is trying to be set on a copy of a slice from a DataFrame.\n",
      "Try using .loc[row_indexer,col_indexer] = value instead\n",
      "\n",
      "See the caveats in the documentation: http://pandas.pydata.org/pandas-docs/stable/indexing.html#indexing-view-versus-copy\n",
      "  \n"
     ]
    }
   ],
   "source": [
    "anahtar = [\"gecikme\",\"teslim\",\"gün\",\"tarih\"] \n",
    "df_esya['Gecikme'] = df_esya['Comment'].map(lambda sentence: check_value(sentence,anahtar) )"
   ]
  },
  {
   "cell_type": "code",
   "execution_count": 67,
   "metadata": {},
   "outputs": [
    {
     "name": "stderr",
     "output_type": "stream",
     "text": [
      "C:\\Users\\yasin\\Anaconda3\\envs\\nlp_course\\lib\\site-packages\\ipykernel_launcher.py:2: SettingWithCopyWarning: \n",
      "A value is trying to be set on a copy of a slice from a DataFrame.\n",
      "Try using .loc[row_indexer,col_indexer] = value instead\n",
      "\n",
      "See the caveats in the documentation: http://pandas.pydata.org/pandas-docs/stable/indexing.html#indexing-view-versus-copy\n",
      "  \n"
     ]
    }
   ],
   "source": [
    "anahtar = [\"eksik\",\"eksik ürün\",\"eksik parça\"] \n",
    "df_esya['Eksik Ürün'] = df_esya['Comment'].map(lambda sentence: check_value(sentence,anahtar) )"
   ]
  },
  {
   "cell_type": "code",
   "execution_count": 401,
   "metadata": {},
   "outputs": [],
   "source": [
    "#df_esya"
   ]
  },
  {
   "cell_type": "code",
   "execution_count": 69,
   "metadata": {},
   "outputs": [
    {
     "name": "stdout",
     "output_type": "stream",
     "text": [
      "44654\n"
     ]
    },
    {
     "data": {
      "text/plain": [
       "52237"
      ]
     },
     "execution_count": 69,
     "metadata": {},
     "output_type": "execute_result"
    }
   ],
   "source": [
    "count = len(df_esya) +len(df_giyim)+ len(df_kitap)+len(df_tasima)+ len(df_teknoloji)+len(df_yemek) \n",
    "print(count)\n",
    "len(df1)"
   ]
  },
  {
   "cell_type": "code",
   "execution_count": 70,
   "metadata": {},
   "outputs": [],
   "source": [
    "frames = [df_esya, df_giyim, df_kitap, df_tasima, df_teknoloji, df_yemek]\n",
    "df_result = pd.concat(frames)"
   ]
  },
  {
   "cell_type": "code",
   "execution_count": 402,
   "metadata": {},
   "outputs": [],
   "source": [
    "#df_result"
   ]
  },
  {
   "cell_type": "code",
   "execution_count": null,
   "metadata": {},
   "outputs": [],
   "source": []
  },
  {
   "cell_type": "code",
   "execution_count": 186,
   "metadata": {},
   "outputs": [],
   "source": [
    "from keras.layers import Dense, Embedding, LSTM  # Dense layerdaki noronlarin birbirine baglanmasini saglar\n",
    "from numpy import loadtxt\n",
    "from keras.models import Sequential\n",
    "import seaborn as sn\n",
    "from matplotlib import pyplot"
   ]
  },
  {
   "cell_type": "code",
   "execution_count": 187,
   "metadata": {},
   "outputs": [],
   "source": [
    "turkish_characters = \"a|b|c|ç|d|e|f|g|ğ|h|ı|i|j|k|l|m|n|o|ö|p|r|s|ş|t|u|ü|v|y|z|0-9\"\n"
   ]
  },
  {
   "cell_type": "code",
   "execution_count": 250,
   "metadata": {},
   "outputs": [],
   "source": [
    "df_result = df_result.sample(frac = 1) \n",
    "df_results_1 = df_result[:5000]\n"
   ]
  },
  {
   "cell_type": "code",
   "execution_count": 189,
   "metadata": {},
   "outputs": [],
   "source": [
    "#df_results_1"
   ]
  },
  {
   "cell_type": "markdown",
   "metadata": {},
   "source": [
    "# Gecikme"
   ]
  },
  {
   "cell_type": "code",
   "execution_count": 257,
   "metadata": {},
   "outputs": [],
   "source": [
    "def Tokenize():# Veri setimizin işlenebilmesi için text verileri numaralara çevirmemiz gerekir.\n",
    "    # Keras bu işlem için hazır bir mekanizma sunmaktadır.\n",
    "    # Tokenizer sınıfı data içerisinde verilen cümleleri analiz ederek. Kelimelerin sıklıklarını hesaplar.\n",
    "    # Parameter: num_words = En sık geçen 250 kelimeye odaklan. Diğerleri önemli değil\n",
    "    tokenizer = Tokenizer(split=' ',num_words=2500)\n",
    "    # Her bir kelimenin sıklığını(frekansını) hesaplar.\n",
    "    tokenizer.fit_on_texts(df_results_1['Comment'].values)\n",
    "    # Tüm cümleler tam sayı dizisine dönüştürülür.\n",
    "    X = tokenizer.texts_to_sequences(df_results_1['Comment'].values)\n",
    "    encoded_docs = X\n",
    "    # Bütün metinlerimiz 400 sütundan oluşan bir dizi ile temsil edilecek.\n",
    "    # Çok kısa metinler 0'lar ile doldurulacak. Çok uzun metinler ise kesilecek.\n",
    "    X = pad_sequences(X,maxlen=400)"
   ]
  },
  {
   "cell_type": "code",
   "execution_count": 204,
   "metadata": {},
   "outputs": [],
   "source": [
    "#print(df_results_1['Comment'].values[0])\n",
    "#print(encoded_docs[0])\n",
    "#print(X[0])"
   ]
  },
  {
   "cell_type": "code",
   "execution_count": 220,
   "metadata": {},
   "outputs": [],
   "source": [
    "\n",
    "def build_model():\n",
    "    embed_dim = 128\n",
    "    lstm_out = 128\n",
    "    model = Sequential()\n",
    "    # Her bir kelimenin temsil edileceği vektör boyutu. Bu örnek için her bir kelime 128 boyutunda\n",
    "    # bir vektör ile temsil edilir.\n",
    "    #?Embedding LTSM and Dense nedir farklarina bakilacak\n",
    "    model.add(Embedding(2500, embed_dim,input_length = X.shape[1]))\n",
    "    model.add(LSTM(lstm_out, dropout_U=0.2, dropout_W=0.2))\n",
    "    model.add(Dense(128,activation='relu'))  # 2 noron sayisi\n",
    "    model.add(Dense(2,activation='softmax'))  # 2 noron sayisi\n",
    "    model.compile(loss = 'categorical_crossentropy', optimizer='adam',metrics = ['accuracy'])\n",
    "    #optimizer =  ogrenme oranini kontrol eder, ogrenme orarnin ne kadar hizli hesaplanancaginin kontrol eder\n",
    "    #metrics = modelin ne kadar iyi tahmin yaptiginin soyler\n",
    "    return model"
   ]
  },
  {
   "cell_type": "code",
   "execution_count": null,
   "metadata": {},
   "outputs": [],
   "source": []
  },
  {
   "cell_type": "code",
   "execution_count": null,
   "metadata": {},
   "outputs": [],
   "source": []
  },
  {
   "cell_type": "code",
   "execution_count": 206,
   "metadata": {},
   "outputs": [],
   "source": [
    "Y = pd.get_dummies(df_results_1['Gecikme']).values\n",
    "#Y = pd.get_dummies(data=df_result, columns=['Gecikme', 'Şube','Dağıtım','Müşteri Hizmetleri','Kargo','Stok','iade','Ödeme','Eksik Ürün']).values\n"
   ]
  },
  {
   "cell_type": "code",
   "execution_count": 207,
   "metadata": {},
   "outputs": [],
   "source": [
    "#Y "
   ]
  },
  {
   "cell_type": "code",
   "execution_count": 208,
   "metadata": {},
   "outputs": [],
   "source": [
    "def model_evaluate():# Verinin %80'i train, %20'si test verisi olacak şekilde ayrılır.\n",
    "    from sklearn.model_selection import train_test_split\n",
    "    X_train, X_test, Y_train, Y_test = train_test_split(X,Y, test_size = 0.1, random_state = 2)\n",
    "    #random state =Controls the shuffling applied to the data before applying the split.\n",
    "\n",
    "    model = build_model()\n",
    "    # Oluşturulan model train verileri ile eğitilir. Yapay Sinir Ağı eğitilmeye başlar.\n",
    "    # nb_epoch: İterasyon sayısı\n",
    "    #batch_size : model egitilirken kacar orenek alinacaginin soylera\n",
    "\n",
    "    model.compile(loss='mse', optimizer='adam', metrics=['accuracy'])\n",
    "\n",
    "    history = model.fit(X_train, Y_train, epochs = 3 , batch_size=32, verbose = 2, validation_split = 0.1)\n",
    "    # Train verileri ile model eğitildikten sonra test dataları ile doğruluk oranlarına bakılır.\n",
    "    #By setting verbose 0, 1 or 2 you just say how do you want to 'see' the training progress for each epoch.\n",
    "    #Keras can separate a portion of your training data into a validation dataset and evaluate the performance of your model on that validation dataset each epoch.\n",
    "    #You can do this by setting the validation_split argument on the fit() function to a percentage of the size of your training dataset.\n",
    "\n",
    "    #validation_split says: \"hey give me all the input data – I will take care of splitting between test and validation\".\n",
    "    #validation_data says \"please give me explicitly the validation data\"\n",
    "\n",
    "    score = model.evaluate(X_test, Y_test, verbose = 2)\n",
    "    print(\"score: %.2f\" % (score[1]))"
   ]
  },
  {
   "cell_type": "code",
   "execution_count": 210,
   "metadata": {},
   "outputs": [
    {
     "name": "stderr",
     "output_type": "stream",
     "text": [
      "C:\\Users\\yasin\\Anaconda3\\envs\\nlp_course\\lib\\site-packages\\ipykernel_launcher.py:9: UserWarning: Update your `LSTM` call to the Keras 2 API: `LSTM(128, dropout=0.2, recurrent_dropout=0.2)`\n",
      "  if __name__ == '__main__':\n"
     ]
    },
    {
     "name": "stdout",
     "output_type": "stream",
     "text": [
      "Train on 4050 samples, validate on 450 samples\n",
      "Epoch 1/3\n",
      " - 84s - loss: 0.1836 - accuracy: 0.7156 - val_loss: 0.1341 - val_accuracy: 0.8289\n",
      "Epoch 2/3\n",
      " - 86s - loss: 0.0955 - accuracy: 0.8723 - val_loss: 0.1237 - val_accuracy: 0.8422\n",
      "Epoch 3/3\n",
      " - 87s - loss: 0.0846 - accuracy: 0.8998 - val_loss: 0.1396 - val_accuracy: 0.8244\n",
      "score: 0.82\n"
     ]
    }
   ],
   "source": [
    "model_evaluate()"
   ]
  },
  {
   "cell_type": "code",
   "execution_count": 212,
   "metadata": {},
   "outputs": [
    {
     "data": {
      "image/png": "[encoded data removed]",
      "text/plain": [
       "<Figure size 432x288 with 1 Axes>"
      ]
     },
     "metadata": {
      "needs_background": "light"
     },
     "output_type": "display_data"
    }
   ],
   "source": [
    "pyplot.title('Accuracy / Validation Accuracy')\n",
    "pyplot.plot(history.history['accuracy'], label='train')\n",
    "pyplot.xlabel(\"Epochs\")\n",
    "pyplot.ylabel(\"Accuracy\")\n",
    "pyplot.plot(history.history['val_accuracy'], label='test')\n",
    "pyplot.legend()\n",
    "pyplot.show()"
   ]
  },
  {
   "cell_type": "code",
   "execution_count": 151,
   "metadata": {},
   "outputs": [],
   "source": [
    "a = ['1','2','3','4','5','6','7']"
   ]
  },
  {
   "cell_type": "code",
   "execution_count": 152,
   "metadata": {},
   "outputs": [],
   "source": [
    "b = a[2:]"
   ]
  },
  {
   "cell_type": "code",
   "execution_count": 153,
   "metadata": {},
   "outputs": [
    {
     "data": {
      "text/plain": [
       "['3', '4', '5', '6', '7']"
      ]
     },
     "execution_count": 153,
     "metadata": {},
     "output_type": "execute_result"
    }
   ],
   "source": [
    "b"
   ]
  },
  {
   "cell_type": "code",
   "execution_count": 156,
   "metadata": {},
   "outputs": [],
   "source": [
    "c = a[2:4]"
   ]
  },
  {
   "cell_type": "code",
   "execution_count": 157,
   "metadata": {},
   "outputs": [
    {
     "data": {
      "text/plain": [
       "['3', '4']"
      ]
     },
     "execution_count": 157,
     "metadata": {},
     "output_type": "execute_result"
    }
   ],
   "source": [
    "c"
   ]
  },
  {
   "cell_type": "code",
   "execution_count": 176,
   "metadata": {},
   "outputs": [
    {
     "data": {
      "text/html": [
       "<div>\n",
       "<style scoped>\n",
       "    .dataframe tbody tr th:only-of-type {\n",
       "        vertical-align: middle;\n",
       "    }\n",
       "\n",
       "    .dataframe tbody tr th {\n",
       "        vertical-align: top;\n",
       "    }\n",
       "\n",
       "    .dataframe thead th {\n",
       "        text-align: right;\n",
       "    }\n",
       "</style>\n",
       "<table border=\"1\" class=\"dataframe\">\n",
       "  <thead>\n",
       "    <tr style=\"text-align: right;\">\n",
       "      <th></th>\n",
       "      <th>Comment</th>\n",
       "      <th>Brand</th>\n",
       "      <th>Sector</th>\n",
       "      <th>Gecikme</th>\n",
       "      <th>Şube</th>\n",
       "      <th>Dağıtım</th>\n",
       "      <th>Müşteri Hizmetleri</th>\n",
       "      <th>Kargo</th>\n",
       "      <th>Stok</th>\n",
       "      <th>iade</th>\n",
       "      <th>Ödeme</th>\n",
       "      <th>Eksik Ürün</th>\n",
       "    </tr>\n",
       "  </thead>\n",
       "  <tbody>\n",
       "    <tr>\n",
       "      <th>3142</th>\n",
       "      <td>Siparişim kapıya bırakıldı ve kuryeyle haliyle...</td>\n",
       "      <td>Getir</td>\n",
       "      <td>Taşıma</td>\n",
       "      <td>0</td>\n",
       "      <td>0</td>\n",
       "      <td>0</td>\n",
       "      <td>0</td>\n",
       "      <td>0</td>\n",
       "      <td>0</td>\n",
       "      <td>0</td>\n",
       "      <td>0</td>\n",
       "      <td>0</td>\n",
       "    </tr>\n",
       "    <tr>\n",
       "      <th>3150</th>\n",
       "      <td>26 Temmuz 2020 detrendyoldan bir alışveriş yap...</td>\n",
       "      <td>Sürat Kargo</td>\n",
       "      <td>Taşıma</td>\n",
       "      <td>1</td>\n",
       "      <td>0</td>\n",
       "      <td>0</td>\n",
       "      <td>0</td>\n",
       "      <td>0</td>\n",
       "      <td>0</td>\n",
       "      <td>0</td>\n",
       "      <td>0</td>\n",
       "      <td>0</td>\n",
       "    </tr>\n",
       "    <tr>\n",
       "      <th>3164</th>\n",
       "      <td>Ankara'dan Mersin'deki arkadaşıma ev hediyesi ...</td>\n",
       "      <td>Horoz Lojistik</td>\n",
       "      <td>Taşıma</td>\n",
       "      <td>0</td>\n",
       "      <td>0</td>\n",
       "      <td>0</td>\n",
       "      <td>0</td>\n",
       "      <td>0</td>\n",
       "      <td>0</td>\n",
       "      <td>0</td>\n",
       "      <td>0</td>\n",
       "      <td>0</td>\n",
       "    </tr>\n",
       "    <tr>\n",
       "      <th>3175</th>\n",
       "      <td>İkidir fırsat kolisinden sipariş verdiğim karg...</td>\n",
       "      <td>MNG Kargo</td>\n",
       "      <td>Taşıma</td>\n",
       "      <td>0</td>\n",
       "      <td>0</td>\n",
       "      <td>0</td>\n",
       "      <td>0</td>\n",
       "      <td>0</td>\n",
       "      <td>0</td>\n",
       "      <td>0</td>\n",
       "      <td>0</td>\n",
       "      <td>0</td>\n",
       "    </tr>\n",
       "    <tr>\n",
       "      <th>3181</th>\n",
       "      <td>Pazar günü Trendyol dan sipariş verdim. Pazart...</td>\n",
       "      <td>Trendyol Express</td>\n",
       "      <td>Taşıma</td>\n",
       "      <td>1</td>\n",
       "      <td>0</td>\n",
       "      <td>0</td>\n",
       "      <td>0</td>\n",
       "      <td>0</td>\n",
       "      <td>0</td>\n",
       "      <td>0</td>\n",
       "      <td>0</td>\n",
       "      <td>0</td>\n",
       "    </tr>\n",
       "    <tr>\n",
       "      <th>3190</th>\n",
       "      <td>Bir TV ünitesi sipariş ettim. Aras Kargo'yla g...</td>\n",
       "      <td>Aras Kargo</td>\n",
       "      <td>Taşıma</td>\n",
       "      <td>0</td>\n",
       "      <td>0</td>\n",
       "      <td>0</td>\n",
       "      <td>0</td>\n",
       "      <td>0</td>\n",
       "      <td>0</td>\n",
       "      <td>0</td>\n",
       "      <td>0</td>\n",
       "      <td>0</td>\n",
       "    </tr>\n",
       "    <tr>\n",
       "      <th>3192</th>\n",
       "      <td>5308*36*033* numaralı siparişim evime bile uğr...</td>\n",
       "      <td>MNG Kargo</td>\n",
       "      <td>Taşıma</td>\n",
       "      <td>1</td>\n",
       "      <td>1</td>\n",
       "      <td>0</td>\n",
       "      <td>0</td>\n",
       "      <td>0</td>\n",
       "      <td>0</td>\n",
       "      <td>0</td>\n",
       "      <td>0</td>\n",
       "      <td>0</td>\n",
       "    </tr>\n",
       "    <tr>\n",
       "      <th>3194</th>\n",
       "      <td>12 ağustostan beri siparişim kargoda bekliyor ...</td>\n",
       "      <td>Trendyol Express</td>\n",
       "      <td>Taşıma</td>\n",
       "      <td>0</td>\n",
       "      <td>0</td>\n",
       "      <td>0</td>\n",
       "      <td>0</td>\n",
       "      <td>0</td>\n",
       "      <td>0</td>\n",
       "      <td>0</td>\n",
       "      <td>0</td>\n",
       "      <td>0</td>\n",
       "    </tr>\n",
       "    <tr>\n",
       "      <th>3196</th>\n",
       "      <td>Sipariş etmiş olduğum 3 adet pantolon yerine 2...</td>\n",
       "      <td>Aras Kargo</td>\n",
       "      <td>Taşıma</td>\n",
       "      <td>0</td>\n",
       "      <td>0</td>\n",
       "      <td>0</td>\n",
       "      <td>0</td>\n",
       "      <td>0</td>\n",
       "      <td>0</td>\n",
       "      <td>0</td>\n",
       "      <td>0</td>\n",
       "      <td>0</td>\n",
       "    </tr>\n",
       "    <tr>\n",
       "      <th>3247</th>\n",
       "      <td>İnternet sipariş etik, gönderici Aras Kargo se...</td>\n",
       "      <td>Aras Kargo</td>\n",
       "      <td>Taşıma</td>\n",
       "      <td>1</td>\n",
       "      <td>1</td>\n",
       "      <td>0</td>\n",
       "      <td>0</td>\n",
       "      <td>0</td>\n",
       "      <td>0</td>\n",
       "      <td>0</td>\n",
       "      <td>0</td>\n",
       "      <td>0</td>\n",
       "    </tr>\n",
       "  </tbody>\n",
       "</table>\n",
       "</div>"
      ],
      "text/plain": [
       "                                                Comment             Brand  \\\n",
       "3142  Siparişim kapıya bırakıldı ve kuryeyle haliyle...             Getir   \n",
       "3150  26 Temmuz 2020 detrendyoldan bir alışveriş yap...       Sürat Kargo   \n",
       "3164  Ankara'dan Mersin'deki arkadaşıma ev hediyesi ...    Horoz Lojistik   \n",
       "3175  İkidir fırsat kolisinden sipariş verdiğim karg...         MNG Kargo   \n",
       "3181  Pazar günü Trendyol dan sipariş verdim. Pazart...  Trendyol Express   \n",
       "3190  Bir TV ünitesi sipariş ettim. Aras Kargo'yla g...        Aras Kargo   \n",
       "3192  5308*36*033* numaralı siparişim evime bile uğr...         MNG Kargo   \n",
       "3194  12 ağustostan beri siparişim kargoda bekliyor ...  Trendyol Express   \n",
       "3196  Sipariş etmiş olduğum 3 adet pantolon yerine 2...        Aras Kargo   \n",
       "3247  İnternet sipariş etik, gönderici Aras Kargo se...        Aras Kargo   \n",
       "\n",
       "      Sector  Gecikme  Şube  Dağıtım  Müşteri Hizmetleri  Kargo  Stok  iade  \\\n",
       "3142  Taşıma        0     0        0                   0      0     0     0   \n",
       "3150  Taşıma        1     0        0                   0      0     0     0   \n",
       "3164  Taşıma        0     0        0                   0      0     0     0   \n",
       "3175  Taşıma        0     0        0                   0      0     0     0   \n",
       "3181  Taşıma        1     0        0                   0      0     0     0   \n",
       "3190  Taşıma        0     0        0                   0      0     0     0   \n",
       "3192  Taşıma        1     1        0                   0      0     0     0   \n",
       "3194  Taşıma        0     0        0                   0      0     0     0   \n",
       "3196  Taşıma        0     0        0                   0      0     0     0   \n",
       "3247  Taşıma        1     1        0                   0      0     0     0   \n",
       "\n",
       "      Ödeme  Eksik Ürün  \n",
       "3142      0           0  \n",
       "3150      0           0  \n",
       "3164      0           0  \n",
       "3175      0           0  \n",
       "3181      0           0  \n",
       "3190      0           0  \n",
       "3192      0           0  \n",
       "3194      0           0  \n",
       "3196      0           0  \n",
       "3247      0           0  "
      ]
     },
     "execution_count": 176,
     "metadata": {},
     "output_type": "execute_result"
    }
   ],
   "source": [
    "df_test = df_result[20000:20010] # 20 Tane\n",
    "df_test"
   ]
  },
  {
   "cell_type": "code",
   "execution_count": 179,
   "metadata": {},
   "outputs": [],
   "source": [
    "df_test = df_test['Comment'].tolist()"
   ]
  },
  {
   "cell_type": "code",
   "execution_count": 180,
   "metadata": {},
   "outputs": [
    {
     "name": "stdout",
     "output_type": "stream",
     "text": [
      "[[0.6784093  0.3215907 ]\n",
      " [0.9809795  0.01902047]\n",
      " [0.14967081 0.85032916]\n",
      " [0.9238201  0.07617984]\n",
      " [0.82795525 0.17204481]\n",
      " [0.9985643  0.00143576]\n",
      " [0.9860265  0.01397343]\n",
      " [0.99126714 0.00873286]\n",
      " [0.92149454 0.07850544]\n",
      " [0.90409935 0.09590064]]\n"
     ]
    }
   ],
   "source": [
    "\n",
    "\n",
    "# Verilen örnekler Tokenizer yapısı ile tam sayı dizisine dönüştürülür\n",
    "# Daha sonra eğitilen modele sırayla verilerek anlam analizi sonuçları elde edilir.\n",
    "# Her Cümlenin yüzde kaç olumlu ve olumsuz olduğuna dair bilgiler çıktı olarak verilir.\n",
    "sequences = tokenizer.texts_to_sequences(df_test)\n",
    "data = pad_sequences(sequences, maxlen=400)\n",
    "predictions = model.predict(data)\n",
    "print(predictions)"
   ]
  },
  {
   "cell_type": "markdown",
   "metadata": {},
   "source": [
    "# Sube"
   ]
  },
  {
   "cell_type": "code",
   "execution_count": 253,
   "metadata": {},
   "outputs": [],
   "source": [
    "df_results_1 = df_result[10000:15000]\n"
   ]
  },
  {
   "cell_type": "code",
   "execution_count": 254,
   "metadata": {},
   "outputs": [
    {
     "data": {
      "text/plain": [
       "0    3939\n",
       "1    1061\n",
       "Name: Şube, dtype: int64"
      ]
     },
     "execution_count": 254,
     "metadata": {},
     "output_type": "execute_result"
    }
   ],
   "source": [
    "df_results_1['Şube'].value_counts()"
   ]
  },
  {
   "cell_type": "code",
   "execution_count": 258,
   "metadata": {},
   "outputs": [],
   "source": [
    "Tokenize()"
   ]
  },
  {
   "cell_type": "code",
   "execution_count": 259,
   "metadata": {},
   "outputs": [],
   "source": [
    "#Sector\tGecikme\tŞube\tDağıtım\tMüşteri Hizmetleri\tKargo\tStok\tiade\tÖdeme\tEksik Ürün\n",
    "Y = pd.get_dummies(df_results_1['Şube']).values\n"
   ]
  },
  {
   "cell_type": "code",
   "execution_count": 260,
   "metadata": {},
   "outputs": [
    {
     "name": "stderr",
     "output_type": "stream",
     "text": [
      "C:\\Users\\yasin\\Anaconda3\\envs\\nlp_course\\lib\\site-packages\\ipykernel_launcher.py:9: UserWarning: Update your `LSTM` call to the Keras 2 API: `LSTM(128, dropout=0.2, recurrent_dropout=0.2)`\n",
      "  if __name__ == '__main__':\n"
     ]
    },
    {
     "name": "stdout",
     "output_type": "stream",
     "text": [
      "Train on 4050 samples, validate on 450 samples\n",
      "Epoch 1/3\n",
      " - 85s - loss: 0.1695 - accuracy: 0.7896 - val_loss: 0.1908 - val_accuracy: 0.7533\n",
      "Epoch 2/3\n",
      " - 87s - loss: 0.1543 - accuracy: 0.7946 - val_loss: 0.1956 - val_accuracy: 0.7422\n",
      "Epoch 3/3\n",
      " - 87s - loss: 0.1224 - accuracy: 0.8368 - val_loss: 0.2118 - val_accuracy: 0.7311\n",
      "score: 0.74\n"
     ]
    }
   ],
   "source": [
    "model_evaluate()"
   ]
  },
  {
   "cell_type": "code",
   "execution_count": 284,
   "metadata": {},
   "outputs": [],
   "source": [
    "df_test = df_result[20000:20010] # 20 Tane\n",
    "#df_test"
   ]
  },
  {
   "cell_type": "code",
   "execution_count": 285,
   "metadata": {},
   "outputs": [],
   "source": [
    "df_test = df_test['Comment'].tolist()\n",
    "#df_test"
   ]
  },
  {
   "cell_type": "code",
   "execution_count": 286,
   "metadata": {},
   "outputs": [
    {
     "name": "stdout",
     "output_type": "stream",
     "text": [
      "[[0.5007127  0.49928737]\n",
      " [0.49788496 0.50211495]\n",
      " [0.50977093 0.49022907]\n",
      " [0.4975782  0.5024218 ]\n",
      " [0.5014851  0.4985149 ]\n",
      " [0.5012429  0.49875715]\n",
      " [0.4978277  0.50217235]\n",
      " [0.49605587 0.5039441 ]\n",
      " [0.49909306 0.500907  ]\n",
      " [0.50556546 0.4944345 ]]\n"
     ]
    }
   ],
   "source": [
    "sequences = tokenizer.texts_to_sequences(df_test)\n",
    "data = pad_sequences(sequences, maxlen=400)\n",
    "predictions = model.predict(data)\n",
    "print(predictions)"
   ]
  },
  {
   "cell_type": "markdown",
   "metadata": {},
   "source": [
    "# Dağıtım"
   ]
  },
  {
   "cell_type": "code",
   "execution_count": null,
   "metadata": {},
   "outputs": [],
   "source": [
    "##Sector\tGecikme\tŞube\tDağıtım\tMüşteri Hizmetleri\tKargo\tStok\tiade\tÖdeme\tEksik Ürün"
   ]
  },
  {
   "cell_type": "code",
   "execution_count": 295,
   "metadata": {},
   "outputs": [],
   "source": [
    "df_results_1 = df_result[25000:30000]\n"
   ]
  },
  {
   "cell_type": "code",
   "execution_count": 297,
   "metadata": {},
   "outputs": [
    {
     "data": {
      "text/plain": [
       "0    4613\n",
       "1     387\n",
       "Name: Dağıtım, dtype: int64"
      ]
     },
     "execution_count": 297,
     "metadata": {},
     "output_type": "execute_result"
    }
   ],
   "source": [
    "df_results_1['Dağıtım'].value_counts()"
   ]
  },
  {
   "cell_type": "code",
   "execution_count": 298,
   "metadata": {},
   "outputs": [],
   "source": [
    "Tokenize()"
   ]
  },
  {
   "cell_type": "code",
   "execution_count": 299,
   "metadata": {},
   "outputs": [],
   "source": [
    "Y = pd.get_dummies(df_results_1['Dağıtım']).values\n"
   ]
  },
  {
   "cell_type": "code",
   "execution_count": 300,
   "metadata": {},
   "outputs": [
    {
     "name": "stderr",
     "output_type": "stream",
     "text": [
      "C:\\Users\\yasin\\Anaconda3\\envs\\nlp_course\\lib\\site-packages\\ipykernel_launcher.py:9: UserWarning: Update your `LSTM` call to the Keras 2 API: `LSTM(128, dropout=0.2, recurrent_dropout=0.2)`\n",
      "  if __name__ == '__main__':\n"
     ]
    },
    {
     "name": "stdout",
     "output_type": "stream",
     "text": [
      "Train on 4050 samples, validate on 450 samples\n",
      "Epoch 1/3\n",
      " - 92s - loss: 0.0855 - accuracy: 0.9183 - val_loss: 0.0711 - val_accuracy: 0.9289\n",
      "Epoch 2/3\n",
      " - 89s - loss: 0.0758 - accuracy: 0.9242 - val_loss: 0.0711 - val_accuracy: 0.9289\n",
      "Epoch 3/3\n",
      " - 87s - loss: 0.0758 - accuracy: 0.9242 - val_loss: 0.0711 - val_accuracy: 0.9289\n",
      "score: 0.90\n"
     ]
    }
   ],
   "source": [
    "model_evaluate()"
   ]
  },
  {
   "cell_type": "code",
   "execution_count": 301,
   "metadata": {},
   "outputs": [
    {
     "data": {
      "text/html": [
       "<div>\n",
       "<style scoped>\n",
       "    .dataframe tbody tr th:only-of-type {\n",
       "        vertical-align: middle;\n",
       "    }\n",
       "\n",
       "    .dataframe tbody tr th {\n",
       "        vertical-align: top;\n",
       "    }\n",
       "\n",
       "    .dataframe thead th {\n",
       "        text-align: right;\n",
       "    }\n",
       "</style>\n",
       "<table border=\"1\" class=\"dataframe\">\n",
       "  <thead>\n",
       "    <tr style=\"text-align: right;\">\n",
       "      <th></th>\n",
       "      <th>Comment</th>\n",
       "      <th>Brand</th>\n",
       "      <th>Sector</th>\n",
       "      <th>Gecikme</th>\n",
       "      <th>Şube</th>\n",
       "      <th>Dağıtım</th>\n",
       "      <th>Müşteri Hizmetleri</th>\n",
       "      <th>Kargo</th>\n",
       "      <th>Stok</th>\n",
       "      <th>iade</th>\n",
       "      <th>Ödeme</th>\n",
       "      <th>Eksik Ürün</th>\n",
       "    </tr>\n",
       "  </thead>\n",
       "  <tbody>\n",
       "    <tr>\n",
       "      <th>54061</th>\n",
       "      <td>Sipariş Numarası: 1201************12 beklettik...</td>\n",
       "      <td>IKEA</td>\n",
       "      <td>EvEsyasi</td>\n",
       "      <td>1</td>\n",
       "      <td>0</td>\n",
       "      <td>0</td>\n",
       "      <td>0</td>\n",
       "      <td>0</td>\n",
       "      <td>0</td>\n",
       "      <td>0</td>\n",
       "      <td>0</td>\n",
       "      <td>0</td>\n",
       "    </tr>\n",
       "    <tr>\n",
       "      <th>61289</th>\n",
       "      <td>Trendyol'dan 27 Mayıs'ta sipariş verdiğim ürün...</td>\n",
       "      <td>Sürat Kargo</td>\n",
       "      <td>Taşıma</td>\n",
       "      <td>0</td>\n",
       "      <td>0</td>\n",
       "      <td>0</td>\n",
       "      <td>0</td>\n",
       "      <td>0</td>\n",
       "      <td>0</td>\n",
       "      <td>0</td>\n",
       "      <td>0</td>\n",
       "      <td>0</td>\n",
       "    </tr>\n",
       "    <tr>\n",
       "      <th>40125</th>\n",
       "      <td>Morhipo alışverişim Aras Kargo ile gönderilece...</td>\n",
       "      <td>Aras Kargo</td>\n",
       "      <td>Taşıma</td>\n",
       "      <td>1</td>\n",
       "      <td>1</td>\n",
       "      <td>1</td>\n",
       "      <td>0</td>\n",
       "      <td>0</td>\n",
       "      <td>0</td>\n",
       "      <td>0</td>\n",
       "      <td>0</td>\n",
       "      <td>0</td>\n",
       "    </tr>\n",
       "    <tr>\n",
       "      <th>78102</th>\n",
       "      <td>14.5.2020 tarihinde verdiğim W115473660 numara...</td>\n",
       "      <td>D&amp;R</td>\n",
       "      <td>Kitap</td>\n",
       "      <td>0</td>\n",
       "      <td>0</td>\n",
       "      <td>0</td>\n",
       "      <td>0</td>\n",
       "      <td>1</td>\n",
       "      <td>0</td>\n",
       "      <td>0</td>\n",
       "      <td>0</td>\n",
       "      <td>0</td>\n",
       "    </tr>\n",
       "    <tr>\n",
       "      <th>79307</th>\n",
       "      <td>Trendyol üzerinden 8 Mayıs'ta sipariş vermişti...</td>\n",
       "      <td>MNG Kargo</td>\n",
       "      <td>Taşıma</td>\n",
       "      <td>1</td>\n",
       "      <td>1</td>\n",
       "      <td>1</td>\n",
       "      <td>0</td>\n",
       "      <td>0</td>\n",
       "      <td>0</td>\n",
       "      <td>0</td>\n",
       "      <td>0</td>\n",
       "      <td>0</td>\n",
       "    </tr>\n",
       "    <tr>\n",
       "      <th>31644</th>\n",
       "      <td>Trendyol'dan 23.06.2020 de sipariş verdiğim ür...</td>\n",
       "      <td>Sürat Kargo</td>\n",
       "      <td>Taşıma</td>\n",
       "      <td>0</td>\n",
       "      <td>0</td>\n",
       "      <td>1</td>\n",
       "      <td>0</td>\n",
       "      <td>0</td>\n",
       "      <td>0</td>\n",
       "      <td>0</td>\n",
       "      <td>0</td>\n",
       "      <td>0</td>\n",
       "    </tr>\n",
       "    <tr>\n",
       "      <th>26740</th>\n",
       "      <td>Siparişime ait kargonun 13.07.2020 tarihinde s...</td>\n",
       "      <td>MNG Kargo</td>\n",
       "      <td>Taşıma</td>\n",
       "      <td>0</td>\n",
       "      <td>1</td>\n",
       "      <td>1</td>\n",
       "      <td>0</td>\n",
       "      <td>0</td>\n",
       "      <td>0</td>\n",
       "      <td>0</td>\n",
       "      <td>0</td>\n",
       "      <td>0</td>\n",
       "    </tr>\n",
       "    <tr>\n",
       "      <th>77192</th>\n",
       "      <td>20/05/2020 de sipariş verdiğim ürün hakkında b...</td>\n",
       "      <td>Boyner</td>\n",
       "      <td>Giyim</td>\n",
       "      <td>0</td>\n",
       "      <td>0</td>\n",
       "      <td>0</td>\n",
       "      <td>0</td>\n",
       "      <td>1</td>\n",
       "      <td>0</td>\n",
       "      <td>1</td>\n",
       "      <td>0</td>\n",
       "      <td>0</td>\n",
       "    </tr>\n",
       "    <tr>\n",
       "      <th>33370</th>\n",
       "      <td>Trendyol'dan Dermaroller sipariş verdim aynı a...</td>\n",
       "      <td>Sürat Kargo</td>\n",
       "      <td>Taşıma</td>\n",
       "      <td>0</td>\n",
       "      <td>0</td>\n",
       "      <td>0</td>\n",
       "      <td>0</td>\n",
       "      <td>0</td>\n",
       "      <td>0</td>\n",
       "      <td>0</td>\n",
       "      <td>0</td>\n",
       "      <td>0</td>\n",
       "    </tr>\n",
       "    <tr>\n",
       "      <th>94640</th>\n",
       "      <td>11 gün önce sipariş verdiğim ürün hala tedarik...</td>\n",
       "      <td>Boyner</td>\n",
       "      <td>Giyim</td>\n",
       "      <td>0</td>\n",
       "      <td>0</td>\n",
       "      <td>0</td>\n",
       "      <td>0</td>\n",
       "      <td>1</td>\n",
       "      <td>0</td>\n",
       "      <td>1</td>\n",
       "      <td>0</td>\n",
       "      <td>0</td>\n",
       "    </tr>\n",
       "  </tbody>\n",
       "</table>\n",
       "</div>"
      ],
      "text/plain": [
       "                                                 Comment        Brand  \\\n",
       "54061  Sipariş Numarası: 1201************12 beklettik...         IKEA   \n",
       "61289  Trendyol'dan 27 Mayıs'ta sipariş verdiğim ürün...  Sürat Kargo   \n",
       "40125  Morhipo alışverişim Aras Kargo ile gönderilece...   Aras Kargo   \n",
       "78102  14.5.2020 tarihinde verdiğim W115473660 numara...          D&R   \n",
       "79307  Trendyol üzerinden 8 Mayıs'ta sipariş vermişti...    MNG Kargo   \n",
       "31644  Trendyol'dan 23.06.2020 de sipariş verdiğim ür...  Sürat Kargo   \n",
       "26740  Siparişime ait kargonun 13.07.2020 tarihinde s...    MNG Kargo   \n",
       "77192  20/05/2020 de sipariş verdiğim ürün hakkında b...       Boyner   \n",
       "33370  Trendyol'dan Dermaroller sipariş verdim aynı a...  Sürat Kargo   \n",
       "94640  11 gün önce sipariş verdiğim ürün hala tedarik...       Boyner   \n",
       "\n",
       "         Sector  Gecikme  Şube  Dağıtım  Müşteri Hizmetleri  Kargo  Stok  \\\n",
       "54061  EvEsyasi        1     0        0                   0      0     0   \n",
       "61289    Taşıma        0     0        0                   0      0     0   \n",
       "40125    Taşıma        1     1        1                   0      0     0   \n",
       "78102     Kitap        0     0        0                   0      1     0   \n",
       "79307    Taşıma        1     1        1                   0      0     0   \n",
       "31644    Taşıma        0     0        1                   0      0     0   \n",
       "26740    Taşıma        0     1        1                   0      0     0   \n",
       "77192     Giyim        0     0        0                   0      1     0   \n",
       "33370    Taşıma        0     0        0                   0      0     0   \n",
       "94640     Giyim        0     0        0                   0      1     0   \n",
       "\n",
       "       iade  Ödeme  Eksik Ürün  \n",
       "54061     0      0           0  \n",
       "61289     0      0           0  \n",
       "40125     0      0           0  \n",
       "78102     0      0           0  \n",
       "79307     0      0           0  \n",
       "31644     0      0           0  \n",
       "26740     0      0           0  \n",
       "77192     1      0           0  \n",
       "33370     0      0           0  \n",
       "94640     1      0           0  "
      ]
     },
     "execution_count": 301,
     "metadata": {},
     "output_type": "execute_result"
    }
   ],
   "source": [
    "df_test = df_result[20000:20010] # 20 Tane\n",
    "df_test"
   ]
  },
  {
   "cell_type": "code",
   "execution_count": 302,
   "metadata": {},
   "outputs": [],
   "source": [
    "df_test = df_test['Comment'].tolist()\n",
    "#df_test"
   ]
  },
  {
   "cell_type": "code",
   "execution_count": 303,
   "metadata": {},
   "outputs": [
    {
     "name": "stdout",
     "output_type": "stream",
     "text": [
      "[[0.5007127  0.49928737]\n",
      " [0.49788496 0.50211495]\n",
      " [0.50977093 0.49022907]\n",
      " [0.4975782  0.5024218 ]\n",
      " [0.5014851  0.4985149 ]\n",
      " [0.5012429  0.49875715]\n",
      " [0.4978277  0.50217235]\n",
      " [0.49605587 0.5039441 ]\n",
      " [0.49909306 0.500907  ]\n",
      " [0.50556546 0.4944345 ]]\n"
     ]
    }
   ],
   "source": [
    "sequences = tokenizer.texts_to_sequences(df_test)\n",
    "data = pad_sequences(sequences, maxlen=400)\n",
    "predictions = model.predict(data)\n",
    "print(predictions)"
   ]
  },
  {
   "cell_type": "code",
   "execution_count": null,
   "metadata": {},
   "outputs": [],
   "source": []
  },
  {
   "cell_type": "markdown",
   "metadata": {},
   "source": [
    "# Müşteri Hizmetleri"
   ]
  },
  {
   "cell_type": "code",
   "execution_count": 310,
   "metadata": {},
   "outputs": [],
   "source": [
    "df_results_1 = df_result[15000:20000]"
   ]
  },
  {
   "cell_type": "code",
   "execution_count": 311,
   "metadata": {},
   "outputs": [
    {
     "data": {
      "text/plain": [
       "0    4515\n",
       "1     485\n",
       "Name: Müşteri Hizmetleri, dtype: int64"
      ]
     },
     "execution_count": 311,
     "metadata": {},
     "output_type": "execute_result"
    }
   ],
   "source": [
    "df_results_1['Müşteri Hizmetleri'].value_counts()"
   ]
  },
  {
   "cell_type": "code",
   "execution_count": 312,
   "metadata": {},
   "outputs": [],
   "source": [
    "Tokenize()"
   ]
  },
  {
   "cell_type": "code",
   "execution_count": 313,
   "metadata": {},
   "outputs": [],
   "source": [
    "Y = pd.get_dummies(df_results_1['Müşteri Hizmetleri']).values\n"
   ]
  },
  {
   "cell_type": "code",
   "execution_count": 314,
   "metadata": {},
   "outputs": [
    {
     "name": "stderr",
     "output_type": "stream",
     "text": [
      "C:\\Users\\yasin\\Anaconda3\\envs\\nlp_course\\lib\\site-packages\\ipykernel_launcher.py:9: UserWarning: Update your `LSTM` call to the Keras 2 API: `LSTM(128, dropout=0.2, recurrent_dropout=0.2)`\n",
      "  if __name__ == '__main__':\n"
     ]
    },
    {
     "name": "stdout",
     "output_type": "stream",
     "text": [
      "Train on 4050 samples, validate on 450 samples\n",
      "Epoch 1/3\n",
      " - 85s - loss: 0.1006 - accuracy: 0.8948 - val_loss: 0.0825 - val_accuracy: 0.9089\n",
      "Epoch 2/3\n",
      " - 86s - loss: 0.0843 - accuracy: 0.9012 - val_loss: 0.0850 - val_accuracy: 0.9089\n",
      "Epoch 3/3\n",
      " - 89s - loss: 0.0702 - accuracy: 0.9116 - val_loss: 0.0991 - val_accuracy: 0.8689\n",
      "score: 0.90\n"
     ]
    }
   ],
   "source": [
    "model_evaluate()"
   ]
  },
  {
   "cell_type": "code",
   "execution_count": 316,
   "metadata": {},
   "outputs": [
    {
     "data": {
      "text/html": [
       "<div>\n",
       "<style scoped>\n",
       "    .dataframe tbody tr th:only-of-type {\n",
       "        vertical-align: middle;\n",
       "    }\n",
       "\n",
       "    .dataframe tbody tr th {\n",
       "        vertical-align: top;\n",
       "    }\n",
       "\n",
       "    .dataframe thead th {\n",
       "        text-align: right;\n",
       "    }\n",
       "</style>\n",
       "<table border=\"1\" class=\"dataframe\">\n",
       "  <thead>\n",
       "    <tr style=\"text-align: right;\">\n",
       "      <th></th>\n",
       "      <th>Comment</th>\n",
       "      <th>Brand</th>\n",
       "      <th>Sector</th>\n",
       "      <th>Gecikme</th>\n",
       "      <th>Şube</th>\n",
       "      <th>Dağıtım</th>\n",
       "      <th>Müşteri Hizmetleri</th>\n",
       "      <th>Kargo</th>\n",
       "      <th>Stok</th>\n",
       "      <th>iade</th>\n",
       "      <th>Ödeme</th>\n",
       "      <th>Eksik Ürün</th>\n",
       "    </tr>\n",
       "  </thead>\n",
       "  <tbody>\n",
       "    <tr>\n",
       "      <th>28399</th>\n",
       "      <td>Kargomuz 1 hafta oldu gelmedi. Babaannem adına...</td>\n",
       "      <td>MNG Kargo</td>\n",
       "      <td>Taşıma</td>\n",
       "      <td>0</td>\n",
       "      <td>1</td>\n",
       "      <td>1</td>\n",
       "      <td>0</td>\n",
       "      <td>0</td>\n",
       "      <td>0</td>\n",
       "      <td>0</td>\n",
       "      <td>0</td>\n",
       "      <td>0</td>\n",
       "    </tr>\n",
       "    <tr>\n",
       "      <th>34598</th>\n",
       "      <td>13.05.2020 tarihinde sipariş verdiğim Zen Home...</td>\n",
       "      <td>Tekzen</td>\n",
       "      <td>EvEsyasi</td>\n",
       "      <td>1</td>\n",
       "      <td>0</td>\n",
       "      <td>0</td>\n",
       "      <td>1</td>\n",
       "      <td>0</td>\n",
       "      <td>0</td>\n",
       "      <td>0</td>\n",
       "      <td>0</td>\n",
       "      <td>0</td>\n",
       "    </tr>\n",
       "    <tr>\n",
       "      <th>45761</th>\n",
       "      <td>Trendyol'dan istettiğim siparişim MNG Kargo il...</td>\n",
       "      <td>MNG Kargo</td>\n",
       "      <td>Taşıma</td>\n",
       "      <td>0</td>\n",
       "      <td>0</td>\n",
       "      <td>0</td>\n",
       "      <td>0</td>\n",
       "      <td>0</td>\n",
       "      <td>0</td>\n",
       "      <td>0</td>\n",
       "      <td>0</td>\n",
       "      <td>0</td>\n",
       "    </tr>\n",
       "    <tr>\n",
       "      <th>72051</th>\n",
       "      <td>Boyner'in internet sitesinden den 22 Mayıs'ta ...</td>\n",
       "      <td>Boyner</td>\n",
       "      <td>Giyim</td>\n",
       "      <td>0</td>\n",
       "      <td>0</td>\n",
       "      <td>0</td>\n",
       "      <td>0</td>\n",
       "      <td>1</td>\n",
       "      <td>0</td>\n",
       "      <td>1</td>\n",
       "      <td>0</td>\n",
       "      <td>0</td>\n",
       "    </tr>\n",
       "    <tr>\n",
       "      <th>28789</th>\n",
       "      <td>01.07.20 aldığım ürün Aras Kargo ile gönderild...</td>\n",
       "      <td>Aras Kargo</td>\n",
       "      <td>Taşıma</td>\n",
       "      <td>1</td>\n",
       "      <td>1</td>\n",
       "      <td>0</td>\n",
       "      <td>0</td>\n",
       "      <td>0</td>\n",
       "      <td>0</td>\n",
       "      <td>0</td>\n",
       "      <td>0</td>\n",
       "      <td>0</td>\n",
       "    </tr>\n",
       "    <tr>\n",
       "      <th>85497</th>\n",
       "      <td>1275**56 05.05.2020 de verdiğim siparişlerden ...</td>\n",
       "      <td>DeFacto</td>\n",
       "      <td>Giyim</td>\n",
       "      <td>0</td>\n",
       "      <td>0</td>\n",
       "      <td>0</td>\n",
       "      <td>0</td>\n",
       "      <td>1</td>\n",
       "      <td>0</td>\n",
       "      <td>0</td>\n",
       "      <td>0</td>\n",
       "      <td>0</td>\n",
       "    </tr>\n",
       "    <tr>\n",
       "      <th>16653</th>\n",
       "      <td>16.07 Tarihinde Koçtaş'tan siparişimi teslim a...</td>\n",
       "      <td>Horoz Lojistik</td>\n",
       "      <td>Taşıma</td>\n",
       "      <td>0</td>\n",
       "      <td>0</td>\n",
       "      <td>0</td>\n",
       "      <td>0</td>\n",
       "      <td>0</td>\n",
       "      <td>0</td>\n",
       "      <td>0</td>\n",
       "      <td>0</td>\n",
       "      <td>0</td>\n",
       "    </tr>\n",
       "    <tr>\n",
       "      <th>23867</th>\n",
       "      <td>29 Haziran'da verdiğim 7267500 sipariş numaral...</td>\n",
       "      <td>Boyner</td>\n",
       "      <td>Giyim</td>\n",
       "      <td>0</td>\n",
       "      <td>0</td>\n",
       "      <td>0</td>\n",
       "      <td>0</td>\n",
       "      <td>1</td>\n",
       "      <td>0</td>\n",
       "      <td>1</td>\n",
       "      <td>0</td>\n",
       "      <td>0</td>\n",
       "    </tr>\n",
       "    <tr>\n",
       "      <th>16707</th>\n",
       "      <td>3 Haziran 2020'de verdiğimiz 210306201026616 n...</td>\n",
       "      <td>IKEA</td>\n",
       "      <td>EvEsyasi</td>\n",
       "      <td>0</td>\n",
       "      <td>0</td>\n",
       "      <td>0</td>\n",
       "      <td>0</td>\n",
       "      <td>0</td>\n",
       "      <td>0</td>\n",
       "      <td>1</td>\n",
       "      <td>0</td>\n",
       "      <td>0</td>\n",
       "    </tr>\n",
       "    <tr>\n",
       "      <th>46367</th>\n",
       "      <td>31 Mayıs tarihinde satın aldığım 100... 4505 n...</td>\n",
       "      <td>Boyner</td>\n",
       "      <td>Giyim</td>\n",
       "      <td>0</td>\n",
       "      <td>0</td>\n",
       "      <td>0</td>\n",
       "      <td>1</td>\n",
       "      <td>1</td>\n",
       "      <td>0</td>\n",
       "      <td>1</td>\n",
       "      <td>0</td>\n",
       "      <td>0</td>\n",
       "    </tr>\n",
       "  </tbody>\n",
       "</table>\n",
       "</div>"
      ],
      "text/plain": [
       "                                                 Comment           Brand  \\\n",
       "28399  Kargomuz 1 hafta oldu gelmedi. Babaannem adına...       MNG Kargo   \n",
       "34598  13.05.2020 tarihinde sipariş verdiğim Zen Home...          Tekzen   \n",
       "45761  Trendyol'dan istettiğim siparişim MNG Kargo il...       MNG Kargo   \n",
       "72051  Boyner'in internet sitesinden den 22 Mayıs'ta ...          Boyner   \n",
       "28789  01.07.20 aldığım ürün Aras Kargo ile gönderild...      Aras Kargo   \n",
       "85497  1275**56 05.05.2020 de verdiğim siparişlerden ...         DeFacto   \n",
       "16653  16.07 Tarihinde Koçtaş'tan siparişimi teslim a...  Horoz Lojistik   \n",
       "23867  29 Haziran'da verdiğim 7267500 sipariş numaral...          Boyner   \n",
       "16707  3 Haziran 2020'de verdiğimiz 210306201026616 n...            IKEA   \n",
       "46367  31 Mayıs tarihinde satın aldığım 100... 4505 n...          Boyner   \n",
       "\n",
       "         Sector  Gecikme  Şube  Dağıtım  Müşteri Hizmetleri  Kargo  Stok  \\\n",
       "28399    Taşıma        0     1        1                   0      0     0   \n",
       "34598  EvEsyasi        1     0        0                   1      0     0   \n",
       "45761    Taşıma        0     0        0                   0      0     0   \n",
       "72051     Giyim        0     0        0                   0      1     0   \n",
       "28789    Taşıma        1     1        0                   0      0     0   \n",
       "85497     Giyim        0     0        0                   0      1     0   \n",
       "16653    Taşıma        0     0        0                   0      0     0   \n",
       "23867     Giyim        0     0        0                   0      1     0   \n",
       "16707  EvEsyasi        0     0        0                   0      0     0   \n",
       "46367     Giyim        0     0        0                   1      1     0   \n",
       "\n",
       "       iade  Ödeme  Eksik Ürün  \n",
       "28399     0      0           0  \n",
       "34598     0      0           0  \n",
       "45761     0      0           0  \n",
       "72051     1      0           0  \n",
       "28789     0      0           0  \n",
       "85497     0      0           0  \n",
       "16653     0      0           0  \n",
       "23867     1      0           0  \n",
       "16707     1      0           0  \n",
       "46367     1      0           0  "
      ]
     },
     "execution_count": 316,
     "metadata": {},
     "output_type": "execute_result"
    }
   ],
   "source": [
    "df_test = df_result[1000:1010] # 20 Tane\n",
    "df_test"
   ]
  },
  {
   "cell_type": "code",
   "execution_count": 317,
   "metadata": {},
   "outputs": [],
   "source": [
    "df_test = df_test['Comment'].tolist()\n",
    "#df_test"
   ]
  },
  {
   "cell_type": "code",
   "execution_count": 318,
   "metadata": {},
   "outputs": [
    {
     "name": "stdout",
     "output_type": "stream",
     "text": [
      "[[0.501923   0.49807706]\n",
      " [0.50098485 0.49901506]\n",
      " [0.50145805 0.49854192]\n",
      " [0.5024906  0.49750948]\n",
      " [0.50157595 0.49842402]\n",
      " [0.49829498 0.50170505]\n",
      " [0.50394994 0.49605006]\n",
      " [0.49627087 0.5037291 ]\n",
      " [0.5005573  0.49944267]\n",
      " [0.5034695  0.4965304 ]]\n"
     ]
    }
   ],
   "source": [
    "sequences = tokenizer.texts_to_sequences(df_test)\n",
    "data = pad_sequences(sequences, maxlen=400)\n",
    "predictions = model.predict(data)\n",
    "print(predictions)"
   ]
  },
  {
   "cell_type": "code",
   "execution_count": null,
   "metadata": {},
   "outputs": [],
   "source": []
  },
  {
   "cell_type": "markdown",
   "metadata": {},
   "source": [
    "# KARGO"
   ]
  },
  {
   "cell_type": "code",
   "execution_count": 197,
   "metadata": {},
   "outputs": [],
   "source": [
    "#'Gecikme\tSube\tDagitim\tm_hizmetleri\tKargo\tStok\tiade\todeme\teksin_urun"
   ]
  },
  {
   "cell_type": "code",
   "execution_count": 225,
   "metadata": {},
   "outputs": [],
   "source": [
    "Y = pd.get_dummies(df_results_1['Kargo']).values\n"
   ]
  },
  {
   "cell_type": "code",
   "execution_count": 226,
   "metadata": {},
   "outputs": [
    {
     "name": "stderr",
     "output_type": "stream",
     "text": [
      "C:\\Users\\yasin\\Anaconda3\\envs\\nlp_course\\lib\\site-packages\\ipykernel_launcher.py:9: UserWarning: Update your `LSTM` call to the Keras 2 API: `LSTM(128, dropout=0.2, recurrent_dropout=0.2)`\n",
      "  if __name__ == '__main__':\n"
     ]
    },
    {
     "name": "stdout",
     "output_type": "stream",
     "text": [
      "Train on 4050 samples, validate on 450 samples\n",
      "Epoch 1/3\n",
      " - 95s - loss: 0.1892 - accuracy: 0.7205 - val_loss: 0.1832 - val_accuracy: 0.7444\n",
      "Epoch 2/3\n",
      " - 93s - loss: 0.1142 - accuracy: 0.8516 - val_loss: 0.1354 - val_accuracy: 0.8200\n",
      "Epoch 3/3\n",
      " - 93s - loss: 0.1028 - accuracy: 0.8674 - val_loss: 0.1438 - val_accuracy: 0.8156\n",
      "score: 0.85\n"
     ]
    }
   ],
   "source": [
    "model_evaluate()"
   ]
  },
  {
   "cell_type": "code",
   "execution_count": 228,
   "metadata": {},
   "outputs": [
    {
     "data": {
      "image/png": "[encoded data removed]",
      "text/plain": [
       "<Figure size 432x288 with 1 Axes>"
      ]
     },
     "metadata": {
      "needs_background": "light"
     },
     "output_type": "display_data"
    }
   ],
   "source": [
    "pyplot.title('Accuracy / Validation Accuracy')\n",
    "pyplot.plot(history.history['accuracy'], label='train')\n",
    "pyplot.xlabel(\"Epochs\")\n",
    "pyplot.ylabel(\"Accuracy\")\n",
    "pyplot.plot(history.history['val_accuracy'], label='test')\n",
    "pyplot.legend()\n",
    "pyplot.show()"
   ]
  },
  {
   "cell_type": "code",
   "execution_count": 235,
   "metadata": {},
   "outputs": [
    {
     "data": {
      "text/html": [
       "<div>\n",
       "<style scoped>\n",
       "    .dataframe tbody tr th:only-of-type {\n",
       "        vertical-align: middle;\n",
       "    }\n",
       "\n",
       "    .dataframe tbody tr th {\n",
       "        vertical-align: top;\n",
       "    }\n",
       "\n",
       "    .dataframe thead th {\n",
       "        text-align: right;\n",
       "    }\n",
       "</style>\n",
       "<table border=\"1\" class=\"dataframe\">\n",
       "  <thead>\n",
       "    <tr style=\"text-align: right;\">\n",
       "      <th></th>\n",
       "      <th>Comment</th>\n",
       "      <th>Brand</th>\n",
       "      <th>Sector</th>\n",
       "      <th>Gecikme</th>\n",
       "      <th>Şube</th>\n",
       "      <th>Dağıtım</th>\n",
       "      <th>Müşteri Hizmetleri</th>\n",
       "      <th>Kargo</th>\n",
       "      <th>Stok</th>\n",
       "      <th>iade</th>\n",
       "      <th>Ödeme</th>\n",
       "      <th>Eksik Ürün</th>\n",
       "    </tr>\n",
       "  </thead>\n",
       "  <tbody>\n",
       "    <tr>\n",
       "      <th>30119</th>\n",
       "      <td>19/06/2020 de taraflarına ulaşan 4000***7600 n...</td>\n",
       "      <td>Bershka</td>\n",
       "      <td>Giyim</td>\n",
       "      <td>0</td>\n",
       "      <td>0</td>\n",
       "      <td>0</td>\n",
       "      <td>0</td>\n",
       "      <td>0</td>\n",
       "      <td>0</td>\n",
       "      <td>0</td>\n",
       "      <td>0</td>\n",
       "      <td>0</td>\n",
       "    </tr>\n",
       "    <tr>\n",
       "      <th>30132</th>\n",
       "      <td>24.06.2020 tarihinde 3180.02 TL tutarında onli...</td>\n",
       "      <td>LC Waikiki</td>\n",
       "      <td>Giyim</td>\n",
       "      <td>0</td>\n",
       "      <td>0</td>\n",
       "      <td>0</td>\n",
       "      <td>0</td>\n",
       "      <td>0</td>\n",
       "      <td>0</td>\n",
       "      <td>1</td>\n",
       "      <td>0</td>\n",
       "      <td>0</td>\n",
       "    </tr>\n",
       "    <tr>\n",
       "      <th>30135</th>\n",
       "      <td>2007061006023 numaralı siparişimde bilgim olma...</td>\n",
       "      <td>LC Waikiki</td>\n",
       "      <td>Giyim</td>\n",
       "      <td>0</td>\n",
       "      <td>0</td>\n",
       "      <td>0</td>\n",
       "      <td>0</td>\n",
       "      <td>1</td>\n",
       "      <td>0</td>\n",
       "      <td>0</td>\n",
       "      <td>0</td>\n",
       "      <td>0</td>\n",
       "    </tr>\n",
       "    <tr>\n",
       "      <th>30137</th>\n",
       "      <td>Ayakkabı aldım sitenizde siparişler kısmında g...</td>\n",
       "      <td>Boyner</td>\n",
       "      <td>Giyim</td>\n",
       "      <td>0</td>\n",
       "      <td>0</td>\n",
       "      <td>0</td>\n",
       "      <td>0</td>\n",
       "      <td>1</td>\n",
       "      <td>0</td>\n",
       "      <td>1</td>\n",
       "      <td>0</td>\n",
       "      <td>0</td>\n",
       "    </tr>\n",
       "    <tr>\n",
       "      <th>30138</th>\n",
       "      <td>Dün gece 8 adet t-shirt ve mutfak eşyası sipar...</td>\n",
       "      <td>DeFacto</td>\n",
       "      <td>Giyim</td>\n",
       "      <td>0</td>\n",
       "      <td>0</td>\n",
       "      <td>0</td>\n",
       "      <td>0</td>\n",
       "      <td>1</td>\n",
       "      <td>0</td>\n",
       "      <td>0</td>\n",
       "      <td>0</td>\n",
       "      <td>0</td>\n",
       "    </tr>\n",
       "    <tr>\n",
       "      <th>30156</th>\n",
       "      <td>Geçen haftalarda online siteden oğluma bir ürü...</td>\n",
       "      <td>LC Waikiki</td>\n",
       "      <td>Giyim</td>\n",
       "      <td>0</td>\n",
       "      <td>0</td>\n",
       "      <td>0</td>\n",
       "      <td>1</td>\n",
       "      <td>1</td>\n",
       "      <td>0</td>\n",
       "      <td>1</td>\n",
       "      <td>0</td>\n",
       "      <td>0</td>\n",
       "    </tr>\n",
       "    <tr>\n",
       "      <th>30166</th>\n",
       "      <td>03/06/2020 tarihinde vermiş olduğum,4000656485...</td>\n",
       "      <td>Bershka</td>\n",
       "      <td>Giyim</td>\n",
       "      <td>0</td>\n",
       "      <td>0</td>\n",
       "      <td>0</td>\n",
       "      <td>0</td>\n",
       "      <td>0</td>\n",
       "      <td>0</td>\n",
       "      <td>1</td>\n",
       "      <td>0</td>\n",
       "      <td>0</td>\n",
       "    </tr>\n",
       "    <tr>\n",
       "      <th>30179</th>\n",
       "      <td>07/07/2020 tarihinde 2007****35002 numaralı si...</td>\n",
       "      <td>LC Waikiki</td>\n",
       "      <td>Giyim</td>\n",
       "      <td>0</td>\n",
       "      <td>0</td>\n",
       "      <td>0</td>\n",
       "      <td>0</td>\n",
       "      <td>0</td>\n",
       "      <td>0</td>\n",
       "      <td>0</td>\n",
       "      <td>0</td>\n",
       "      <td>0</td>\n",
       "    </tr>\n",
       "    <tr>\n",
       "      <th>30182</th>\n",
       "      <td>Ankara Keçiören Bağlarbaşı Kızlarpınarı Cad ma...</td>\n",
       "      <td>LC Waikiki</td>\n",
       "      <td>Giyim</td>\n",
       "      <td>0</td>\n",
       "      <td>0</td>\n",
       "      <td>0</td>\n",
       "      <td>0</td>\n",
       "      <td>0</td>\n",
       "      <td>0</td>\n",
       "      <td>0</td>\n",
       "      <td>0</td>\n",
       "      <td>0</td>\n",
       "    </tr>\n",
       "    <tr>\n",
       "      <th>30184</th>\n",
       "      <td>29.06.20 tarihinde elime ulaşan siparişimde ek...</td>\n",
       "      <td>LC Waikiki</td>\n",
       "      <td>Giyim</td>\n",
       "      <td>0</td>\n",
       "      <td>0</td>\n",
       "      <td>0</td>\n",
       "      <td>0</td>\n",
       "      <td>0</td>\n",
       "      <td>0</td>\n",
       "      <td>0</td>\n",
       "      <td>0</td>\n",
       "      <td>0</td>\n",
       "    </tr>\n",
       "  </tbody>\n",
       "</table>\n",
       "</div>"
      ],
      "text/plain": [
       "                                                 Comment       Brand Sector  \\\n",
       "30119  19/06/2020 de taraflarına ulaşan 4000***7600 n...     Bershka  Giyim   \n",
       "30132  24.06.2020 tarihinde 3180.02 TL tutarında onli...  LC Waikiki  Giyim   \n",
       "30135  2007061006023 numaralı siparişimde bilgim olma...  LC Waikiki  Giyim   \n",
       "30137  Ayakkabı aldım sitenizde siparişler kısmında g...      Boyner  Giyim   \n",
       "30138  Dün gece 8 adet t-shirt ve mutfak eşyası sipar...     DeFacto  Giyim   \n",
       "30156  Geçen haftalarda online siteden oğluma bir ürü...  LC Waikiki  Giyim   \n",
       "30166  03/06/2020 tarihinde vermiş olduğum,4000656485...     Bershka  Giyim   \n",
       "30179  07/07/2020 tarihinde 2007****35002 numaralı si...  LC Waikiki  Giyim   \n",
       "30182  Ankara Keçiören Bağlarbaşı Kızlarpınarı Cad ma...  LC Waikiki  Giyim   \n",
       "30184  29.06.20 tarihinde elime ulaşan siparişimde ek...  LC Waikiki  Giyim   \n",
       "\n",
       "       Gecikme  Şube  Dağıtım  Müşteri Hizmetleri  Kargo  Stok  iade  Ödeme  \\\n",
       "30119        0     0        0                   0      0     0     0      0   \n",
       "30132        0     0        0                   0      0     0     1      0   \n",
       "30135        0     0        0                   0      1     0     0      0   \n",
       "30137        0     0        0                   0      1     0     1      0   \n",
       "30138        0     0        0                   0      1     0     0      0   \n",
       "30156        0     0        0                   1      1     0     1      0   \n",
       "30166        0     0        0                   0      0     0     1      0   \n",
       "30179        0     0        0                   0      0     0     0      0   \n",
       "30182        0     0        0                   0      0     0     0      0   \n",
       "30184        0     0        0                   0      0     0     0      0   \n",
       "\n",
       "       Eksik Ürün  \n",
       "30119           0  \n",
       "30132           0  \n",
       "30135           0  \n",
       "30137           0  \n",
       "30138           0  \n",
       "30156           0  \n",
       "30166           0  \n",
       "30179           0  \n",
       "30182           0  \n",
       "30184           0  "
      ]
     },
     "execution_count": 235,
     "metadata": {},
     "output_type": "execute_result"
    }
   ],
   "source": [
    "df_test = df_result[6000:6010] # 10 Tane\n",
    "df_test"
   ]
  },
  {
   "cell_type": "code",
   "execution_count": 236,
   "metadata": {},
   "outputs": [],
   "source": [
    "df_test = df_test['Comment'].tolist()"
   ]
  },
  {
   "cell_type": "code",
   "execution_count": 237,
   "metadata": {},
   "outputs": [
    {
     "name": "stdout",
     "output_type": "stream",
     "text": [
      "[[0.5028876  0.49711233]\n",
      " [0.5089845  0.49101555]\n",
      " [0.49899632 0.50100374]\n",
      " [0.50101465 0.49898526]\n",
      " [0.50128937 0.4987107 ]\n",
      " [0.49633962 0.5036603 ]\n",
      " [0.5055324  0.49446768]\n",
      " [0.5061464  0.49385357]\n",
      " [0.50343126 0.49656874]\n",
      " [0.50458056 0.49541944]]\n"
     ]
    }
   ],
   "source": [
    "# Verilen örnekler Tokenizer yapısı ile tam sayı dizisine dönüştürülür\n",
    "# Daha sonra eğitilen modele sırayla verilerek anlam analizi sonuçları elde edilir.\n",
    "# Her Cümlenin yüzde kaç olumlu ve olumsuz olduğuna dair bilgiler çıktı olarak verilir.\n",
    "sequences = tokenizer.texts_to_sequences(df_test)\n",
    "data = pad_sequences(sequences, maxlen=400)\n",
    "predictions = model.predict(data)\n",
    "print(predictions)"
   ]
  },
  {
   "cell_type": "markdown",
   "metadata": {},
   "source": [
    "# Stok"
   ]
  },
  {
   "cell_type": "code",
   "execution_count": null,
   "metadata": {},
   "outputs": [],
   "source": [
    "#Stok\tiade\tÖdeme\tEksik Ürün"
   ]
  },
  {
   "cell_type": "code",
   "execution_count": 332,
   "metadata": {},
   "outputs": [],
   "source": [
    "df_results_1 = df_result[30000:35000]"
   ]
  },
  {
   "cell_type": "code",
   "execution_count": 333,
   "metadata": {},
   "outputs": [
    {
     "data": {
      "text/plain": [
       "0    4938\n",
       "1      62\n",
       "Name: Stok, dtype: int64"
      ]
     },
     "execution_count": 333,
     "metadata": {},
     "output_type": "execute_result"
    }
   ],
   "source": [
    "df_results_1['Stok'].value_counts()"
   ]
  },
  {
   "cell_type": "code",
   "execution_count": 334,
   "metadata": {},
   "outputs": [],
   "source": [
    "Tokenize()"
   ]
  },
  {
   "cell_type": "code",
   "execution_count": 335,
   "metadata": {},
   "outputs": [],
   "source": [
    "Y = pd.get_dummies(df_results_1['Stok']).values\n"
   ]
  },
  {
   "cell_type": "code",
   "execution_count": 336,
   "metadata": {},
   "outputs": [
    {
     "name": "stderr",
     "output_type": "stream",
     "text": [
      "C:\\Users\\yasin\\Anaconda3\\envs\\nlp_course\\lib\\site-packages\\ipykernel_launcher.py:9: UserWarning: Update your `LSTM` call to the Keras 2 API: `LSTM(128, dropout=0.2, recurrent_dropout=0.2)`\n",
      "  if __name__ == '__main__':\n"
     ]
    },
    {
     "name": "stdout",
     "output_type": "stream",
     "text": [
      "Train on 4050 samples, validate on 450 samples\n",
      "Epoch 1/3\n",
      " - 95s - loss: 0.0259 - accuracy: 0.9830 - val_loss: 0.0222 - val_accuracy: 0.9778\n",
      "Epoch 2/3\n",
      " - 91s - loss: 0.0119 - accuracy: 0.9881 - val_loss: 0.0222 - val_accuracy: 0.9778\n",
      "Epoch 3/3\n",
      " - 99s - loss: 0.0119 - accuracy: 0.9881 - val_loss: 0.0222 - val_accuracy: 0.9778\n",
      "score: 0.99\n"
     ]
    }
   ],
   "source": [
    "model_evaluate()"
   ]
  },
  {
   "cell_type": "code",
   "execution_count": 360,
   "metadata": {},
   "outputs": [
    {
     "data": {
      "text/html": [
       "<div>\n",
       "<style scoped>\n",
       "    .dataframe tbody tr th:only-of-type {\n",
       "        vertical-align: middle;\n",
       "    }\n",
       "\n",
       "    .dataframe tbody tr th {\n",
       "        vertical-align: top;\n",
       "    }\n",
       "\n",
       "    .dataframe thead th {\n",
       "        text-align: right;\n",
       "    }\n",
       "</style>\n",
       "<table border=\"1\" class=\"dataframe\">\n",
       "  <thead>\n",
       "    <tr style=\"text-align: right;\">\n",
       "      <th></th>\n",
       "      <th>Comment</th>\n",
       "      <th>Brand</th>\n",
       "      <th>Sector</th>\n",
       "      <th>Gecikme</th>\n",
       "      <th>Şube</th>\n",
       "      <th>Dağıtım</th>\n",
       "      <th>Müşteri Hizmetleri</th>\n",
       "      <th>Kargo</th>\n",
       "      <th>Stok</th>\n",
       "      <th>iade</th>\n",
       "      <th>Ödeme</th>\n",
       "      <th>Eksik Ürün</th>\n",
       "    </tr>\n",
       "  </thead>\n",
       "  <tbody>\n",
       "    <tr>\n",
       "      <th>89783</th>\n",
       "      <td>18 Mayıs tarihinde 2 adet kitap sipariş verdim...</td>\n",
       "      <td>Kitap Seç</td>\n",
       "      <td>Kitap</td>\n",
       "      <td>0</td>\n",
       "      <td>0</td>\n",
       "      <td>0</td>\n",
       "      <td>0</td>\n",
       "      <td>1</td>\n",
       "      <td>1</td>\n",
       "      <td>0</td>\n",
       "      <td>0</td>\n",
       "      <td>0</td>\n",
       "    </tr>\n",
       "    <tr>\n",
       "      <th>92208</th>\n",
       "      <td>21.05.2020 tarihinde verdiğim 8135******23 tak...</td>\n",
       "      <td>Aras Kargo</td>\n",
       "      <td>Taşıma</td>\n",
       "      <td>1</td>\n",
       "      <td>1</td>\n",
       "      <td>0</td>\n",
       "      <td>0</td>\n",
       "      <td>0</td>\n",
       "      <td>0</td>\n",
       "      <td>0</td>\n",
       "      <td>0</td>\n",
       "      <td>0</td>\n",
       "    </tr>\n",
       "    <tr>\n",
       "      <th>51696</th>\n",
       "      <td>Tekzen'den 1,5 ay önce masa siparişi verdim. S...</td>\n",
       "      <td>Tekzen</td>\n",
       "      <td>EvEsyasi</td>\n",
       "      <td>1</td>\n",
       "      <td>0</td>\n",
       "      <td>0</td>\n",
       "      <td>0</td>\n",
       "      <td>0</td>\n",
       "      <td>0</td>\n",
       "      <td>1</td>\n",
       "      <td>0</td>\n",
       "      <td>0</td>\n",
       "    </tr>\n",
       "    <tr>\n",
       "      <th>43772</th>\n",
       "      <td>Bir ay bekledikten sonra gelen siparişimin baş...</td>\n",
       "      <td>Penti</td>\n",
       "      <td>Giyim</td>\n",
       "      <td>0</td>\n",
       "      <td>0</td>\n",
       "      <td>0</td>\n",
       "      <td>0</td>\n",
       "      <td>1</td>\n",
       "      <td>0</td>\n",
       "      <td>0</td>\n",
       "      <td>0</td>\n",
       "      <td>0</td>\n",
       "    </tr>\n",
       "    <tr>\n",
       "      <th>60042</th>\n",
       "      <td>Trendyol'dan vermiş olduğum siparişi MNG Kargo...</td>\n",
       "      <td>MNG Kargo</td>\n",
       "      <td>Taşıma</td>\n",
       "      <td>1</td>\n",
       "      <td>0</td>\n",
       "      <td>0</td>\n",
       "      <td>0</td>\n",
       "      <td>0</td>\n",
       "      <td>0</td>\n",
       "      <td>0</td>\n",
       "      <td>0</td>\n",
       "      <td>0</td>\n",
       "    </tr>\n",
       "    <tr>\n",
       "      <th>95803</th>\n",
       "      <td>19.05.2020 tarihinde Media Markt internet site...</td>\n",
       "      <td>Media Markt</td>\n",
       "      <td>Teknoloji</td>\n",
       "      <td>1</td>\n",
       "      <td>0</td>\n",
       "      <td>0</td>\n",
       "      <td>1</td>\n",
       "      <td>0</td>\n",
       "      <td>0</td>\n",
       "      <td>0</td>\n",
       "      <td>0</td>\n",
       "      <td>0</td>\n",
       "    </tr>\n",
       "    <tr>\n",
       "      <th>60876</th>\n",
       "      <td>20/05/2020 tarihinde sipariş verdiğim ürün 2 h...</td>\n",
       "      <td>Tekzen</td>\n",
       "      <td>EvEsyasi</td>\n",
       "      <td>1</td>\n",
       "      <td>0</td>\n",
       "      <td>0</td>\n",
       "      <td>0</td>\n",
       "      <td>0</td>\n",
       "      <td>0</td>\n",
       "      <td>0</td>\n",
       "      <td>0</td>\n",
       "      <td>0</td>\n",
       "    </tr>\n",
       "    <tr>\n",
       "      <th>73468</th>\n",
       "      <td>Yaklaşık 2 ay önce 2 t-shirt sipariş verdim. B...</td>\n",
       "      <td>DeFacto</td>\n",
       "      <td>Giyim</td>\n",
       "      <td>0</td>\n",
       "      <td>0</td>\n",
       "      <td>0</td>\n",
       "      <td>0</td>\n",
       "      <td>1</td>\n",
       "      <td>0</td>\n",
       "      <td>1</td>\n",
       "      <td>0</td>\n",
       "      <td>0</td>\n",
       "    </tr>\n",
       "    <tr>\n",
       "      <th>61142</th>\n",
       "      <td>29.05'te verdiğim sipariş 02.06'da UPS Türkiye...</td>\n",
       "      <td>UPS Türkiye</td>\n",
       "      <td>Taşıma</td>\n",
       "      <td>1</td>\n",
       "      <td>0</td>\n",
       "      <td>0</td>\n",
       "      <td>0</td>\n",
       "      <td>0</td>\n",
       "      <td>0</td>\n",
       "      <td>0</td>\n",
       "      <td>0</td>\n",
       "      <td>0</td>\n",
       "    </tr>\n",
       "    <tr>\n",
       "      <th>92827</th>\n",
       "      <td>25 Mayıs pazartesi sipariş verdiğim p305***135...</td>\n",
       "      <td>Gratis</td>\n",
       "      <td>Giyim</td>\n",
       "      <td>0</td>\n",
       "      <td>0</td>\n",
       "      <td>0</td>\n",
       "      <td>0</td>\n",
       "      <td>0</td>\n",
       "      <td>0</td>\n",
       "      <td>0</td>\n",
       "      <td>0</td>\n",
       "      <td>0</td>\n",
       "    </tr>\n",
       "  </tbody>\n",
       "</table>\n",
       "</div>"
      ],
      "text/plain": [
       "                                                 Comment        Brand  \\\n",
       "89783  18 Mayıs tarihinde 2 adet kitap sipariş verdim...    Kitap Seç   \n",
       "92208  21.05.2020 tarihinde verdiğim 8135******23 tak...   Aras Kargo   \n",
       "51696  Tekzen'den 1,5 ay önce masa siparişi verdim. S...       Tekzen   \n",
       "43772  Bir ay bekledikten sonra gelen siparişimin baş...        Penti   \n",
       "60042  Trendyol'dan vermiş olduğum siparişi MNG Kargo...    MNG Kargo   \n",
       "95803  19.05.2020 tarihinde Media Markt internet site...  Media Markt   \n",
       "60876  20/05/2020 tarihinde sipariş verdiğim ürün 2 h...       Tekzen   \n",
       "73468  Yaklaşık 2 ay önce 2 t-shirt sipariş verdim. B...      DeFacto   \n",
       "61142  29.05'te verdiğim sipariş 02.06'da UPS Türkiye...  UPS Türkiye   \n",
       "92827  25 Mayıs pazartesi sipariş verdiğim p305***135...       Gratis   \n",
       "\n",
       "          Sector  Gecikme  Şube  Dağıtım  Müşteri Hizmetleri  Kargo  Stok  \\\n",
       "89783      Kitap        0     0        0                   0      1     1   \n",
       "92208     Taşıma        1     1        0                   0      0     0   \n",
       "51696   EvEsyasi        1     0        0                   0      0     0   \n",
       "43772      Giyim        0     0        0                   0      1     0   \n",
       "60042     Taşıma        1     0        0                   0      0     0   \n",
       "95803  Teknoloji        1     0        0                   1      0     0   \n",
       "60876   EvEsyasi        1     0        0                   0      0     0   \n",
       "73468      Giyim        0     0        0                   0      1     0   \n",
       "61142     Taşıma        1     0        0                   0      0     0   \n",
       "92827      Giyim        0     0        0                   0      0     0   \n",
       "\n",
       "       iade  Ödeme  Eksik Ürün  \n",
       "89783     0      0           0  \n",
       "92208     0      0           0  \n",
       "51696     1      0           0  \n",
       "43772     0      0           0  \n",
       "60042     0      0           0  \n",
       "95803     0      0           0  \n",
       "60876     0      0           0  \n",
       "73468     1      0           0  \n",
       "61142     0      0           0  \n",
       "92827     0      0           0  "
      ]
     },
     "execution_count": 360,
     "metadata": {},
     "output_type": "execute_result"
    }
   ],
   "source": [
    "df_test = df_result[40200:40210] # 20 Tane\n",
    "df_test"
   ]
  },
  {
   "cell_type": "code",
   "execution_count": 361,
   "metadata": {},
   "outputs": [],
   "source": [
    "df_test = df_test['Comment'].tolist()\n",
    "#df_test"
   ]
  },
  {
   "cell_type": "code",
   "execution_count": 362,
   "metadata": {},
   "outputs": [
    {
     "name": "stdout",
     "output_type": "stream",
     "text": [
      "[[0.49956816 0.50043184]\n",
      " [0.50410515 0.49589482]\n",
      " [0.5049621  0.4950379 ]\n",
      " [0.5022328  0.49776727]\n",
      " [0.505591   0.49440897]\n",
      " [0.50303245 0.4969676 ]\n",
      " [0.5030588  0.49694124]\n",
      " [0.50473243 0.49526748]\n",
      " [0.50479996 0.4952    ]\n",
      " [0.5013902  0.49860978]]\n"
     ]
    }
   ],
   "source": [
    "sequences = tokenizer.texts_to_sequences(df_test)\n",
    "data = pad_sequences(sequences, maxlen=400)\n",
    "predictions = model.predict(data)\n",
    "print(predictions)"
   ]
  },
  {
   "cell_type": "code",
   "execution_count": null,
   "metadata": {},
   "outputs": [],
   "source": []
  },
  {
   "cell_type": "markdown",
   "metadata": {},
   "source": [
    "# iade"
   ]
  },
  {
   "cell_type": "code",
   "execution_count": 363,
   "metadata": {},
   "outputs": [],
   "source": [
    "df_results_1 = df_result[30000:35000]"
   ]
  },
  {
   "cell_type": "code",
   "execution_count": 364,
   "metadata": {},
   "outputs": [
    {
     "data": {
      "text/plain": [
       "0    3920\n",
       "1    1080\n",
       "Name: iade, dtype: int64"
      ]
     },
     "execution_count": 364,
     "metadata": {},
     "output_type": "execute_result"
    }
   ],
   "source": [
    "df_results_1['iade'].value_counts()"
   ]
  },
  {
   "cell_type": "code",
   "execution_count": 365,
   "metadata": {},
   "outputs": [],
   "source": [
    "Tokenize()"
   ]
  },
  {
   "cell_type": "code",
   "execution_count": 366,
   "metadata": {},
   "outputs": [],
   "source": [
    "Y = pd.get_dummies(df_results_1['iade']).values\n"
   ]
  },
  {
   "cell_type": "code",
   "execution_count": 367,
   "metadata": {},
   "outputs": [
    {
     "name": "stderr",
     "output_type": "stream",
     "text": [
      "C:\\Users\\yasin\\Anaconda3\\envs\\nlp_course\\lib\\site-packages\\ipykernel_launcher.py:9: UserWarning: Update your `LSTM` call to the Keras 2 API: `LSTM(128, dropout=0.2, recurrent_dropout=0.2)`\n",
      "  if __name__ == '__main__':\n"
     ]
    },
    {
     "name": "stdout",
     "output_type": "stream",
     "text": [
      "Train on 4050 samples, validate on 450 samples\n",
      "Epoch 1/3\n",
      " - 88s - loss: 0.1732 - accuracy: 0.7847 - val_loss: 0.1819 - val_accuracy: 0.7622\n",
      "Epoch 2/3\n",
      " - 87s - loss: 0.1584 - accuracy: 0.7862 - val_loss: 0.1841 - val_accuracy: 0.7578\n",
      "Epoch 3/3\n",
      " - 92s - loss: 0.1272 - accuracy: 0.8237 - val_loss: 0.2048 - val_accuracy: 0.7489\n",
      "score: 0.73\n"
     ]
    }
   ],
   "source": [
    "model_evaluate()"
   ]
  },
  {
   "cell_type": "code",
   "execution_count": 368,
   "metadata": {},
   "outputs": [
    {
     "data": {
      "text/html": [
       "<div>\n",
       "<style scoped>\n",
       "    .dataframe tbody tr th:only-of-type {\n",
       "        vertical-align: middle;\n",
       "    }\n",
       "\n",
       "    .dataframe tbody tr th {\n",
       "        vertical-align: top;\n",
       "    }\n",
       "\n",
       "    .dataframe thead th {\n",
       "        text-align: right;\n",
       "    }\n",
       "</style>\n",
       "<table border=\"1\" class=\"dataframe\">\n",
       "  <thead>\n",
       "    <tr style=\"text-align: right;\">\n",
       "      <th></th>\n",
       "      <th>Comment</th>\n",
       "      <th>Brand</th>\n",
       "      <th>Sector</th>\n",
       "      <th>Gecikme</th>\n",
       "      <th>Şube</th>\n",
       "      <th>Dağıtım</th>\n",
       "      <th>Müşteri Hizmetleri</th>\n",
       "      <th>Kargo</th>\n",
       "      <th>Stok</th>\n",
       "      <th>iade</th>\n",
       "      <th>Ödeme</th>\n",
       "      <th>Eksik Ürün</th>\n",
       "    </tr>\n",
       "  </thead>\n",
       "  <tbody>\n",
       "    <tr>\n",
       "      <th>28399</th>\n",
       "      <td>Kargomuz 1 hafta oldu gelmedi. Babaannem adına...</td>\n",
       "      <td>MNG Kargo</td>\n",
       "      <td>Taşıma</td>\n",
       "      <td>0</td>\n",
       "      <td>1</td>\n",
       "      <td>1</td>\n",
       "      <td>0</td>\n",
       "      <td>0</td>\n",
       "      <td>0</td>\n",
       "      <td>0</td>\n",
       "      <td>0</td>\n",
       "      <td>0</td>\n",
       "    </tr>\n",
       "    <tr>\n",
       "      <th>34598</th>\n",
       "      <td>13.05.2020 tarihinde sipariş verdiğim Zen Home...</td>\n",
       "      <td>Tekzen</td>\n",
       "      <td>EvEsyasi</td>\n",
       "      <td>1</td>\n",
       "      <td>0</td>\n",
       "      <td>0</td>\n",
       "      <td>1</td>\n",
       "      <td>0</td>\n",
       "      <td>0</td>\n",
       "      <td>0</td>\n",
       "      <td>0</td>\n",
       "      <td>0</td>\n",
       "    </tr>\n",
       "    <tr>\n",
       "      <th>45761</th>\n",
       "      <td>Trendyol'dan istettiğim siparişim MNG Kargo il...</td>\n",
       "      <td>MNG Kargo</td>\n",
       "      <td>Taşıma</td>\n",
       "      <td>0</td>\n",
       "      <td>0</td>\n",
       "      <td>0</td>\n",
       "      <td>0</td>\n",
       "      <td>0</td>\n",
       "      <td>0</td>\n",
       "      <td>0</td>\n",
       "      <td>0</td>\n",
       "      <td>0</td>\n",
       "    </tr>\n",
       "    <tr>\n",
       "      <th>72051</th>\n",
       "      <td>Boyner'in internet sitesinden den 22 Mayıs'ta ...</td>\n",
       "      <td>Boyner</td>\n",
       "      <td>Giyim</td>\n",
       "      <td>0</td>\n",
       "      <td>0</td>\n",
       "      <td>0</td>\n",
       "      <td>0</td>\n",
       "      <td>1</td>\n",
       "      <td>0</td>\n",
       "      <td>1</td>\n",
       "      <td>0</td>\n",
       "      <td>0</td>\n",
       "    </tr>\n",
       "    <tr>\n",
       "      <th>28789</th>\n",
       "      <td>01.07.20 aldığım ürün Aras Kargo ile gönderild...</td>\n",
       "      <td>Aras Kargo</td>\n",
       "      <td>Taşıma</td>\n",
       "      <td>1</td>\n",
       "      <td>1</td>\n",
       "      <td>0</td>\n",
       "      <td>0</td>\n",
       "      <td>0</td>\n",
       "      <td>0</td>\n",
       "      <td>0</td>\n",
       "      <td>0</td>\n",
       "      <td>0</td>\n",
       "    </tr>\n",
       "    <tr>\n",
       "      <th>85497</th>\n",
       "      <td>1275**56 05.05.2020 de verdiğim siparişlerden ...</td>\n",
       "      <td>DeFacto</td>\n",
       "      <td>Giyim</td>\n",
       "      <td>0</td>\n",
       "      <td>0</td>\n",
       "      <td>0</td>\n",
       "      <td>0</td>\n",
       "      <td>1</td>\n",
       "      <td>0</td>\n",
       "      <td>0</td>\n",
       "      <td>0</td>\n",
       "      <td>0</td>\n",
       "    </tr>\n",
       "    <tr>\n",
       "      <th>16653</th>\n",
       "      <td>16.07 Tarihinde Koçtaş'tan siparişimi teslim a...</td>\n",
       "      <td>Horoz Lojistik</td>\n",
       "      <td>Taşıma</td>\n",
       "      <td>0</td>\n",
       "      <td>0</td>\n",
       "      <td>0</td>\n",
       "      <td>0</td>\n",
       "      <td>0</td>\n",
       "      <td>0</td>\n",
       "      <td>0</td>\n",
       "      <td>0</td>\n",
       "      <td>0</td>\n",
       "    </tr>\n",
       "    <tr>\n",
       "      <th>23867</th>\n",
       "      <td>29 Haziran'da verdiğim 7267500 sipariş numaral...</td>\n",
       "      <td>Boyner</td>\n",
       "      <td>Giyim</td>\n",
       "      <td>0</td>\n",
       "      <td>0</td>\n",
       "      <td>0</td>\n",
       "      <td>0</td>\n",
       "      <td>1</td>\n",
       "      <td>0</td>\n",
       "      <td>1</td>\n",
       "      <td>0</td>\n",
       "      <td>0</td>\n",
       "    </tr>\n",
       "    <tr>\n",
       "      <th>16707</th>\n",
       "      <td>3 Haziran 2020'de verdiğimiz 210306201026616 n...</td>\n",
       "      <td>IKEA</td>\n",
       "      <td>EvEsyasi</td>\n",
       "      <td>0</td>\n",
       "      <td>0</td>\n",
       "      <td>0</td>\n",
       "      <td>0</td>\n",
       "      <td>0</td>\n",
       "      <td>0</td>\n",
       "      <td>1</td>\n",
       "      <td>0</td>\n",
       "      <td>0</td>\n",
       "    </tr>\n",
       "    <tr>\n",
       "      <th>46367</th>\n",
       "      <td>31 Mayıs tarihinde satın aldığım 100... 4505 n...</td>\n",
       "      <td>Boyner</td>\n",
       "      <td>Giyim</td>\n",
       "      <td>0</td>\n",
       "      <td>0</td>\n",
       "      <td>0</td>\n",
       "      <td>1</td>\n",
       "      <td>1</td>\n",
       "      <td>0</td>\n",
       "      <td>1</td>\n",
       "      <td>0</td>\n",
       "      <td>0</td>\n",
       "    </tr>\n",
       "  </tbody>\n",
       "</table>\n",
       "</div>"
      ],
      "text/plain": [
       "                                                 Comment           Brand  \\\n",
       "28399  Kargomuz 1 hafta oldu gelmedi. Babaannem adına...       MNG Kargo   \n",
       "34598  13.05.2020 tarihinde sipariş verdiğim Zen Home...          Tekzen   \n",
       "45761  Trendyol'dan istettiğim siparişim MNG Kargo il...       MNG Kargo   \n",
       "72051  Boyner'in internet sitesinden den 22 Mayıs'ta ...          Boyner   \n",
       "28789  01.07.20 aldığım ürün Aras Kargo ile gönderild...      Aras Kargo   \n",
       "85497  1275**56 05.05.2020 de verdiğim siparişlerden ...         DeFacto   \n",
       "16653  16.07 Tarihinde Koçtaş'tan siparişimi teslim a...  Horoz Lojistik   \n",
       "23867  29 Haziran'da verdiğim 7267500 sipariş numaral...          Boyner   \n",
       "16707  3 Haziran 2020'de verdiğimiz 210306201026616 n...            IKEA   \n",
       "46367  31 Mayıs tarihinde satın aldığım 100... 4505 n...          Boyner   \n",
       "\n",
       "         Sector  Gecikme  Şube  Dağıtım  Müşteri Hizmetleri  Kargo  Stok  \\\n",
       "28399    Taşıma        0     1        1                   0      0     0   \n",
       "34598  EvEsyasi        1     0        0                   1      0     0   \n",
       "45761    Taşıma        0     0        0                   0      0     0   \n",
       "72051     Giyim        0     0        0                   0      1     0   \n",
       "28789    Taşıma        1     1        0                   0      0     0   \n",
       "85497     Giyim        0     0        0                   0      1     0   \n",
       "16653    Taşıma        0     0        0                   0      0     0   \n",
       "23867     Giyim        0     0        0                   0      1     0   \n",
       "16707  EvEsyasi        0     0        0                   0      0     0   \n",
       "46367     Giyim        0     0        0                   1      1     0   \n",
       "\n",
       "       iade  Ödeme  Eksik Ürün  \n",
       "28399     0      0           0  \n",
       "34598     0      0           0  \n",
       "45761     0      0           0  \n",
       "72051     1      0           0  \n",
       "28789     0      0           0  \n",
       "85497     0      0           0  \n",
       "16653     0      0           0  \n",
       "23867     1      0           0  \n",
       "16707     1      0           0  \n",
       "46367     1      0           0  "
      ]
     },
     "execution_count": 368,
     "metadata": {},
     "output_type": "execute_result"
    }
   ],
   "source": [
    "df_test = df_result[1000:1010] # 20 Tane\n",
    "df_test"
   ]
  },
  {
   "cell_type": "code",
   "execution_count": 369,
   "metadata": {},
   "outputs": [],
   "source": [
    "df_test = df_test['Comment'].tolist()\n",
    "#df_test"
   ]
  },
  {
   "cell_type": "code",
   "execution_count": 370,
   "metadata": {},
   "outputs": [
    {
     "name": "stdout",
     "output_type": "stream",
     "text": [
      "[[0.501923   0.49807706]\n",
      " [0.50098485 0.49901506]\n",
      " [0.50145805 0.49854192]\n",
      " [0.5024906  0.49750948]\n",
      " [0.50157595 0.49842402]\n",
      " [0.49829498 0.50170505]\n",
      " [0.50394994 0.49605006]\n",
      " [0.49627087 0.5037291 ]\n",
      " [0.5005573  0.49944267]\n",
      " [0.5034695  0.4965304 ]]\n"
     ]
    }
   ],
   "source": [
    "sequences = tokenizer.texts_to_sequences(df_test)\n",
    "data = pad_sequences(sequences, maxlen=400)\n",
    "predictions = model.predict(data)\n",
    "print(predictions)"
   ]
  },
  {
   "cell_type": "markdown",
   "metadata": {},
   "source": [
    "# Ödeme"
   ]
  },
  {
   "cell_type": "code",
   "execution_count": 371,
   "metadata": {},
   "outputs": [],
   "source": [
    "df_results_1 = df_result[30000:35000]"
   ]
  },
  {
   "cell_type": "code",
   "execution_count": 372,
   "metadata": {},
   "outputs": [
    {
     "data": {
      "text/plain": [
       "0    4928\n",
       "1      72\n",
       "Name: Ödeme, dtype: int64"
      ]
     },
     "execution_count": 372,
     "metadata": {},
     "output_type": "execute_result"
    }
   ],
   "source": [
    "df_results_1['Ödeme'].value_counts()"
   ]
  },
  {
   "cell_type": "code",
   "execution_count": 373,
   "metadata": {},
   "outputs": [],
   "source": [
    "Tokenize()"
   ]
  },
  {
   "cell_type": "code",
   "execution_count": 374,
   "metadata": {},
   "outputs": [],
   "source": [
    "Y = pd.get_dummies(df_results_1['Ödeme']).values\n"
   ]
  },
  {
   "cell_type": "code",
   "execution_count": 375,
   "metadata": {},
   "outputs": [
    {
     "name": "stderr",
     "output_type": "stream",
     "text": [
      "C:\\Users\\yasin\\Anaconda3\\envs\\nlp_course\\lib\\site-packages\\ipykernel_launcher.py:9: UserWarning: Update your `LSTM` call to the Keras 2 API: `LSTM(128, dropout=0.2, recurrent_dropout=0.2)`\n",
      "  if __name__ == '__main__':\n"
     ]
    },
    {
     "name": "stdout",
     "output_type": "stream",
     "text": [
      "Train on 4050 samples, validate on 450 samples\n",
      "Epoch 1/3\n",
      " - 98s - loss: 0.0291 - accuracy: 0.9822 - val_loss: 0.0111 - val_accuracy: 0.9889\n",
      "Epoch 2/3\n",
      " - 99s - loss: 0.0153 - accuracy: 0.9847 - val_loss: 0.0111 - val_accuracy: 0.9889\n",
      "Epoch 3/3\n",
      " - 97s - loss: 0.0153 - accuracy: 0.9847 - val_loss: 0.0111 - val_accuracy: 0.9889\n",
      "score: 0.99\n"
     ]
    }
   ],
   "source": [
    "model_evaluate()"
   ]
  },
  {
   "cell_type": "code",
   "execution_count": 379,
   "metadata": {},
   "outputs": [
    {
     "data": {
      "text/html": [
       "<div>\n",
       "<style scoped>\n",
       "    .dataframe tbody tr th:only-of-type {\n",
       "        vertical-align: middle;\n",
       "    }\n",
       "\n",
       "    .dataframe tbody tr th {\n",
       "        vertical-align: top;\n",
       "    }\n",
       "\n",
       "    .dataframe thead th {\n",
       "        text-align: right;\n",
       "    }\n",
       "</style>\n",
       "<table border=\"1\" class=\"dataframe\">\n",
       "  <thead>\n",
       "    <tr style=\"text-align: right;\">\n",
       "      <th></th>\n",
       "      <th>Comment</th>\n",
       "      <th>Brand</th>\n",
       "      <th>Sector</th>\n",
       "      <th>Gecikme</th>\n",
       "      <th>Şube</th>\n",
       "      <th>Dağıtım</th>\n",
       "      <th>Müşteri Hizmetleri</th>\n",
       "      <th>Kargo</th>\n",
       "      <th>Stok</th>\n",
       "      <th>iade</th>\n",
       "      <th>Ödeme</th>\n",
       "      <th>Eksik Ürün</th>\n",
       "    </tr>\n",
       "  </thead>\n",
       "  <tbody>\n",
       "    <tr>\n",
       "      <th>35803</th>\n",
       "      <td>Gratis internet mağazasından 9 Haziran 2020 de...</td>\n",
       "      <td>Gratis</td>\n",
       "      <td>Giyim</td>\n",
       "      <td>0</td>\n",
       "      <td>0</td>\n",
       "      <td>0</td>\n",
       "      <td>0</td>\n",
       "      <td>0</td>\n",
       "      <td>0</td>\n",
       "      <td>1</td>\n",
       "      <td>0</td>\n",
       "      <td>0</td>\n",
       "    </tr>\n",
       "    <tr>\n",
       "      <th>69083</th>\n",
       "      <td>1006**1307 sipariş numarası ile 16 Mayıs 2020 ...</td>\n",
       "      <td>Boyner</td>\n",
       "      <td>Giyim</td>\n",
       "      <td>0</td>\n",
       "      <td>0</td>\n",
       "      <td>0</td>\n",
       "      <td>1</td>\n",
       "      <td>1</td>\n",
       "      <td>0</td>\n",
       "      <td>1</td>\n",
       "      <td>0</td>\n",
       "      <td>0</td>\n",
       "    </tr>\n",
       "    <tr>\n",
       "      <th>92495</th>\n",
       "      <td>Sırf MNG Kargo'nun kargomu bana ulaştıramadığı...</td>\n",
       "      <td>MNG Kargo</td>\n",
       "      <td>Taşıma</td>\n",
       "      <td>0</td>\n",
       "      <td>0</td>\n",
       "      <td>0</td>\n",
       "      <td>0</td>\n",
       "      <td>0</td>\n",
       "      <td>0</td>\n",
       "      <td>0</td>\n",
       "      <td>0</td>\n",
       "      <td>0</td>\n",
       "    </tr>\n",
       "    <tr>\n",
       "      <th>4890</th>\n",
       "      <td>9 Ağustos'ta  kedi tuvaleti siparişi verdim. 1...</td>\n",
       "      <td>MNG Kargo</td>\n",
       "      <td>Taşıma</td>\n",
       "      <td>1</td>\n",
       "      <td>1</td>\n",
       "      <td>0</td>\n",
       "      <td>0</td>\n",
       "      <td>0</td>\n",
       "      <td>0</td>\n",
       "      <td>0</td>\n",
       "      <td>0</td>\n",
       "      <td>0</td>\n",
       "    </tr>\n",
       "    <tr>\n",
       "      <th>50757</th>\n",
       "      <td>15 gün oldu sipariş vereli hala gelecek. Samsu...</td>\n",
       "      <td>Sürat Kargo</td>\n",
       "      <td>Taşıma</td>\n",
       "      <td>1</td>\n",
       "      <td>1</td>\n",
       "      <td>0</td>\n",
       "      <td>0</td>\n",
       "      <td>0</td>\n",
       "      <td>0</td>\n",
       "      <td>0</td>\n",
       "      <td>0</td>\n",
       "      <td>0</td>\n",
       "    </tr>\n",
       "    <tr>\n",
       "      <th>48524</th>\n",
       "      <td>Pizza teslim edilmedi. Fakat pizza takipte piz...</td>\n",
       "      <td>Domino's Pizza</td>\n",
       "      <td>Yemek</td>\n",
       "      <td>1</td>\n",
       "      <td>1</td>\n",
       "      <td>0</td>\n",
       "      <td>0</td>\n",
       "      <td>0</td>\n",
       "      <td>0</td>\n",
       "      <td>0</td>\n",
       "      <td>1</td>\n",
       "      <td>0</td>\n",
       "    </tr>\n",
       "    <tr>\n",
       "      <th>61701</th>\n",
       "      <td>Pazartesi yola çıkan kargom 2 gündür hala dağı...</td>\n",
       "      <td>MNG Kargo</td>\n",
       "      <td>Taşıma</td>\n",
       "      <td>1</td>\n",
       "      <td>1</td>\n",
       "      <td>1</td>\n",
       "      <td>0</td>\n",
       "      <td>0</td>\n",
       "      <td>0</td>\n",
       "      <td>0</td>\n",
       "      <td>0</td>\n",
       "      <td>0</td>\n",
       "    </tr>\n",
       "    <tr>\n",
       "      <th>7196</th>\n",
       "      <td>1 adet delta plates çemberi sipariş ettim 23.0...</td>\n",
       "      <td>Trendyol Express</td>\n",
       "      <td>Taşıma</td>\n",
       "      <td>0</td>\n",
       "      <td>1</td>\n",
       "      <td>0</td>\n",
       "      <td>0</td>\n",
       "      <td>0</td>\n",
       "      <td>0</td>\n",
       "      <td>0</td>\n",
       "      <td>0</td>\n",
       "      <td>0</td>\n",
       "    </tr>\n",
       "    <tr>\n",
       "      <th>62096</th>\n",
       "      <td>N11.com'dan sipariş ettiğim ürünün bir haftada...</td>\n",
       "      <td>Aras Kargo</td>\n",
       "      <td>Taşıma</td>\n",
       "      <td>1</td>\n",
       "      <td>1</td>\n",
       "      <td>0</td>\n",
       "      <td>0</td>\n",
       "      <td>0</td>\n",
       "      <td>0</td>\n",
       "      <td>0</td>\n",
       "      <td>0</td>\n",
       "      <td>0</td>\n",
       "    </tr>\n",
       "    <tr>\n",
       "      <th>44274</th>\n",
       "      <td>Kuşadası Sürat Kargo aracılığıyla. 10524520842...</td>\n",
       "      <td>Sürat Kargo</td>\n",
       "      <td>Taşıma</td>\n",
       "      <td>1</td>\n",
       "      <td>0</td>\n",
       "      <td>1</td>\n",
       "      <td>0</td>\n",
       "      <td>0</td>\n",
       "      <td>0</td>\n",
       "      <td>0</td>\n",
       "      <td>0</td>\n",
       "      <td>0</td>\n",
       "    </tr>\n",
       "  </tbody>\n",
       "</table>\n",
       "</div>"
      ],
      "text/plain": [
       "                                                 Comment             Brand  \\\n",
       "35803  Gratis internet mağazasından 9 Haziran 2020 de...            Gratis   \n",
       "69083  1006**1307 sipariş numarası ile 16 Mayıs 2020 ...            Boyner   \n",
       "92495  Sırf MNG Kargo'nun kargomu bana ulaştıramadığı...         MNG Kargo   \n",
       "4890   9 Ağustos'ta  kedi tuvaleti siparişi verdim. 1...         MNG Kargo   \n",
       "50757  15 gün oldu sipariş vereli hala gelecek. Samsu...       Sürat Kargo   \n",
       "48524  Pizza teslim edilmedi. Fakat pizza takipte piz...    Domino's Pizza   \n",
       "61701  Pazartesi yola çıkan kargom 2 gündür hala dağı...         MNG Kargo   \n",
       "7196   1 adet delta plates çemberi sipariş ettim 23.0...  Trendyol Express   \n",
       "62096  N11.com'dan sipariş ettiğim ürünün bir haftada...        Aras Kargo   \n",
       "44274  Kuşadası Sürat Kargo aracılığıyla. 10524520842...       Sürat Kargo   \n",
       "\n",
       "       Sector  Gecikme  Şube  Dağıtım  Müşteri Hizmetleri  Kargo  Stok  iade  \\\n",
       "35803   Giyim        0     0        0                   0      0     0     1   \n",
       "69083   Giyim        0     0        0                   1      1     0     1   \n",
       "92495  Taşıma        0     0        0                   0      0     0     0   \n",
       "4890   Taşıma        1     1        0                   0      0     0     0   \n",
       "50757  Taşıma        1     1        0                   0      0     0     0   \n",
       "48524   Yemek        1     1        0                   0      0     0     0   \n",
       "61701  Taşıma        1     1        1                   0      0     0     0   \n",
       "7196   Taşıma        0     1        0                   0      0     0     0   \n",
       "62096  Taşıma        1     1        0                   0      0     0     0   \n",
       "44274  Taşıma        1     0        1                   0      0     0     0   \n",
       "\n",
       "       Ödeme  Eksik Ürün  \n",
       "35803      0           0  \n",
       "69083      0           0  \n",
       "92495      0           0  \n",
       "4890       0           0  \n",
       "50757      0           0  \n",
       "48524      1           0  \n",
       "61701      0           0  \n",
       "7196       0           0  \n",
       "62096      0           0  \n",
       "44274      0           0  "
      ]
     },
     "execution_count": 379,
     "metadata": {},
     "output_type": "execute_result"
    }
   ],
   "source": [
    "df_test = df_result[2000:2010] # 20 Tane\n",
    "df_test"
   ]
  },
  {
   "cell_type": "code",
   "execution_count": 380,
   "metadata": {},
   "outputs": [],
   "source": [
    "df_test = df_test['Comment'].tolist()\n",
    "#df_test"
   ]
  },
  {
   "cell_type": "code",
   "execution_count": 381,
   "metadata": {},
   "outputs": [
    {
     "name": "stdout",
     "output_type": "stream",
     "text": [
      "[[0.49741423 0.50258577]\n",
      " [0.49884778 0.5011522 ]\n",
      " [0.5001815  0.4998185 ]\n",
      " [0.498162   0.501838  ]\n",
      " [0.50132513 0.4986749 ]\n",
      " [0.5011659  0.49883413]\n",
      " [0.5018207  0.49817938]\n",
      " [0.5031023  0.49689764]\n",
      " [0.5039035  0.49609643]\n",
      " [0.5026198  0.4973802 ]]\n"
     ]
    }
   ],
   "source": [
    "sequences = tokenizer.texts_to_sequences(df_test)\n",
    "data = pad_sequences(sequences, maxlen=400)\n",
    "predictions = model.predict(data)\n",
    "print(predictions)"
   ]
  },
  {
   "cell_type": "markdown",
   "metadata": {},
   "source": [
    "# Eksik Ürün"
   ]
  },
  {
   "cell_type": "code",
   "execution_count": 384,
   "metadata": {},
   "outputs": [],
   "source": [
    "df_results_1 = df_result[20000:25000]"
   ]
  },
  {
   "cell_type": "code",
   "execution_count": 385,
   "metadata": {},
   "outputs": [
    {
     "data": {
      "text/plain": [
       "0    4976\n",
       "1      24\n",
       "Name: Eksik Ürün, dtype: int64"
      ]
     },
     "execution_count": 385,
     "metadata": {},
     "output_type": "execute_result"
    }
   ],
   "source": [
    "df_results_1['Eksik Ürün'].value_counts()"
   ]
  },
  {
   "cell_type": "code",
   "execution_count": 386,
   "metadata": {},
   "outputs": [],
   "source": [
    "Tokenize()"
   ]
  },
  {
   "cell_type": "code",
   "execution_count": 387,
   "metadata": {},
   "outputs": [],
   "source": [
    "Y = pd.get_dummies(df_results_1['Eksik Ürün']).values\n"
   ]
  },
  {
   "cell_type": "code",
   "execution_count": 388,
   "metadata": {},
   "outputs": [
    {
     "name": "stderr",
     "output_type": "stream",
     "text": [
      "C:\\Users\\yasin\\Anaconda3\\envs\\nlp_course\\lib\\site-packages\\ipykernel_launcher.py:9: UserWarning: Update your `LSTM` call to the Keras 2 API: `LSTM(128, dropout=0.2, recurrent_dropout=0.2)`\n",
      "  if __name__ == '__main__':\n"
     ]
    },
    {
     "name": "stdout",
     "output_type": "stream",
     "text": [
      "Train on 4050 samples, validate on 450 samples\n",
      "Epoch 1/3\n",
      " - 89s - loss: 0.0185 - accuracy: 0.9899 - val_loss: 0.0044 - val_accuracy: 0.9956\n",
      "Epoch 2/3\n",
      " - 94s - loss: 0.0049 - accuracy: 0.9951 - val_loss: 0.0044 - val_accuracy: 0.9956\n",
      "Epoch 3/3\n",
      " - 99s - loss: 0.0049 - accuracy: 0.9951 - val_loss: 0.0044 - val_accuracy: 0.9956\n",
      "score: 1.00\n"
     ]
    }
   ],
   "source": [
    "model_evaluate()"
   ]
  },
  {
   "cell_type": "code",
   "execution_count": 389,
   "metadata": {},
   "outputs": [
    {
     "data": {
      "text/html": [
       "<div>\n",
       "<style scoped>\n",
       "    .dataframe tbody tr th:only-of-type {\n",
       "        vertical-align: middle;\n",
       "    }\n",
       "\n",
       "    .dataframe tbody tr th {\n",
       "        vertical-align: top;\n",
       "    }\n",
       "\n",
       "    .dataframe thead th {\n",
       "        text-align: right;\n",
       "    }\n",
       "</style>\n",
       "<table border=\"1\" class=\"dataframe\">\n",
       "  <thead>\n",
       "    <tr style=\"text-align: right;\">\n",
       "      <th></th>\n",
       "      <th>Comment</th>\n",
       "      <th>Brand</th>\n",
       "      <th>Sector</th>\n",
       "      <th>Gecikme</th>\n",
       "      <th>Şube</th>\n",
       "      <th>Dağıtım</th>\n",
       "      <th>Müşteri Hizmetleri</th>\n",
       "      <th>Kargo</th>\n",
       "      <th>Stok</th>\n",
       "      <th>iade</th>\n",
       "      <th>Ödeme</th>\n",
       "      <th>Eksik Ürün</th>\n",
       "    </tr>\n",
       "  </thead>\n",
       "  <tbody>\n",
       "    <tr>\n",
       "      <th>28399</th>\n",
       "      <td>Kargomuz 1 hafta oldu gelmedi. Babaannem adına...</td>\n",
       "      <td>MNG Kargo</td>\n",
       "      <td>Taşıma</td>\n",
       "      <td>0</td>\n",
       "      <td>1</td>\n",
       "      <td>1</td>\n",
       "      <td>0</td>\n",
       "      <td>0</td>\n",
       "      <td>0</td>\n",
       "      <td>0</td>\n",
       "      <td>0</td>\n",
       "      <td>0</td>\n",
       "    </tr>\n",
       "    <tr>\n",
       "      <th>34598</th>\n",
       "      <td>13.05.2020 tarihinde sipariş verdiğim Zen Home...</td>\n",
       "      <td>Tekzen</td>\n",
       "      <td>EvEsyasi</td>\n",
       "      <td>1</td>\n",
       "      <td>0</td>\n",
       "      <td>0</td>\n",
       "      <td>1</td>\n",
       "      <td>0</td>\n",
       "      <td>0</td>\n",
       "      <td>0</td>\n",
       "      <td>0</td>\n",
       "      <td>0</td>\n",
       "    </tr>\n",
       "    <tr>\n",
       "      <th>45761</th>\n",
       "      <td>Trendyol'dan istettiğim siparişim MNG Kargo il...</td>\n",
       "      <td>MNG Kargo</td>\n",
       "      <td>Taşıma</td>\n",
       "      <td>0</td>\n",
       "      <td>0</td>\n",
       "      <td>0</td>\n",
       "      <td>0</td>\n",
       "      <td>0</td>\n",
       "      <td>0</td>\n",
       "      <td>0</td>\n",
       "      <td>0</td>\n",
       "      <td>0</td>\n",
       "    </tr>\n",
       "    <tr>\n",
       "      <th>72051</th>\n",
       "      <td>Boyner'in internet sitesinden den 22 Mayıs'ta ...</td>\n",
       "      <td>Boyner</td>\n",
       "      <td>Giyim</td>\n",
       "      <td>0</td>\n",
       "      <td>0</td>\n",
       "      <td>0</td>\n",
       "      <td>0</td>\n",
       "      <td>1</td>\n",
       "      <td>0</td>\n",
       "      <td>1</td>\n",
       "      <td>0</td>\n",
       "      <td>0</td>\n",
       "    </tr>\n",
       "    <tr>\n",
       "      <th>28789</th>\n",
       "      <td>01.07.20 aldığım ürün Aras Kargo ile gönderild...</td>\n",
       "      <td>Aras Kargo</td>\n",
       "      <td>Taşıma</td>\n",
       "      <td>1</td>\n",
       "      <td>1</td>\n",
       "      <td>0</td>\n",
       "      <td>0</td>\n",
       "      <td>0</td>\n",
       "      <td>0</td>\n",
       "      <td>0</td>\n",
       "      <td>0</td>\n",
       "      <td>0</td>\n",
       "    </tr>\n",
       "    <tr>\n",
       "      <th>85497</th>\n",
       "      <td>1275**56 05.05.2020 de verdiğim siparişlerden ...</td>\n",
       "      <td>DeFacto</td>\n",
       "      <td>Giyim</td>\n",
       "      <td>0</td>\n",
       "      <td>0</td>\n",
       "      <td>0</td>\n",
       "      <td>0</td>\n",
       "      <td>1</td>\n",
       "      <td>0</td>\n",
       "      <td>0</td>\n",
       "      <td>0</td>\n",
       "      <td>0</td>\n",
       "    </tr>\n",
       "    <tr>\n",
       "      <th>16653</th>\n",
       "      <td>16.07 Tarihinde Koçtaş'tan siparişimi teslim a...</td>\n",
       "      <td>Horoz Lojistik</td>\n",
       "      <td>Taşıma</td>\n",
       "      <td>0</td>\n",
       "      <td>0</td>\n",
       "      <td>0</td>\n",
       "      <td>0</td>\n",
       "      <td>0</td>\n",
       "      <td>0</td>\n",
       "      <td>0</td>\n",
       "      <td>0</td>\n",
       "      <td>0</td>\n",
       "    </tr>\n",
       "    <tr>\n",
       "      <th>23867</th>\n",
       "      <td>29 Haziran'da verdiğim 7267500 sipariş numaral...</td>\n",
       "      <td>Boyner</td>\n",
       "      <td>Giyim</td>\n",
       "      <td>0</td>\n",
       "      <td>0</td>\n",
       "      <td>0</td>\n",
       "      <td>0</td>\n",
       "      <td>1</td>\n",
       "      <td>0</td>\n",
       "      <td>1</td>\n",
       "      <td>0</td>\n",
       "      <td>0</td>\n",
       "    </tr>\n",
       "    <tr>\n",
       "      <th>16707</th>\n",
       "      <td>3 Haziran 2020'de verdiğimiz 210306201026616 n...</td>\n",
       "      <td>IKEA</td>\n",
       "      <td>EvEsyasi</td>\n",
       "      <td>0</td>\n",
       "      <td>0</td>\n",
       "      <td>0</td>\n",
       "      <td>0</td>\n",
       "      <td>0</td>\n",
       "      <td>0</td>\n",
       "      <td>1</td>\n",
       "      <td>0</td>\n",
       "      <td>0</td>\n",
       "    </tr>\n",
       "    <tr>\n",
       "      <th>46367</th>\n",
       "      <td>31 Mayıs tarihinde satın aldığım 100... 4505 n...</td>\n",
       "      <td>Boyner</td>\n",
       "      <td>Giyim</td>\n",
       "      <td>0</td>\n",
       "      <td>0</td>\n",
       "      <td>0</td>\n",
       "      <td>1</td>\n",
       "      <td>1</td>\n",
       "      <td>0</td>\n",
       "      <td>1</td>\n",
       "      <td>0</td>\n",
       "      <td>0</td>\n",
       "    </tr>\n",
       "  </tbody>\n",
       "</table>\n",
       "</div>"
      ],
      "text/plain": [
       "                                                 Comment           Brand  \\\n",
       "28399  Kargomuz 1 hafta oldu gelmedi. Babaannem adına...       MNG Kargo   \n",
       "34598  13.05.2020 tarihinde sipariş verdiğim Zen Home...          Tekzen   \n",
       "45761  Trendyol'dan istettiğim siparişim MNG Kargo il...       MNG Kargo   \n",
       "72051  Boyner'in internet sitesinden den 22 Mayıs'ta ...          Boyner   \n",
       "28789  01.07.20 aldığım ürün Aras Kargo ile gönderild...      Aras Kargo   \n",
       "85497  1275**56 05.05.2020 de verdiğim siparişlerden ...         DeFacto   \n",
       "16653  16.07 Tarihinde Koçtaş'tan siparişimi teslim a...  Horoz Lojistik   \n",
       "23867  29 Haziran'da verdiğim 7267500 sipariş numaral...          Boyner   \n",
       "16707  3 Haziran 2020'de verdiğimiz 210306201026616 n...            IKEA   \n",
       "46367  31 Mayıs tarihinde satın aldığım 100... 4505 n...          Boyner   \n",
       "\n",
       "         Sector  Gecikme  Şube  Dağıtım  Müşteri Hizmetleri  Kargo  Stok  \\\n",
       "28399    Taşıma        0     1        1                   0      0     0   \n",
       "34598  EvEsyasi        1     0        0                   1      0     0   \n",
       "45761    Taşıma        0     0        0                   0      0     0   \n",
       "72051     Giyim        0     0        0                   0      1     0   \n",
       "28789    Taşıma        1     1        0                   0      0     0   \n",
       "85497     Giyim        0     0        0                   0      1     0   \n",
       "16653    Taşıma        0     0        0                   0      0     0   \n",
       "23867     Giyim        0     0        0                   0      1     0   \n",
       "16707  EvEsyasi        0     0        0                   0      0     0   \n",
       "46367     Giyim        0     0        0                   1      1     0   \n",
       "\n",
       "       iade  Ödeme  Eksik Ürün  \n",
       "28399     0      0           0  \n",
       "34598     0      0           0  \n",
       "45761     0      0           0  \n",
       "72051     1      0           0  \n",
       "28789     0      0           0  \n",
       "85497     0      0           0  \n",
       "16653     0      0           0  \n",
       "23867     1      0           0  \n",
       "16707     1      0           0  \n",
       "46367     1      0           0  "
      ]
     },
     "execution_count": 389,
     "metadata": {},
     "output_type": "execute_result"
    }
   ],
   "source": [
    "df_test = df_result[1000:1010] # 20 Tane\n",
    "df_test"
   ]
  },
  {
   "cell_type": "code",
   "execution_count": 390,
   "metadata": {},
   "outputs": [],
   "source": [
    "df_test = df_test['Comment'].tolist()\n",
    "#df_test"
   ]
  },
  {
   "cell_type": "code",
   "execution_count": 391,
   "metadata": {},
   "outputs": [
    {
     "name": "stdout",
     "output_type": "stream",
     "text": [
      "[[0.501923   0.49807706]\n",
      " [0.50098485 0.49901506]\n",
      " [0.50145805 0.49854192]\n",
      " [0.5024906  0.49750948]\n",
      " [0.50157595 0.49842402]\n",
      " [0.49829498 0.50170505]\n",
      " [0.50394994 0.49605006]\n",
      " [0.49627087 0.5037291 ]\n",
      " [0.5005573  0.49944267]\n",
      " [0.5034695  0.4965304 ]]\n"
     ]
    }
   ],
   "source": [
    "sequences = tokenizer.texts_to_sequences(df_test)\n",
    "data = pad_sequences(sequences, maxlen=400)\n",
    "predictions = model.predict(data)\n",
    "print(predictions)"
   ]
  },
  {
   "cell_type": "code",
   "execution_count": null,
   "metadata": {},
   "outputs": [],
   "source": []
  }
 ],
 "metadata": {
  "kernelspec": {
   "display_name": "Python 3",
   "language": "python",
   "name": "python3"
  },
  "language_info": {
   "codemirror_mode": {
    "name": "ipython",
    "version": 3
   },
   "file_extension": ".py",
   "mimetype": "text/x-python",
   "name": "python",
   "nbconvert_exporter": "python",
   "pygments_lexer": "ipython3",
   "version": "3.7.7"
  }
 },
 "nbformat": 4,
 "nbformat_minor": 4
}
