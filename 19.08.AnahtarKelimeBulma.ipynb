{
 "cells": [
  {
   "cell_type": "code",
   "execution_count": 96,
   "metadata": {},
   "outputs": [],
   "source": [
    "# -*- coding: utf-8 -*-\n",
    "import numpy as np\n",
    "import pandas as pd\n",
    "\n",
    "from sklearn.feature_extraction.text import CountVectorizer\n",
    "from keras.preprocessing.text import Tokenizer\n",
    "from keras.preprocessing.sequence import pad_sequences\n",
    "from keras.models import Sequential  #layerlari lineer olarak bir araya getirir\n",
    "from keras.layers import Dense, Embedding, LSTM  # Dense layerdaki noronlarin birbirine baglanmasini saglar\n",
    "from keras.models import load_model\n",
    "from keras.utils.np_utils import to_categorical\n",
    "import re\n",
    "import seaborn as sn\n",
    "from matplotlib import pyplot"
   ]
  },
  {
   "cell_type": "code",
   "execution_count": 97,
   "metadata": {},
   "outputs": [],
   "source": [
    "data = pd.read_csv('duygu.csv',sep=',')"
   ]
  },
  {
   "cell_type": "code",
   "execution_count": 98,
   "metadata": {},
   "outputs": [
    {
     "data": {
      "text/plain": [
       "'Bu telefonu 27.12.2016 tarihinde aldım. Üzerinden bir yıldan fazla geçti. Görüşlerim şöyle:\\n1- Ekran dokunma hassasiyeti çok kötü. Yazarken yanlış yapmanıza yol açıyor.\\n2- Bu telefonu yerli olduğu için almıştım. Ama artık bunun hem firma açısından hem de biz tüketiciler açısından çok amatör bir davranış olduğunu düşünüyorum. Bence firma insanları duygusal yönden manipüle etmek yerine kalitesi ile ön plana çıkıp daha evrensel bir pazarlama yöntemi seçmeliydi. Biz de tüketiciler olarak daha rasyonel davranmalıyız. Ben de artık böyle davranacağım. Firmanın bundan sonraki tutumu kendini bağlar.\\n3- Telefonun kalitesine gelince, iş görüyor ama emsallerine göre zayıf kalıyor. Şöyle ki iş gezilerinde çalıştığım firmanın verdiği başka markanın emsal telefonu ile beraber kullandığımda bunu anladım.\\n3- Sonuç olarak gerek firmanın piyasaya yönelik mantık dışı ve kalite temelli olmayan yaklaşımı gerekse cihazın kalitesizliği sebebiyle bir sonraki telefonum başka olacak. Biz de isteriz cari açığımız kapansın ama işçiye karşı davranışlarda hiç de duygusal olmayanların satışa gelince duygusallaşmasını samimi bulmuyorum.\\n'"
      ]
     },
     "execution_count": 98,
     "metadata": {},
     "output_type": "execute_result"
    }
   ],
   "source": [
    "data['Yorum'][0]"
   ]
  },
  {
   "cell_type": "code",
   "execution_count": 99,
   "metadata": {},
   "outputs": [],
   "source": [
    "def rate_word(comment):\n",
    "    splitComment = comment.split(\" \")\n",
    "    for eachcomment in splitComment:\n",
    "        eachcomment = eachcomment.lower()\n",
    "        if eachcomment in dict:\n",
    "            x = dict[eachcomment]\n",
    "            dict[eachcomment] = x+1\n",
    "        else:\n",
    "            dict[eachcomment] = 1"
   ]
  },
  {
   "cell_type": "code",
   "execution_count": 100,
   "metadata": {},
   "outputs": [],
   "source": [
    "dict = {}\n",
    "allcomment = data['Yorum']\n",
    "#comment = allcomment[0]\n",
    "#comment\n",
    "for comment in allcomment:\n",
    "    #print(comment)\n",
    "    rate_word(comment)"
   ]
  },
  {
   "cell_type": "code",
   "execution_count": 101,
   "metadata": {},
   "outputs": [
    {
     "name": "stdout",
     "output_type": "stream",
     "text": [
      "7730\n"
     ]
    }
   ],
   "source": [
    "# Before stopwords removed\n",
    "print(len(dict))"
   ]
  },
  {
   "cell_type": "code",
   "execution_count": 102,
   "metadata": {},
   "outputs": [],
   "source": [
    "stopwords = open('turkce-stop-words', 'r',encoding ='utf-8').read().split()\n",
    "#stopwords\n",
    "# remove the stop words from dictionary\n",
    "for stops in stopwords:\n",
    "    if stops in dict:\n",
    "        del dict[stops]"
   ]
  },
  {
   "cell_type": "code",
   "execution_count": 103,
   "metadata": {},
   "outputs": [
    {
     "name": "stdout",
     "output_type": "stream",
     "text": [
      "7516\n"
     ]
    }
   ],
   "source": [
    "#After Stopwords deleted\n",
    "print(len(dict))"
   ]
  },
  {
   "cell_type": "code",
   "execution_count": 104,
   "metadata": {},
   "outputs": [],
   "source": [
    "mydict = dict.copy()\n",
    "for word in mydict:\n",
    "    if len(word) <3:\n",
    "        del dict[word]"
   ]
  },
  {
   "cell_type": "code",
   "execution_count": 105,
   "metadata": {},
   "outputs": [
    {
     "name": "stdout",
     "output_type": "stream",
     "text": [
      "7360\n"
     ]
    }
   ],
   "source": [
    "#After short word or number deleted\n",
    "print(len(dict))"
   ]
  },
  {
   "cell_type": "code",
   "execution_count": null,
   "metadata": {},
   "outputs": [],
   "source": []
  },
  {
   "cell_type": "code",
   "execution_count": 107,
   "metadata": {
    "scrolled": true
   },
   "outputs": [
    {
     "name": "stdout",
     "output_type": "stream",
     "text": [
      "telefonu = 167\n",
      "aldım. = 66\n",
      "ekran = 168\n",
      "bence = 70\n",
      "telefonun = 77\n",
      "hepsiburada = 82\n",
      "samsung = 204\n",
      "fiyat = 113\n",
      "kesinlikle = 62\n",
      "tavsiye = 156\n",
      "bataryası = 73\n",
      "aldım = 73\n",
      "şarj = 110\n",
      "iyi = 294\n",
      "gün = 122\n",
      "gayet = 199\n",
      "fiyatına = 82\n",
      "güzel = 191\n",
      "telefon. = 82\n",
      "ederim = 69\n",
      "ürünü = 84\n",
      "hızlı = 102\n",
      "batarya = 103\n",
      "şarjı = 63\n",
      "ürün = 132\n",
      "telefon = 380\n",
      "kamera = 62\n",
      "ederim. = 74\n",
      "teşekkürler = 73\n",
      "fiyata = 128\n",
      "ekranı = 67\n",
      "hafıza = 93\n",
      "kartı = 76\n",
      "kargo = 63\n",
      "hediye = 86\n",
      "iyi. = 69\n",
      "yok = 63\n",
      "performans = 86\n",
      "kamerası = 71\n",
      "Number Of Word ========>  39\n"
     ]
    }
   ],
   "source": [
    "count = 0\n",
    "for x in dict:\n",
    "    if dict[x] > 60:\n",
    "        print(x,\"=\", dict[x])\n",
    "        count = count+1\n",
    "print(\"Number Of Word ========> \",count)"
   ]
  },
  {
   "cell_type": "code",
   "execution_count": 108,
   "metadata": {},
   "outputs": [],
   "source": [
    "#for x, y in dict.items():\n",
    " # print(x, y)"
   ]
  }
 ],
 "metadata": {
  "kernelspec": {
   "display_name": "Python 3",
   "language": "python",
   "name": "python3"
  },
  "language_info": {
   "codemirror_mode": {
    "name": "ipython",
    "version": 3
   },
   "file_extension": ".py",
   "mimetype": "text/x-python",
   "name": "python",
   "nbconvert_exporter": "python",
   "pygments_lexer": "ipython3",
   "version": "3.7.7"
  }
 },
 "nbformat": 4,
 "nbformat_minor": 4
}
